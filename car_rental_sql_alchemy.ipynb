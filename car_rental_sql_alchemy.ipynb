{
  "nbformat": 4,
  "nbformat_minor": 0,
  "metadata": {
    "colab": {
      "name": "car_rental_sql_alchemy.ipynb",
      "provenance": [],
      "collapsed_sections": [],
      "authorship_tag": "ABX9TyNypmOsjyxnnk0NUxQACXKj",
      "include_colab_link": true
    },
    "kernelspec": {
      "name": "python3",
      "display_name": "Python 3"
    }
  },
  "cells": [
    {
      "cell_type": "markdown",
      "metadata": {
        "id": "view-in-github",
        "colab_type": "text"
      },
      "source": [
        "<a href=\"https://colab.research.google.com/github/Zedbog/First_repository/blob/master/car_rental_sql_alchemy.ipynb\" target=\"_parent\"><img src=\"https://colab.research.google.com/assets/colab-badge.svg\" alt=\"Open In Colab\"/></a>"
      ]
    },
    {
      "cell_type": "code",
      "metadata": {
        "id": "4W8m5papASxJ",
        "outputId": "15e54186-bb57-4e24-d1da-5c0537a3e8d3",
        "colab": {
          "base_uri": "https://localhost:8080/",
          "height": 54
        }
      },
      "source": [
        "#Inizcalizacja środowsika Google Colab\n",
        "!apt-get install mysql-server > /dev/null\n",
        "!service mysql start\n",
        "!mysql -e \"ALTER USER 'root'@'localhost' IDENTIFIED WITH mysql_native_password BY 'root'\"\n",
        "!pip -q install PyMySQL"
      ],
      "execution_count": 12,
      "outputs": [
        {
          "output_type": "stream",
          "text": [
            " * Starting MySQL database server mysqld\n",
            "   ...done.\n"
          ],
          "name": "stdout"
        }
      ]
    },
    {
      "cell_type": "code",
      "metadata": {
        "id": "UxZWi48eBVd-"
      },
      "source": [
        "# zaimporotowanie bibliotek sqlalchemy \n",
        "from sqlalchemy import create_engine\n",
        "from sqlalchemy.ext.declarative import declarative_base\n",
        "from sqlalchemy import Column, String, Integer, Date"
      ],
      "execution_count": 13,
      "outputs": []
    },
    {
      "cell_type": "code",
      "metadata": {
        "id": "vqIOF-6bBodT"
      },
      "source": [
        "engine = create_engine('mysql+pymysql://root:root@/')\n",
        "\n",
        "#create database\n",
        "engine.execute(\"CREATE DATABASE car_rental\")\n",
        "#select new db\n",
        "engine.execute(\"USE car_rental\")"
      ],
      "execution_count": null,
      "outputs": []
    },
    {
      "cell_type": "code",
      "metadata": {
        "id": "h8J0UKpGKg8q"
      },
      "source": [
        "eng = create_engine(\"mysql+pymysql://root:root@/car_rental\")\n",
        "base = declarative_base()\n",
        "\n",
        "class Cars(base):\n",
        "  __tablename__ = 'cars'\n",
        "\n",
        "  car_id = Column(Integer, primary_key=True, autoincrement=True)\n",
        "  producer = Column(String(30), nullable=False)\n",
        "  model = Column(String(30), nullable=False)\n",
        "  year = Column(Integer, nullable=False)\n",
        "  horse_power = Column(Integer, nullable=False)\n",
        "  price_per_day = Column(Integer, nullable=False)\n",
        "\n",
        "  def __repr__(self):\n",
        "    return f\"<Car: id = {self.car_id}, Producer = {self.producer}, Model = {self.model}, Year = {self.year}, Horse_power = {self.horse_power}, Price_per_day = {self.price_per_day}>\"\n",
        "\n",
        "class Clients(base):\n",
        "  __tablename__ = 'clients'\n",
        "\n",
        "  client_id = Column(Integer, primary_key=True, autoincrement=True)\n",
        "  name = Column(String(30), nullable=False)\n",
        "  surname = Column(String(30), nullable=False)\n",
        "  address = Column(String(30), nullable=False)\n",
        "  city = Column(String(30), nullable=False)\n",
        "\n",
        "class Bookings(base):\n",
        "  __tablename__ = 'bookings'\n",
        "\n",
        "  booking_id = Column(Integer, primary_key=True, autoincrement=True)\n",
        "  client_id = Column(Integer, nullable=False)\n",
        "  car_id = Column(Integer, nullable=False)\n",
        "  start_date = Column(Date, nullable=False)\n",
        "  end_date = Column(Date, nullable=False)\n",
        "  total_amount = Column(Integer, nullable=False)\n",
        "\n",
        "base.metadata.create_all(eng)"
      ],
      "execution_count": 34,
      "outputs": []
    },
    {
      "cell_type": "code",
      "metadata": {
        "id": "t6enAPW8LPrK"
      },
      "source": [
        "#dodawanie rekordów - by zAPISAĆ REKORD POTRZEBUJEMY OBSŁUGI SESJI I PRZEKAZANIE W JEJ RAMACH OBIEKTU\n",
        "from sqlalchemy.orm import sessionmaker\n",
        "Session = sessionmaker(bind=eng)\n",
        "session = Session()\n",
        "client_1 = Clients(name='Jan', surname='Kowalski', address='ul. Florianska 12', city='Krakow')\n",
        "car_1 = Cars(producer='Seat', model='Leon', year=2016, horse_power=80, price_per_day=200)\n",
        "session.add(client_1)\n",
        "session.add(car_1)\n",
        "session.commit()"
      ],
      "execution_count": 22,
      "outputs": []
    },
    {
      "cell_type": "code",
      "metadata": {
        "id": "h0LUpBnhMkvj",
        "outputId": "81172dfc-2292-46c2-ab6e-fad6326dbc03",
        "colab": {
          "base_uri": "https://localhost:8080/",
          "height": 74
        }
      },
      "source": [
        "for car in session.query(Cars).all():\n",
        "  print(car)\n",
        "for client in session.query(Clients).all():\n",
        "  print(client)"
      ],
      "execution_count": 35,
      "outputs": [
        {
          "output_type": "stream",
          "text": [
            "<Car: id = 1, Producer = Seat, Model = Leon, Year = 2016, Horse_power = 80, Price_per_day = 200>\n",
            "<__main__.Clients object at 0x7f59730cea20>\n"
          ],
          "name": "stdout"
        }
      ]
    },
    {
      "cell_type": "code",
      "metadata": {
        "id": "n06MpZcZNWzo"
      },
      "source": [
        "# s_car = select([cars]).all()\n",
        "# for row in eng.execute(s):\n",
        "#   print(row)"
      ],
      "execution_count": null,
      "outputs": []
    }
  ]
}