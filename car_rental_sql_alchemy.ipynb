{
  "nbformat": 4,
  "nbformat_minor": 0,
  "metadata": {
    "colab": {
      "name": "car_rental_sql_alchemy.ipynb",
      "provenance": [],
      "collapsed_sections": [],
      "authorship_tag": "ABX9TyPJGW6yFuF4LO3ORLImdBY+",
      "include_colab_link": true
    },
    "kernelspec": {
      "name": "python3",
      "display_name": "Python 3"
    }
  },
  "cells": [
    {
      "cell_type": "markdown",
      "metadata": {
        "id": "view-in-github",
        "colab_type": "text"
      },
      "source": [
        "<a href=\"https://colab.research.google.com/github/Zedbog/First_repository/blob/master/car_rental_sql_alchemy.ipynb\" target=\"_parent\"><img src=\"https://colab.research.google.com/assets/colab-badge.svg\" alt=\"Open In Colab\"/></a>"
      ]
    },
    {
      "cell_type": "code",
      "metadata": {
        "id": "4W8m5papASxJ",
        "outputId": "15e54186-bb57-4e24-d1da-5c0537a3e8d3",
        "colab": {
          "base_uri": "https://localhost:8080/",
          "height": 54
        }
      },
      "source": [
        "#Inizcalizacja środowsika Google Colab\n",
        "!apt-get install mysql-server > /dev/null\n",
        "!service mysql start\n",
        "!mysql -e \"ALTER USER 'root'@'localhost' IDENTIFIED WITH mysql_native_password BY 'root'\"\n",
        "!pip -q install PyMySQL"
      ],
      "execution_count": 12,
      "outputs": [
        {
          "output_type": "stream",
          "text": [
            " * Starting MySQL database server mysqld\n",
            "   ...done.\n"
          ],
          "name": "stdout"
        }
      ]
    },
    {
      "cell_type": "code",
      "metadata": {
        "id": "UxZWi48eBVd-"
      },
      "source": [
        "# zaimporotowanie bibliotek sqlalchemy \n",
        "from sqlalchemy import create_engine\n",
        "from sqlalchemy.ext.declarative import declarative_base\n",
        "from sqlalchemy import Column, String, Integer, Date"
      ],
      "execution_count": 13,
      "outputs": []
    },
    {
      "cell_type": "code",
      "metadata": {
        "id": "vqIOF-6bBodT"
      },
      "source": [
        "engine = create_engine('mysql+pymysql://root:root@/')\n",
        "\n",
        "#create database\n",
        "engine.execute(\"CREATE DATABASE car_rental\")\n",
        "#select new db\n",
        "engine.execute(\"USE car_rental\")"
      ],
      "execution_count": null,
      "outputs": []
    },
    {
      "cell_type": "code",
      "metadata": {
        "id": "h8J0UKpGKg8q"
      },
      "source": [
        "eng = create_engine(\"mysql+pymysql://root:root@/car_rental\")\n",
        "base = declarative_base()\n",
        "\n",
        "class Cars(base):\n",
        "  __tablename__ = 'cars'\n",
        "\n",
        "  car_id = Column(Integer, primary_key=True, autoincrement=True)\n",
        "  producer = Column(String(30), nullable=False)\n",
        "  model = Column(String(30), nullable=False)\n",
        "  year = Column(Integer, nullable=False)\n",
        "  horse_power = Column(Integer, nullable=False)\n",
        "  price_per_day = Column(Integer, nullable=False)\n",
        "\n",
        "  def __repr__(self):\n",
        "    return f\"<Car: id = {self.car_id}, Producer = {self.producer}, Model = {self.model}, Year = {self.year}, Horse_power = {self.horse_power}, Price_per_day = {self.price_per_day}>\"\n",
        "\n",
        "class Clients(base):\n",
        "  __tablename__ = 'clients'\n",
        "\n",
        "  client_id = Column(Integer, primary_key=True, autoincrement=True)\n",
        "  name = Column(String(30), nullable=False)\n",
        "  surname = Column(String(30), nullable=False)\n",
        "  address = Column(String(30), nullable=False)\n",
        "  city = Column(String(30), nullable=False)\n",
        "\n",
        "  def __repr__(self):\n",
        "               return f\"<Client: Name: {self.name}, Surname: {self.surname}, Address: {self.address}, City: {self.city}>\"\n",
        "class Bookings(base):\n",
        "  __tablename__ = 'bookings'\n",
        "\n",
        "  booking_id = Column(Integer, primary_key=True, autoincrement=True)\n",
        "  client_id = Column(Integer, nullable=False)\n",
        "  car_id = Column(Integer, nullable=False)\n",
        "  start_date = Column(Date, nullable=False)\n",
        "  end_date = Column(Date, nullable=False)\n",
        "  total_amount = Column(Integer, nullable=False)\n",
        "\n",
        "  def __repr__(self):\n",
        "    return f\"<Booking: id: {self.booking_id}, Client_id: {self.client_id}, Car_id: {self.car_id}, Start_date: {self.start_date}, End_date: {self.end_date}, Total_amount: {self.total_amount}>\"\n",
        "base.metadata.create_all(eng)"
      ],
      "execution_count": 57,
      "outputs": []
    },
    {
      "cell_type": "code",
      "metadata": {
        "id": "t6enAPW8LPrK"
      },
      "source": [
        "#dodawanie rekordów - by zAPISAĆ REKORD POTRZEBUJEMY OBSŁUGI SESJI I PRZEKAZANIE W JEJ RAMACH OBIEKTU\n",
        "from sqlalchemy.orm import sessionmaker\n",
        "Session = sessionmaker(bind=eng)\n",
        "session = Session()\n",
        "client_1 = Clients(name='Jan', surname='Kowalski', address='ul. Florianska 12', city='Krakow')\n",
        "car_1 = Cars(producer='Seat', model='Leon', year=2016, horse_power=80, price_per_day=200)\n",
        "session.add(client_1)\n",
        "session.add(car_1)\n",
        "session.commit()"
      ],
      "execution_count": 22,
      "outputs": []
    },
    {
      "cell_type": "code",
      "metadata": {
        "id": "h0LUpBnhMkvj"
      },
      "source": [
        "for car in session.query(Cars).all():\n",
        "  print(car)\n",
        "for client in session.query(Clients).all():\n",
        "  print(client)"
      ],
      "execution_count": null,
      "outputs": []
    },
    {
      "cell_type": "code",
      "metadata": {
        "id": "n06MpZcZNWzo"
      },
      "source": [
        "# s_car = select([cars]).all()\n",
        "# for row in eng.execute(s):\n",
        "#   print(row)"
      ],
      "execution_count": null,
      "outputs": []
    },
    {
      "cell_type": "code",
      "metadata": {
        "id": "9eEs_wAhpH6A"
      },
      "source": [
        "clients = [\n",
        "{'name': 'Jan', 'surname': 'Kowalski', 'address': 'ul. Florianska 12', 'city': 'Krakow'},\n",
        "{'name': 'Andrzej', 'surname': 'Nowak', 'address': 'ul. Saska 43', 'city': 'Wroclaw'},\n",
        "{'name': 'Michal', 'surname': 'Taki', 'address': 'os. Srodkowe 12', 'city': 'Poznan'},\n",
        "{'name': 'Pawel', 'surname': 'Ktory', 'address': 'ul. Stara 11', 'city': 'Gdynia'},\n",
        "{'name': 'Anna', 'surname': 'Inna', 'address': 'os. Srednie 1', 'city': 'Gniezno'},\n",
        "{'name': 'Alicja', 'surname': 'Panna', 'address': 'os. Duze 33', 'city': 'Torun'},\n",
        "{'name': 'Damian', 'surname': 'Papa', 'address': 'ul. Skosna 66', 'city': 'Warszawa'},\n",
        "{'name': 'Marek', 'surname': 'Troska', 'address': 'os. Male 90', 'city': 'Radom'},\n",
        "{'name': 'Jakub', 'surname': 'Klos', 'address': 'os. Polskie 19', 'city': 'Wadowice'},\n",
        "{'name': 'Lukasz', 'surname': 'Lis', 'address': 'os. Podlaskie 90', 'city': 'Bialystok'}]\n",
        "cars = [\n",
        "{'producer': 'Seat', 'model': 'Leon', 'year': 2016, 'horse_power': 80, 'price_per_day': 200},\n",
        "{'producer': 'Toyota', 'model': 'Avensis', 'year': 2014, 'horse_power': 72, 'price_per_day': 100},\n",
        "{'producer': 'Mercedes', 'model': 'CLK', 'year': 2018, 'horse_power': 190, 'price_per_day': 400},\n",
        "{'producer': 'Hyundai', 'model': 'Coupe', 'year': 2014, 'horse_power': 165, 'price_per_day': 300},\n",
        "{'producer': 'Dacia', 'model': 'Logan', 'year': 2015, 'horse_power': 103, 'price_per_day': 150},\n",
        "{'producer': 'Saab', 'model': '95', 'year': 2012, 'horse_power': 140, 'price_per_day': 140},\n",
        "{'producer': 'BMW', 'model': 'E36', 'year': 2007, 'horse_power': 110, 'price_per_day': 80},\n",
        "{'producer': 'Fiat', 'model': 'Panda', 'year': 2016, 'horse_power': 77, 'price_per_day': 190},\n",
        "{'producer': 'Honda', 'model': 'Civic', 'year': 2019, 'horse_power': 130, 'price_per_day': 360},\n",
        "{'producer': 'Volvo', 'model': 'XC70', 'year': 2013, 'horse_power': 180, 'price_per_day': 280}]\n",
        "bookings = [\n",
        "{'client_id': 3, 'car_id': 3, 'start_date': '2020-07-06', 'end_date': '2020-07-08', 'total_amount': 400},\n",
        "{'client_id': 6, 'car_id': 10, 'start_date': '2020-07-10', 'end_date': '2020-07-16', 'total_amount': 1680},\n",
        "{'client_id': 4, 'car_id': 5, 'start_date': '2020-07-11', 'end_date': '2020-07-14', 'total_amount': 450},\n",
        "{'client_id': 5, 'car_id': 4, 'start_date': '2020-07-11', 'end_date': '2020-07-13', 'total_amount': 600},\n",
        "{'client_id': 7, 'car_id': 3, 'start_date': '2020-07-12', 'end_date': '2020-07-14', 'total_amount': 800},\n",
        "{'client_id': 5, 'car_id': 7, 'start_date': '2020-07-14', 'end_date': '2020-07-17', 'total_amount': 240},\n",
        "{'client_id': 3, 'car_id': 8, 'start_date': '2020-07-14', 'end_date': '2020-07-16', 'total_amount': 380},\n",
        "{'client_id': 5, 'car_id': 9, 'start_date': '2020-07-15', 'end_date': '2020-07-18', 'total_amount': 1080},\n",
        "{'client_id': 6, 'car_id': 10, 'start_date': '2020-07-16', 'end_date': '2020-07-20', 'total_amount': 1120},\n",
        "{'client_id': 8, 'car_id': 1, 'start_date': '2020-07-16', 'end_date': '2020-07-19', 'total_amount': 600},\n",
        "{'client_id': 9, 'car_id': 2, 'start_date': '2020-07-16', 'end_date': '2020-07-21', 'total_amount': 500},\n",
        "{'client_id': 10, 'car_id': 6, 'start_date': '2020-07-17', 'end_date': '2020-07-19', 'total_amount': 280},\n",
        "{'client_id': 1, 'car_id': 9, 'start_date': '2020-07-17', 'end_date': '2020-07-19', 'total_amount': 720},\n",
        "{'client_id': 3, 'car_id': 7, 'start_date': '2020-07-18', 'end_date': '2020-07-21', 'total_amount': 240},\n",
        "{'client_id': 5, 'car_id': 4, 'start_date': '2020-07-18', 'end_date': '2020-07-22', 'total_amount': 1200}]"
      ],
      "execution_count": 39,
      "outputs": []
    },
    {
      "cell_type": "code",
      "metadata": {
        "id": "4G6VvgbSpI4s"
      },
      "source": [
        "def insert_data(session, base,params):\n",
        "  session.add(base(**params))\n",
        "  session.commit()"
      ],
      "execution_count": 42,
      "outputs": []
    },
    {
      "cell_type": "code",
      "metadata": {
        "id": "Nkbfn_0FpaVA"
      },
      "source": [
        "for client in clients:\n",
        "  insert_data(session, Clients, client)\n",
        "for car in cars:\n",
        "  insert_data(session, Cars, car)\n",
        "for booking in bookings:\n",
        "  insert_data(session, Bookings, booking)"
      ],
      "execution_count": 43,
      "outputs": []
    },
    {
      "cell_type": "code",
      "metadata": {
        "id": "-Noch6aPqtjX"
      },
      "source": [
        "#Wypisanie wszystkich rezerwacji dla klienta o id=3\n",
        "result = session.query(Bookings).filter(Bookings.client_id == 3)\n",
        "for booking in result:\n",
        "  print(booking)"
      ],
      "execution_count": null,
      "outputs": []
    },
    {
      "cell_type": "code",
      "metadata": {
        "id": "elK6nLT9uQsH",
        "outputId": "e57ec98e-d0dc-489e-ee5d-63cf24178f77",
        "colab": {
          "base_uri": "https://localhost:8080/",
          "height": 56
        }
      },
      "source": [
        "#Wypisanie wszystkich rezerwacji dla klienta o id=3 za pomocą select\n",
        "from sqlalchemy.sql import select\n",
        "conn = eng.connect()\n",
        "s = select([Bookings]).where(Bookings.client_id == 3)\n",
        "result = conn.execute(s).fetchall()\n",
        "print(result)"
      ],
      "execution_count": 61,
      "outputs": [
        {
          "output_type": "stream",
          "text": [
            "[(1, 3, 3, datetime.date(2020, 7, 6), datetime.date(2020, 7, 8), 400), (7, 3, 8, datetime.date(2020, 7, 14), datetime.date(2020, 7, 16), 380), (14, 3, 7, datetime.date(2020, 7, 18), datetime.date(2020, 7, 21), 240)]\n"
          ],
          "name": "stdout"
        }
      ]
    },
    {
      "cell_type": "code",
      "metadata": {
        "id": "MFEfglIut50S"
      },
      "source": [
        "#Wypisanie wszsytkich wypożyczonych samochodów przez klienta o id = 5\n",
        "from sqlalchemy.sql import select\n",
        "from sqlalchemy import join\n",
        "\n",
        "j = join(Bookings, Cars, Bookings.car_id == Cars.car_id)\n",
        "s = select([Cars]).select_from(j).where(Bookings.client_id == 5)\n",
        "result = conn.execute(s)\n",
        "for car in result:\n",
        "  print(car)"
      ],
      "execution_count": null,
      "outputs": []
    }
  ]
}