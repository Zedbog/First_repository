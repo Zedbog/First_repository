{
  "nbformat": 4,
  "nbformat_minor": 0,
  "metadata": {
    "colab": {
      "name": "Kopia notatnika SkyNet_projekt_klasyfikacja.ipynb",
      "provenance": [],
      "collapsed_sections": [],
      "authorship_tag": "ABX9TyNkVNIJR0Hwrox8CIMEi/1e",
      "include_colab_link": true
    },
    "kernelspec": {
      "name": "python3",
      "display_name": "Python 3"
    }
  },
  "cells": [
    {
      "cell_type": "markdown",
      "metadata": {
        "id": "view-in-github",
        "colab_type": "text"
      },
      "source": [
        "<a href=\"https://colab.research.google.com/github/Zedbog/First_repository/blob/master/SkyNet_projekt_klasyfikacja_final.ipynb\" target=\"_parent\"><img src=\"https://colab.research.google.com/assets/colab-badge.svg\" alt=\"Open In Colab\"/></a>"
      ]
    },
    {
      "cell_type": "code",
      "metadata": {
        "id": "msesZjCuEOXy"
      },
      "source": [
        "from google.colab import drive\n",
        "from sklearn.model_selection import train_test_split\n",
        "from sklearn.model_selection import StratifiedKFold\n",
        "import pandas as pd\n",
        "from sklearn.metrics import confusion_matrix, classification_report\n",
        "import seaborn as sns\n",
        "import numpy as np\n",
        "from sklearn.metrics import accuracy_score, precision_score, recall_score, f1_score\n",
        "from sklearn.model_selection import GridSearchCV\n",
        "from sklearn.linear_model import  LogisticRegression\n",
        "from sklearn.neighbors import KNeighborsClassifier\n",
        "from sklearn.tree import DecisionTreeClassifier\n",
        "from sklearn.naive_bayes import MultinomialNB, GaussianNB\n",
        "from sklearn.svm import SVC\n",
        "from sklearn.ensemble import BaggingClassifier\n",
        "from sklearn.ensemble import AdaBoostClassifier\n",
        "from sklearn.ensemble import RandomForestClassifier\n",
        "from sklearn.ensemble import VotingClassifier\n",
        "from sklearn.preprocessing import StandardScaler\n",
        "from sklearn.preprocessing import MinMaxScaler\n",
        "from sklearn.preprocessing import Normalizer\n",
        "from sklearn.preprocessing import KBinsDiscretizer\n",
        "from sklearn.preprocessing import LabelEncoder\n",
        "from google.colab import files\n",
        "from bs4 import BeautifulSoup\n",
        "import requests\n",
        "import re\n",
        "from sklearn.utils import resample\n",
        "from sklearn.decomposition import PCA # służy do redukcji wymiarów\n",
        "%matplotlib inline\n",
        "import matplotlib.pyplot as plt"
      ],
      "execution_count": 1,
      "outputs": []
    },
    {
      "cell_type": "code",
      "metadata": {
        "colab": {
          "base_uri": "https://localhost:8080/"
        },
        "id": "JRRQv4rfF2k9",
        "outputId": "febaec22-0723-43f8-90d3-b03e69bbf6a5"
      },
      "source": [
        "drive.mount(\"/content/drive\")\\"
      ],
      "execution_count": 2,
      "outputs": [
        {
          "output_type": "stream",
          "text": [
            "Mounted at /content/drive\n"
          ],
          "name": "stdout"
        }
      ]
    },
    {
      "cell_type": "code",
      "metadata": {
        "id": "fFNYDZJ0moCW"
      },
      "source": [
        "#for i in range(4):\n",
        "  #files.upload()"
      ],
      "execution_count": null,
      "outputs": []
    },
    {
      "cell_type": "code",
      "metadata": {
        "id": "bLtB5aqGSBTZ"
      },
      "source": [
        "# Wczytanie danych\n",
        "df1 = pd.read_csv('/content/drive/MyDrive/02_Projekt_praktyczny_klasyfikacja/df1.csv')\n",
        "df2 = pd.read_csv('/content/drive/MyDrive/02_Projekt_praktyczny_klasyfikacja/df2.csv')\n",
        "attrition = pd.read_csv('/content/drive/MyDrive/02_Projekt_praktyczny_klasyfikacja/attrition.csv')\n",
        "sample = pd.read_csv('/content/drive/MyDrive/02_Projekt_praktyczny_klasyfikacja/sample_output.csv')"
      ],
      "execution_count": 3,
      "outputs": []
    },
    {
      "cell_type": "code",
      "metadata": {
        "id": "N7Nor5N2SkRr"
      },
      "source": [
        "df1.head()"
      ],
      "execution_count": null,
      "outputs": []
    },
    {
      "cell_type": "code",
      "metadata": {
        "id": "3BBTo564Smhl"
      },
      "source": [
        "df2.head()"
      ],
      "execution_count": null,
      "outputs": []
    },
    {
      "cell_type": "code",
      "metadata": {
        "id": "6_6bDcgvSoze"
      },
      "source": [
        "attrition.head()"
      ],
      "execution_count": null,
      "outputs": []
    },
    {
      "cell_type": "code",
      "metadata": {
        "id": "qdLCrufnSqqA"
      },
      "source": [
        "sample.head()"
      ],
      "execution_count": null,
      "outputs": []
    },
    {
      "cell_type": "code",
      "metadata": {
        "id": "whA-h72zS4m8"
      },
      "source": [
        "#Sprawdzenie rozmiaru danych\n",
        "df1.shape , df2.shape, attrition.shape"
      ],
      "execution_count": null,
      "outputs": []
    },
    {
      "cell_type": "code",
      "metadata": {
        "id": "6eb1W2X0TEZ3"
      },
      "source": [
        "attrition.value_counts()"
      ],
      "execution_count": null,
      "outputs": []
    },
    {
      "cell_type": "code",
      "metadata": {
        "colab": {
          "base_uri": "https://localhost:8080/"
        },
        "id": "v6D0haAZTaAe",
        "outputId": "fb3c4969-7971-433c-b529-a8af1f07bfda"
      },
      "source": [
        "# Podział danych wyjściowych na treningowe i finalne testowe\n",
        "attrition_test = attrition[(attrition.Attrition == 'Yes') | (attrition.Attrition == 'No')]\n",
        "attrition_final_test = attrition[(attrition.Attrition != 'Yes') & (attrition.Attrition != 'No')]\n",
        "# Sprawdzenie rozmiaru podzielonych próbek\n",
        "attrition_test.shape, attrition_final_test.shape  "
      ],
      "execution_count": 4,
      "outputs": [
        {
          "output_type": "execute_result",
          "data": {
            "text/plain": [
              "((4302, 2), (147, 2))"
            ]
          },
          "metadata": {
            "tags": []
          },
          "execution_count": 4
        }
      ]
    },
    {
      "cell_type": "code",
      "metadata": {
        "colab": {
          "base_uri": "https://localhost:8080/"
        },
        "id": "0IBWFJI2Sye6",
        "outputId": "19ec2397-371f-4d8f-9c44-97dd34315a5f"
      },
      "source": [
        "# Zscalenie danych df1 i df2\n",
        "data = data = pd.concat([df1,df2],axis=1)\n",
        "# Sprawdzenie rozmiaru połączonych danych\n",
        "print(f'{data.shape}\\n')"
      ],
      "execution_count": 5,
      "outputs": [
        {
          "output_type": "stream",
          "text": [
            "(4449, 37)\n",
            "\n"
          ],
          "name": "stdout"
        }
      ]
    },
    {
      "cell_type": "code",
      "metadata": {
        "colab": {
          "base_uri": "https://localhost:8080/",
          "height": 313
        },
        "id": "Hpb6Kj9LcqSl",
        "outputId": "55708547-2f5a-4e3d-88d7-ac32f982a917"
      },
      "source": [
        "data.head()"
      ],
      "execution_count": 6,
      "outputs": [
        {
          "output_type": "execute_result",
          "data": {
            "text/html": [
              "<div>\n",
              "<style scoped>\n",
              "    .dataframe tbody tr th:only-of-type {\n",
              "        vertical-align: middle;\n",
              "    }\n",
              "\n",
              "    .dataframe tbody tr th {\n",
              "        vertical-align: top;\n",
              "    }\n",
              "\n",
              "    .dataframe thead th {\n",
              "        text-align: right;\n",
              "    }\n",
              "</style>\n",
              "<table border=\"1\" class=\"dataframe\">\n",
              "  <thead>\n",
              "    <tr style=\"text-align: right;\">\n",
              "      <th></th>\n",
              "      <th>EmployeeNumber</th>\n",
              "      <th>Age</th>\n",
              "      <th>BusinessTravel</th>\n",
              "      <th>DailyRate</th>\n",
              "      <th>Department</th>\n",
              "      <th>DistanceFromHome</th>\n",
              "      <th>Education</th>\n",
              "      <th>EducationField</th>\n",
              "      <th>EmployeeCount</th>\n",
              "      <th>EnvironmentSatisfaction</th>\n",
              "      <th>Gender</th>\n",
              "      <th>HourlyRate</th>\n",
              "      <th>JobInvolvement</th>\n",
              "      <th>JobLevel</th>\n",
              "      <th>JobRole</th>\n",
              "      <th>JobSatisfaction</th>\n",
              "      <th>MaritalStatus</th>\n",
              "      <th>MonthlyIncome</th>\n",
              "      <th>MonthlyRate</th>\n",
              "      <th>NumCompaniesWorked</th>\n",
              "      <th>EmployeeNumber</th>\n",
              "      <th>Over18</th>\n",
              "      <th>OverTime</th>\n",
              "      <th>PercentSalaryHike</th>\n",
              "      <th>PerformanceRating</th>\n",
              "      <th>RelationshipSatisfaction</th>\n",
              "      <th>StandardHours</th>\n",
              "      <th>StockOptionLevel</th>\n",
              "      <th>TotalWorkingYears</th>\n",
              "      <th>TrainingTimesLastYear</th>\n",
              "      <th>WorkLifeBalance</th>\n",
              "      <th>YearsAtCompany</th>\n",
              "      <th>YearsInCurrentRole</th>\n",
              "      <th>YearsSinceLastPromotion</th>\n",
              "      <th>YearsWithCurrManager</th>\n",
              "      <th>Attrition</th>\n",
              "      <th>YearlyIncome</th>\n",
              "    </tr>\n",
              "  </thead>\n",
              "  <tbody>\n",
              "    <tr>\n",
              "      <th>0</th>\n",
              "      <td>104</td>\n",
              "      <td>30.0</td>\n",
              "      <td>Travel_Rarely</td>\n",
              "      <td>852.0</td>\n",
              "      <td>Research &amp; Development</td>\n",
              "      <td>1.0</td>\n",
              "      <td>1.0</td>\n",
              "      <td>Life Sciences</td>\n",
              "      <td>1.0</td>\n",
              "      <td>4.0</td>\n",
              "      <td>Male</td>\n",
              "      <td>55.0</td>\n",
              "      <td>2.0</td>\n",
              "      <td>2.0</td>\n",
              "      <td>Laboratory Technician</td>\n",
              "      <td>4.0</td>\n",
              "      <td>Married</td>\n",
              "      <td>5126.0</td>\n",
              "      <td>15998.0</td>\n",
              "      <td>1.0</td>\n",
              "      <td>104</td>\n",
              "      <td>Y</td>\n",
              "      <td>Yes</td>\n",
              "      <td>12.0</td>\n",
              "      <td>3.0</td>\n",
              "      <td>3.0</td>\n",
              "      <td>80.0</td>\n",
              "      <td>2.0</td>\n",
              "      <td>10.0</td>\n",
              "      <td>1.0</td>\n",
              "      <td>2.0</td>\n",
              "      <td>10.0</td>\n",
              "      <td>8.0</td>\n",
              "      <td>3.0</td>\n",
              "      <td>0.0</td>\n",
              "      <td>No</td>\n",
              "      <td>61512.0</td>\n",
              "    </tr>\n",
              "    <tr>\n",
              "      <th>1</th>\n",
              "      <td>1638</td>\n",
              "      <td>38.0</td>\n",
              "      <td>Travel_Rarely</td>\n",
              "      <td>397.0</td>\n",
              "      <td>Research &amp; Development</td>\n",
              "      <td>2.0</td>\n",
              "      <td>2.0</td>\n",
              "      <td>Medical</td>\n",
              "      <td>1.0</td>\n",
              "      <td>4.0</td>\n",
              "      <td>Female</td>\n",
              "      <td>54.0</td>\n",
              "      <td>2.0</td>\n",
              "      <td>3.0</td>\n",
              "      <td>Manufacturing Director</td>\n",
              "      <td>3.0</td>\n",
              "      <td>Married</td>\n",
              "      <td>7756.0</td>\n",
              "      <td>14199.0</td>\n",
              "      <td>3.0</td>\n",
              "      <td>1638</td>\n",
              "      <td>Y</td>\n",
              "      <td>Yes</td>\n",
              "      <td>19.0</td>\n",
              "      <td>3.0</td>\n",
              "      <td>4.0</td>\n",
              "      <td>80.0</td>\n",
              "      <td>1.0</td>\n",
              "      <td>10.0</td>\n",
              "      <td>6.0</td>\n",
              "      <td>4.0</td>\n",
              "      <td>5.0</td>\n",
              "      <td>4.0</td>\n",
              "      <td>0.0</td>\n",
              "      <td>2.0</td>\n",
              "      <td>No</td>\n",
              "      <td>93072.0</td>\n",
              "    </tr>\n",
              "    <tr>\n",
              "      <th>2</th>\n",
              "      <td>164</td>\n",
              "      <td>26.0</td>\n",
              "      <td>Travel_Rarely</td>\n",
              "      <td>841.0</td>\n",
              "      <td>Research &amp; Development</td>\n",
              "      <td>6.0</td>\n",
              "      <td>3.0</td>\n",
              "      <td>Other</td>\n",
              "      <td>1.0</td>\n",
              "      <td>3.0</td>\n",
              "      <td>Female</td>\n",
              "      <td>46.0</td>\n",
              "      <td>2.0</td>\n",
              "      <td>1.0</td>\n",
              "      <td>Research Scientist</td>\n",
              "      <td>2.0</td>\n",
              "      <td>Married</td>\n",
              "      <td>2368.0</td>\n",
              "      <td>23300.0</td>\n",
              "      <td>1.0</td>\n",
              "      <td>164</td>\n",
              "      <td>Y</td>\n",
              "      <td>No</td>\n",
              "      <td>19.0</td>\n",
              "      <td>3.0</td>\n",
              "      <td>3.0</td>\n",
              "      <td>80.0</td>\n",
              "      <td>0.0</td>\n",
              "      <td>5.0</td>\n",
              "      <td>3.0</td>\n",
              "      <td>2.0</td>\n",
              "      <td>5.0</td>\n",
              "      <td>4.0</td>\n",
              "      <td>4.0</td>\n",
              "      <td>3.0</td>\n",
              "      <td>No</td>\n",
              "      <td>28416.0</td>\n",
              "    </tr>\n",
              "    <tr>\n",
              "      <th>3</th>\n",
              "      <td>395</td>\n",
              "      <td>28.0</td>\n",
              "      <td>Travel_Rarely</td>\n",
              "      <td>1117.0</td>\n",
              "      <td>Research &amp; Development</td>\n",
              "      <td>8.0</td>\n",
              "      <td>2.0</td>\n",
              "      <td>Life Sciences</td>\n",
              "      <td>1.0</td>\n",
              "      <td>4.0</td>\n",
              "      <td>Female</td>\n",
              "      <td>66.0</td>\n",
              "      <td>3.0</td>\n",
              "      <td>1.0</td>\n",
              "      <td>Research Scientist</td>\n",
              "      <td>4.0</td>\n",
              "      <td>Single</td>\n",
              "      <td>3310.0</td>\n",
              "      <td>4488.0</td>\n",
              "      <td>1.0</td>\n",
              "      <td>395</td>\n",
              "      <td>Y</td>\n",
              "      <td>No</td>\n",
              "      <td>21.0</td>\n",
              "      <td>4.0</td>\n",
              "      <td>4.0</td>\n",
              "      <td>80.0</td>\n",
              "      <td>0.0</td>\n",
              "      <td>5.0</td>\n",
              "      <td>3.0</td>\n",
              "      <td>3.0</td>\n",
              "      <td>5.0</td>\n",
              "      <td>3.0</td>\n",
              "      <td>0.0</td>\n",
              "      <td>2.0</td>\n",
              "      <td>No</td>\n",
              "      <td>39720.0</td>\n",
              "    </tr>\n",
              "    <tr>\n",
              "      <th>4</th>\n",
              "      <td>53</td>\n",
              "      <td>35.0</td>\n",
              "      <td>Travel_Rarely</td>\n",
              "      <td>464.0</td>\n",
              "      <td>Research &amp; Development</td>\n",
              "      <td>4.0</td>\n",
              "      <td>2.0</td>\n",
              "      <td>Other</td>\n",
              "      <td>1.0</td>\n",
              "      <td>3.0</td>\n",
              "      <td>Male</td>\n",
              "      <td>75.0</td>\n",
              "      <td>3.0</td>\n",
              "      <td>1.0</td>\n",
              "      <td>Laboratory Technician</td>\n",
              "      <td>4.0</td>\n",
              "      <td>Divorced</td>\n",
              "      <td>1951.0</td>\n",
              "      <td>10910.0</td>\n",
              "      <td>1.0</td>\n",
              "      <td>53</td>\n",
              "      <td>Y</td>\n",
              "      <td>No</td>\n",
              "      <td>12.0</td>\n",
              "      <td>3.0</td>\n",
              "      <td>3.0</td>\n",
              "      <td>80.0</td>\n",
              "      <td>1.0</td>\n",
              "      <td>1.0</td>\n",
              "      <td>3.0</td>\n",
              "      <td>3.0</td>\n",
              "      <td>1.0</td>\n",
              "      <td>0.0</td>\n",
              "      <td>0.0</td>\n",
              "      <td>0.0</td>\n",
              "      <td>No</td>\n",
              "      <td>23412.0</td>\n",
              "    </tr>\n",
              "  </tbody>\n",
              "</table>\n",
              "</div>"
            ],
            "text/plain": [
              "   EmployeeNumber   Age  ... Attrition  YearlyIncome\n",
              "0             104  30.0  ...        No       61512.0\n",
              "1            1638  38.0  ...        No       93072.0\n",
              "2             164  26.0  ...        No       28416.0\n",
              "3             395  28.0  ...        No       39720.0\n",
              "4              53  35.0  ...        No       23412.0\n",
              "\n",
              "[5 rows x 37 columns]"
            ]
          },
          "metadata": {
            "tags": []
          },
          "execution_count": 6
        }
      ]
    },
    {
      "cell_type": "code",
      "metadata": {
        "colab": {
          "base_uri": "https://localhost:8080/"
        },
        "id": "ISrR9mXqbIQN",
        "outputId": "ff3a8e02-56d9-4375-f24c-9b7e1e79d72b"
      },
      "source": [
        "# Usunięcie zduplikowanej kolumny w wyniku zscalenia\n",
        "data = data.loc[:,~data.columns.duplicated()]\n",
        "# Sprawdzenie rozmiaru połączonych danych\n",
        "print(f'{data.shape}')"
      ],
      "execution_count": 7,
      "outputs": [
        {
          "output_type": "stream",
          "text": [
            "(4449, 36)\n"
          ],
          "name": "stdout"
        }
      ]
    },
    {
      "cell_type": "code",
      "metadata": {
        "colab": {
          "base_uri": "https://localhost:8080/",
          "height": 313
        },
        "id": "5FMmBno-TOlQ",
        "outputId": "8474ba11-8bbe-43bb-99d9-a9406014ad5f"
      },
      "source": [
        "data.tail()"
      ],
      "execution_count": null,
      "outputs": [
        {
          "output_type": "execute_result",
          "data": {
            "text/html": [
              "<div>\n",
              "<style scoped>\n",
              "    .dataframe tbody tr th:only-of-type {\n",
              "        vertical-align: middle;\n",
              "    }\n",
              "\n",
              "    .dataframe tbody tr th {\n",
              "        vertical-align: top;\n",
              "    }\n",
              "\n",
              "    .dataframe thead th {\n",
              "        text-align: right;\n",
              "    }\n",
              "</style>\n",
              "<table border=\"1\" class=\"dataframe\">\n",
              "  <thead>\n",
              "    <tr style=\"text-align: right;\">\n",
              "      <th></th>\n",
              "      <th>EmployeeNumber</th>\n",
              "      <th>Age</th>\n",
              "      <th>BusinessTravel</th>\n",
              "      <th>DailyRate</th>\n",
              "      <th>Department</th>\n",
              "      <th>DistanceFromHome</th>\n",
              "      <th>Education</th>\n",
              "      <th>EducationField</th>\n",
              "      <th>EmployeeCount</th>\n",
              "      <th>EnvironmentSatisfaction</th>\n",
              "      <th>Gender</th>\n",
              "      <th>HourlyRate</th>\n",
              "      <th>JobInvolvement</th>\n",
              "      <th>JobLevel</th>\n",
              "      <th>JobRole</th>\n",
              "      <th>JobSatisfaction</th>\n",
              "      <th>MaritalStatus</th>\n",
              "      <th>MonthlyIncome</th>\n",
              "      <th>MonthlyRate</th>\n",
              "      <th>NumCompaniesWorked</th>\n",
              "      <th>Over18</th>\n",
              "      <th>OverTime</th>\n",
              "      <th>PercentSalaryHike</th>\n",
              "      <th>PerformanceRating</th>\n",
              "      <th>RelationshipSatisfaction</th>\n",
              "      <th>StandardHours</th>\n",
              "      <th>StockOptionLevel</th>\n",
              "      <th>TotalWorkingYears</th>\n",
              "      <th>TrainingTimesLastYear</th>\n",
              "      <th>WorkLifeBalance</th>\n",
              "      <th>YearsAtCompany</th>\n",
              "      <th>YearsInCurrentRole</th>\n",
              "      <th>YearsSinceLastPromotion</th>\n",
              "      <th>YearsWithCurrManager</th>\n",
              "      <th>Attrition</th>\n",
              "      <th>YearlyIncome</th>\n",
              "    </tr>\n",
              "  </thead>\n",
              "  <tbody>\n",
              "    <tr>\n",
              "      <th>4444</th>\n",
              "      <td>7975</td>\n",
              "      <td>8823.0</td>\n",
              "      <td>Travel_Rarely</td>\n",
              "      <td>621.0</td>\n",
              "      <td>Research &amp; Development</td>\n",
              "      <td>15.0</td>\n",
              "      <td>3.0</td>\n",
              "      <td>Medical</td>\n",
              "      <td>1.0</td>\n",
              "      <td>1.0</td>\n",
              "      <td>Female</td>\n",
              "      <td>73.0</td>\n",
              "      <td>3.0</td>\n",
              "      <td>3.0</td>\n",
              "      <td>Healthcare Representative</td>\n",
              "      <td>4.0</td>\n",
              "      <td>Married</td>\n",
              "      <td>7978.0</td>\n",
              "      <td>14075.0</td>\n",
              "      <td>1.0</td>\n",
              "      <td>Y</td>\n",
              "      <td>No</td>\n",
              "      <td>11.0</td>\n",
              "      <td>3.0</td>\n",
              "      <td>4.0</td>\n",
              "      <td>80.0</td>\n",
              "      <td>1.0</td>\n",
              "      <td>10.0</td>\n",
              "      <td>2.0</td>\n",
              "      <td>3.0</td>\n",
              "      <td>10.0</td>\n",
              "      <td>7.0</td>\n",
              "      <td>0.0</td>\n",
              "      <td>5.0</td>\n",
              "      <td>Yes</td>\n",
              "      <td>95736.0</td>\n",
              "    </tr>\n",
              "    <tr>\n",
              "      <th>4445</th>\n",
              "      <td>7976</td>\n",
              "      <td>8823.0</td>\n",
              "      <td>Travel_Rarely</td>\n",
              "      <td>621.0</td>\n",
              "      <td>Research &amp; Development</td>\n",
              "      <td>15.0</td>\n",
              "      <td>3.0</td>\n",
              "      <td>Medical</td>\n",
              "      <td>1.0</td>\n",
              "      <td>1.0</td>\n",
              "      <td>Female</td>\n",
              "      <td>73.0</td>\n",
              "      <td>3.0</td>\n",
              "      <td>3.0</td>\n",
              "      <td>Healthcare Representative</td>\n",
              "      <td>4.0</td>\n",
              "      <td>Married</td>\n",
              "      <td>7978.0</td>\n",
              "      <td>14075.0</td>\n",
              "      <td>1.0</td>\n",
              "      <td>Y</td>\n",
              "      <td>No</td>\n",
              "      <td>11.0</td>\n",
              "      <td>3.0</td>\n",
              "      <td>4.0</td>\n",
              "      <td>80.0</td>\n",
              "      <td>1.0</td>\n",
              "      <td>10.0</td>\n",
              "      <td>2.0</td>\n",
              "      <td>3.0</td>\n",
              "      <td>10.0</td>\n",
              "      <td>7.0</td>\n",
              "      <td>0.0</td>\n",
              "      <td>5.0</td>\n",
              "      <td>Yes</td>\n",
              "      <td>95736.0</td>\n",
              "    </tr>\n",
              "    <tr>\n",
              "      <th>4446</th>\n",
              "      <td>7977</td>\n",
              "      <td>44.0</td>\n",
              "      <td>Non-Travel</td>\n",
              "      <td>381.0</td>\n",
              "      <td>Research &amp; Development</td>\n",
              "      <td>918785.0</td>\n",
              "      <td>3.0</td>\n",
              "      <td>Medical</td>\n",
              "      <td>1.0</td>\n",
              "      <td>1.0</td>\n",
              "      <td>Male</td>\n",
              "      <td>49.0</td>\n",
              "      <td>1.0</td>\n",
              "      <td>1.0</td>\n",
              "      <td>Laboratory Technician</td>\n",
              "      <td>3.0</td>\n",
              "      <td>Single</td>\n",
              "      <td>3708.0</td>\n",
              "      <td>2104.0</td>\n",
              "      <td>2.0</td>\n",
              "      <td>Y</td>\n",
              "      <td>No</td>\n",
              "      <td>14.0</td>\n",
              "      <td>3.0</td>\n",
              "      <td>3.0</td>\n",
              "      <td>80.0</td>\n",
              "      <td>0.0</td>\n",
              "      <td>9.0</td>\n",
              "      <td>5.0</td>\n",
              "      <td>3.0</td>\n",
              "      <td>5.0</td>\n",
              "      <td>2.0</td>\n",
              "      <td>1.0</td>\n",
              "      <td>4.0</td>\n",
              "      <td>Yes</td>\n",
              "      <td>44496.0</td>\n",
              "    </tr>\n",
              "    <tr>\n",
              "      <th>4447</th>\n",
              "      <td>7978</td>\n",
              "      <td>44.0</td>\n",
              "      <td>Non-Travel</td>\n",
              "      <td>381.0</td>\n",
              "      <td>Research &amp; Development</td>\n",
              "      <td>918785.0</td>\n",
              "      <td>3.0</td>\n",
              "      <td>Medical</td>\n",
              "      <td>1.0</td>\n",
              "      <td>1.0</td>\n",
              "      <td>Male</td>\n",
              "      <td>49.0</td>\n",
              "      <td>1.0</td>\n",
              "      <td>1.0</td>\n",
              "      <td>Laboratory Technician</td>\n",
              "      <td>3.0</td>\n",
              "      <td>Single</td>\n",
              "      <td>3708.0</td>\n",
              "      <td>2104.0</td>\n",
              "      <td>2.0</td>\n",
              "      <td>Y</td>\n",
              "      <td>No</td>\n",
              "      <td>14.0</td>\n",
              "      <td>3.0</td>\n",
              "      <td>3.0</td>\n",
              "      <td>80.0</td>\n",
              "      <td>0.0</td>\n",
              "      <td>9.0</td>\n",
              "      <td>5.0</td>\n",
              "      <td>3.0</td>\n",
              "      <td>5.0</td>\n",
              "      <td>2.0</td>\n",
              "      <td>1.0</td>\n",
              "      <td>4.0</td>\n",
              "      <td>Yes</td>\n",
              "      <td>44496.0</td>\n",
              "    </tr>\n",
              "    <tr>\n",
              "      <th>4448</th>\n",
              "      <td>7979</td>\n",
              "      <td>44.0</td>\n",
              "      <td>Non-Travel</td>\n",
              "      <td>381.0</td>\n",
              "      <td>Research &amp; Development</td>\n",
              "      <td>918785.0</td>\n",
              "      <td>3.0</td>\n",
              "      <td>Medical</td>\n",
              "      <td>1.0</td>\n",
              "      <td>1.0</td>\n",
              "      <td>Male</td>\n",
              "      <td>49.0</td>\n",
              "      <td>1.0</td>\n",
              "      <td>1.0</td>\n",
              "      <td>Laboratory Technician</td>\n",
              "      <td>3.0</td>\n",
              "      <td>Single</td>\n",
              "      <td>3708.0</td>\n",
              "      <td>2104.0</td>\n",
              "      <td>2.0</td>\n",
              "      <td>Y</td>\n",
              "      <td>No</td>\n",
              "      <td>14.0</td>\n",
              "      <td>3.0</td>\n",
              "      <td>3.0</td>\n",
              "      <td>80.0</td>\n",
              "      <td>0.0</td>\n",
              "      <td>9.0</td>\n",
              "      <td>5.0</td>\n",
              "      <td>3.0</td>\n",
              "      <td>5.0</td>\n",
              "      <td>2.0</td>\n",
              "      <td>1.0</td>\n",
              "      <td>4.0</td>\n",
              "      <td>Yes</td>\n",
              "      <td>44496.0</td>\n",
              "    </tr>\n",
              "  </tbody>\n",
              "</table>\n",
              "</div>"
            ],
            "text/plain": [
              "      EmployeeNumber     Age  ... Attrition  YearlyIncome\n",
              "4444            7975  8823.0  ...       Yes       95736.0\n",
              "4445            7976  8823.0  ...       Yes       95736.0\n",
              "4446            7977    44.0  ...       Yes       44496.0\n",
              "4447            7978    44.0  ...       Yes       44496.0\n",
              "4448            7979    44.0  ...       Yes       44496.0\n",
              "\n",
              "[5 rows x 36 columns]"
            ]
          },
          "metadata": {
            "tags": []
          },
          "execution_count": 83
        }
      ]
    },
    {
      "cell_type": "code",
      "metadata": {
        "id": "W6wtuyr2fi8c"
      },
      "source": [
        "# Usunięcie nic nie wnoszących danych\n",
        "data = data.drop(['EmployeeCount', 'StandardHours', 'YearlyIncome', 'Over18'], axis = 1)"
      ],
      "execution_count": 8,
      "outputs": []
    },
    {
      "cell_type": "code",
      "metadata": {
        "colab": {
          "base_uri": "https://localhost:8080/"
        },
        "id": "a9pD6mdUeaft",
        "outputId": "4b5c5736-dbd7-44ab-811a-7b7de5956b68"
      },
      "source": [
        "# Podział danych wejściowych na treningowe i finalne testowe\n",
        "data_final_test = data[data.EmployeeNumber >= 10000]\n",
        "data_test = data[data.EmployeeNumber < 10000]\n",
        "# Sprawdzenie rozmiaru podzielonych próbek\n",
        "data_test.shape, data_final_test.shape  "
      ],
      "execution_count": 9,
      "outputs": [
        {
          "output_type": "execute_result",
          "data": {
            "text/plain": [
              "((4302, 32), (147, 32))"
            ]
          },
          "metadata": {
            "tags": []
          },
          "execution_count": 9
        }
      ]
    },
    {
      "cell_type": "code",
      "metadata": {
        "id": "nzE57NMUhoZS",
        "colab": {
          "base_uri": "https://localhost:8080/",
          "height": 313
        },
        "outputId": "4d587284-3e09-4a8d-cacf-0471363acfe6"
      },
      "source": [
        "data_final_test.head() # Attrition w tym zbiorze to NaNy"
      ],
      "execution_count": 10,
      "outputs": [
        {
          "output_type": "execute_result",
          "data": {
            "text/html": [
              "<div>\n",
              "<style scoped>\n",
              "    .dataframe tbody tr th:only-of-type {\n",
              "        vertical-align: middle;\n",
              "    }\n",
              "\n",
              "    .dataframe tbody tr th {\n",
              "        vertical-align: top;\n",
              "    }\n",
              "\n",
              "    .dataframe thead th {\n",
              "        text-align: right;\n",
              "    }\n",
              "</style>\n",
              "<table border=\"1\" class=\"dataframe\">\n",
              "  <thead>\n",
              "    <tr style=\"text-align: right;\">\n",
              "      <th></th>\n",
              "      <th>EmployeeNumber</th>\n",
              "      <th>Age</th>\n",
              "      <th>BusinessTravel</th>\n",
              "      <th>DailyRate</th>\n",
              "      <th>Department</th>\n",
              "      <th>DistanceFromHome</th>\n",
              "      <th>Education</th>\n",
              "      <th>EducationField</th>\n",
              "      <th>EnvironmentSatisfaction</th>\n",
              "      <th>Gender</th>\n",
              "      <th>HourlyRate</th>\n",
              "      <th>JobInvolvement</th>\n",
              "      <th>JobLevel</th>\n",
              "      <th>JobRole</th>\n",
              "      <th>JobSatisfaction</th>\n",
              "      <th>MaritalStatus</th>\n",
              "      <th>MonthlyIncome</th>\n",
              "      <th>MonthlyRate</th>\n",
              "      <th>NumCompaniesWorked</th>\n",
              "      <th>OverTime</th>\n",
              "      <th>PercentSalaryHike</th>\n",
              "      <th>PerformanceRating</th>\n",
              "      <th>RelationshipSatisfaction</th>\n",
              "      <th>StockOptionLevel</th>\n",
              "      <th>TotalWorkingYears</th>\n",
              "      <th>TrainingTimesLastYear</th>\n",
              "      <th>WorkLifeBalance</th>\n",
              "      <th>YearsAtCompany</th>\n",
              "      <th>YearsInCurrentRole</th>\n",
              "      <th>YearsSinceLastPromotion</th>\n",
              "      <th>YearsWithCurrManager</th>\n",
              "      <th>Attrition</th>\n",
              "    </tr>\n",
              "  </thead>\n",
              "  <tbody>\n",
              "    <tr>\n",
              "      <th>1323</th>\n",
              "      <td>100000</td>\n",
              "      <td>35.0</td>\n",
              "      <td>Travel_Rarely</td>\n",
              "      <td>1343.0</td>\n",
              "      <td>Research &amp; Development</td>\n",
              "      <td>27.0</td>\n",
              "      <td>1.0</td>\n",
              "      <td>Medical</td>\n",
              "      <td>3.0</td>\n",
              "      <td>Female</td>\n",
              "      <td>53.0</td>\n",
              "      <td>2.0</td>\n",
              "      <td>1.0</td>\n",
              "      <td>Research Scientist</td>\n",
              "      <td>1.0</td>\n",
              "      <td>Single</td>\n",
              "      <td>2559.0</td>\n",
              "      <td>17852.0</td>\n",
              "      <td>1.0</td>\n",
              "      <td>No</td>\n",
              "      <td>11.0</td>\n",
              "      <td>3.0</td>\n",
              "      <td>4.0</td>\n",
              "      <td>0.0</td>\n",
              "      <td>6.0</td>\n",
              "      <td>3.0</td>\n",
              "      <td>2.0</td>\n",
              "      <td>6.0</td>\n",
              "      <td>5.0</td>\n",
              "      <td>1.0</td>\n",
              "      <td>1.0</td>\n",
              "      <td>NaN</td>\n",
              "    </tr>\n",
              "    <tr>\n",
              "      <th>1324</th>\n",
              "      <td>100001</td>\n",
              "      <td>27.0</td>\n",
              "      <td>Travel_Rarely</td>\n",
              "      <td>1220.0</td>\n",
              "      <td>Research &amp; Development</td>\n",
              "      <td>5.0</td>\n",
              "      <td>3.0</td>\n",
              "      <td>Life Sciences</td>\n",
              "      <td>3.0</td>\n",
              "      <td>Female</td>\n",
              "      <td>85.0</td>\n",
              "      <td>3.0</td>\n",
              "      <td>1.0</td>\n",
              "      <td>Research Scientist</td>\n",
              "      <td>2.0</td>\n",
              "      <td>Single</td>\n",
              "      <td>2478.0</td>\n",
              "      <td>20938.0</td>\n",
              "      <td>1.0</td>\n",
              "      <td>Yes</td>\n",
              "      <td>12.0</td>\n",
              "      <td>3.0</td>\n",
              "      <td>2.0</td>\n",
              "      <td>0.0</td>\n",
              "      <td>4.0</td>\n",
              "      <td>2.0</td>\n",
              "      <td>2.0</td>\n",
              "      <td>4.0</td>\n",
              "      <td>3.0</td>\n",
              "      <td>1.0</td>\n",
              "      <td>2.0</td>\n",
              "      <td>NaN</td>\n",
              "    </tr>\n",
              "    <tr>\n",
              "      <th>1325</th>\n",
              "      <td>100002</td>\n",
              "      <td>24.0</td>\n",
              "      <td>Travel_Rarely</td>\n",
              "      <td>1476.0</td>\n",
              "      <td>Sales</td>\n",
              "      <td>4.0</td>\n",
              "      <td>1.0</td>\n",
              "      <td>Medical</td>\n",
              "      <td>4.0</td>\n",
              "      <td>Female</td>\n",
              "      <td>42.0</td>\n",
              "      <td>3.0</td>\n",
              "      <td>2.0</td>\n",
              "      <td>Sales Executive</td>\n",
              "      <td>3.0</td>\n",
              "      <td>Married</td>\n",
              "      <td>4162.0</td>\n",
              "      <td>15211.0</td>\n",
              "      <td>1.0</td>\n",
              "      <td>Yes</td>\n",
              "      <td>12.0</td>\n",
              "      <td>3.0</td>\n",
              "      <td>3.0</td>\n",
              "      <td>2.0</td>\n",
              "      <td>5.0</td>\n",
              "      <td>3.0</td>\n",
              "      <td>3.0</td>\n",
              "      <td>5.0</td>\n",
              "      <td>4.0</td>\n",
              "      <td>0.0</td>\n",
              "      <td>3.0</td>\n",
              "      <td>NaN</td>\n",
              "    </tr>\n",
              "    <tr>\n",
              "      <th>1326</th>\n",
              "      <td>100003</td>\n",
              "      <td>37.0</td>\n",
              "      <td>Non-Travel</td>\n",
              "      <td>142.0</td>\n",
              "      <td>Sales</td>\n",
              "      <td>9.0</td>\n",
              "      <td>4.0</td>\n",
              "      <td>Medical</td>\n",
              "      <td>1.0</td>\n",
              "      <td>Male</td>\n",
              "      <td>69.0</td>\n",
              "      <td>3.0</td>\n",
              "      <td>3.0</td>\n",
              "      <td>Sales Executive</td>\n",
              "      <td>2.0</td>\n",
              "      <td>Divorced</td>\n",
              "      <td>8834.0</td>\n",
              "      <td>24666.0</td>\n",
              "      <td>1.0</td>\n",
              "      <td>No</td>\n",
              "      <td>13.0</td>\n",
              "      <td>3.0</td>\n",
              "      <td>4.0</td>\n",
              "      <td>1.0</td>\n",
              "      <td>9.0</td>\n",
              "      <td>6.0</td>\n",
              "      <td>3.0</td>\n",
              "      <td>9.0</td>\n",
              "      <td>5.0</td>\n",
              "      <td>7.0</td>\n",
              "      <td>7.0</td>\n",
              "      <td>NaN</td>\n",
              "    </tr>\n",
              "    <tr>\n",
              "      <th>1327</th>\n",
              "      <td>100004</td>\n",
              "      <td>33.0</td>\n",
              "      <td>Travel_Rarely</td>\n",
              "      <td>527.0</td>\n",
              "      <td>Research &amp; Development</td>\n",
              "      <td>1.0</td>\n",
              "      <td>4.0</td>\n",
              "      <td>Other</td>\n",
              "      <td>4.0</td>\n",
              "      <td>Male</td>\n",
              "      <td>63.0</td>\n",
              "      <td>3.0</td>\n",
              "      <td>1.0</td>\n",
              "      <td>Research Scientist</td>\n",
              "      <td>4.0</td>\n",
              "      <td>Single</td>\n",
              "      <td>2686.0</td>\n",
              "      <td>5207.0</td>\n",
              "      <td>1.0</td>\n",
              "      <td>Yes</td>\n",
              "      <td>13.0</td>\n",
              "      <td>3.0</td>\n",
              "      <td>3.0</td>\n",
              "      <td>0.0</td>\n",
              "      <td>10.0</td>\n",
              "      <td>2.0</td>\n",
              "      <td>2.0</td>\n",
              "      <td>10.0</td>\n",
              "      <td>9.0</td>\n",
              "      <td>7.0</td>\n",
              "      <td>8.0</td>\n",
              "      <td>NaN</td>\n",
              "    </tr>\n",
              "  </tbody>\n",
              "</table>\n",
              "</div>"
            ],
            "text/plain": [
              "      EmployeeNumber   Age  ... YearsWithCurrManager  Attrition\n",
              "1323          100000  35.0  ...                  1.0        NaN\n",
              "1324          100001  27.0  ...                  2.0        NaN\n",
              "1325          100002  24.0  ...                  3.0        NaN\n",
              "1326          100003  37.0  ...                  7.0        NaN\n",
              "1327          100004  33.0  ...                  8.0        NaN\n",
              "\n",
              "[5 rows x 32 columns]"
            ]
          },
          "metadata": {
            "tags": []
          },
          "execution_count": 10
        }
      ]
    },
    {
      "cell_type": "code",
      "metadata": {
        "id": "VVr-ym_xkSf9",
        "colab": {
          "base_uri": "https://localhost:8080/"
        },
        "outputId": "d3db1a85-d5b4-4a1f-c7af-5cc8815ade07"
      },
      "source": [
        "# Zamiana atrybutu Attrition z 'Yes' na 1 i z 'No' na 0\n",
        "data_test.Attrition = data_test.Attrition.map({\"Yes\": 1, \"No\": 0})"
      ],
      "execution_count": 11,
      "outputs": [
        {
          "output_type": "stream",
          "text": [
            "/usr/local/lib/python3.6/dist-packages/pandas/core/generic.py:5170: SettingWithCopyWarning: \n",
            "A value is trying to be set on a copy of a slice from a DataFrame.\n",
            "Try using .loc[row_indexer,col_indexer] = value instead\n",
            "\n",
            "See the caveats in the documentation: https://pandas.pydata.org/pandas-docs/stable/user_guide/indexing.html#returning-a-view-versus-a-copy\n",
            "  self[name] = value\n"
          ],
          "name": "stderr"
        }
      ]
    },
    {
      "cell_type": "code",
      "metadata": {
        "colab": {
          "base_uri": "https://localhost:8080/",
          "height": 320
        },
        "id": "vHsV-j7zfNWF",
        "outputId": "d781dd1e-3424-4832-ce1e-2efa2e7eb1eb"
      },
      "source": [
        "data_test.describe()"
      ],
      "execution_count": 12,
      "outputs": [
        {
          "output_type": "execute_result",
          "data": {
            "text/html": [
              "<div>\n",
              "<style scoped>\n",
              "    .dataframe tbody tr th:only-of-type {\n",
              "        vertical-align: middle;\n",
              "    }\n",
              "\n",
              "    .dataframe tbody tr th {\n",
              "        vertical-align: top;\n",
              "    }\n",
              "\n",
              "    .dataframe thead th {\n",
              "        text-align: right;\n",
              "    }\n",
              "</style>\n",
              "<table border=\"1\" class=\"dataframe\">\n",
              "  <thead>\n",
              "    <tr style=\"text-align: right;\">\n",
              "      <th></th>\n",
              "      <th>EmployeeNumber</th>\n",
              "      <th>Age</th>\n",
              "      <th>DailyRate</th>\n",
              "      <th>DistanceFromHome</th>\n",
              "      <th>Education</th>\n",
              "      <th>EnvironmentSatisfaction</th>\n",
              "      <th>HourlyRate</th>\n",
              "      <th>JobInvolvement</th>\n",
              "      <th>JobLevel</th>\n",
              "      <th>JobSatisfaction</th>\n",
              "      <th>MonthlyIncome</th>\n",
              "      <th>MonthlyRate</th>\n",
              "      <th>NumCompaniesWorked</th>\n",
              "      <th>PercentSalaryHike</th>\n",
              "      <th>PerformanceRating</th>\n",
              "      <th>RelationshipSatisfaction</th>\n",
              "      <th>StockOptionLevel</th>\n",
              "      <th>TotalWorkingYears</th>\n",
              "      <th>TrainingTimesLastYear</th>\n",
              "      <th>WorkLifeBalance</th>\n",
              "      <th>YearsAtCompany</th>\n",
              "      <th>YearsInCurrentRole</th>\n",
              "      <th>YearsSinceLastPromotion</th>\n",
              "      <th>YearsWithCurrManager</th>\n",
              "      <th>Attrition</th>\n",
              "    </tr>\n",
              "  </thead>\n",
              "  <tbody>\n",
              "    <tr>\n",
              "      <th>count</th>\n",
              "      <td>4302.000000</td>\n",
              "      <td>4302.000000</td>\n",
              "      <td>4302.000000</td>\n",
              "      <td>4302.000000</td>\n",
              "      <td>4302.000000</td>\n",
              "      <td>4302.000000</td>\n",
              "      <td>4302.000000</td>\n",
              "      <td>4302.000000</td>\n",
              "      <td>4302.000000</td>\n",
              "      <td>4302.000000</td>\n",
              "      <td>4302.000000</td>\n",
              "      <td>4302.000000</td>\n",
              "      <td>4302.000000</td>\n",
              "      <td>4302.000000</td>\n",
              "      <td>4302.000000</td>\n",
              "      <td>4302.000000</td>\n",
              "      <td>4302.000000</td>\n",
              "      <td>4302.000000</td>\n",
              "      <td>4302.000000</td>\n",
              "      <td>4302.000000</td>\n",
              "      <td>4302.000000</td>\n",
              "      <td>4302.000000</td>\n",
              "      <td>4302.000000</td>\n",
              "      <td>4302.000000</td>\n",
              "      <td>4302.000000</td>\n",
              "    </tr>\n",
              "    <tr>\n",
              "      <th>mean</th>\n",
              "      <td>4809.243143</td>\n",
              "      <td>429.123199</td>\n",
              "      <td>800.843794</td>\n",
              "      <td>34478.313343</td>\n",
              "      <td>2.906788</td>\n",
              "      <td>2.719665</td>\n",
              "      <td>66.036495</td>\n",
              "      <td>2.741516</td>\n",
              "      <td>2.051604</td>\n",
              "      <td>2.722920</td>\n",
              "      <td>6453.266853</td>\n",
              "      <td>14266.381450</td>\n",
              "      <td>2.677359</td>\n",
              "      <td>15.164110</td>\n",
              "      <td>3.146444</td>\n",
              "      <td>2.725709</td>\n",
              "      <td>0.787773</td>\n",
              "      <td>354.004649</td>\n",
              "      <td>2.803347</td>\n",
              "      <td>2.765923</td>\n",
              "      <td>312.854719</td>\n",
              "      <td>367.109484</td>\n",
              "      <td>399.000930</td>\n",
              "      <td>334.767550</td>\n",
              "      <td>0.516504</td>\n",
              "    </tr>\n",
              "    <tr>\n",
              "      <th>std</th>\n",
              "      <td>2643.040205</td>\n",
              "      <td>1591.153416</td>\n",
              "      <td>405.655763</td>\n",
              "      <td>147682.315767</td>\n",
              "      <td>1.026460</td>\n",
              "      <td>1.092333</td>\n",
              "      <td>20.298352</td>\n",
              "      <td>0.711379</td>\n",
              "      <td>1.102569</td>\n",
              "      <td>1.106692</td>\n",
              "      <td>4672.993959</td>\n",
              "      <td>7154.584275</td>\n",
              "      <td>2.490632</td>\n",
              "      <td>3.624112</td>\n",
              "      <td>0.353591</td>\n",
              "      <td>1.079747</td>\n",
              "      <td>0.849147</td>\n",
              "      <td>1508.016854</td>\n",
              "      <td>1.302586</td>\n",
              "      <td>0.708878</td>\n",
              "      <td>1373.999529</td>\n",
              "      <td>1480.107024</td>\n",
              "      <td>1597.939659</td>\n",
              "      <td>1431.991884</td>\n",
              "      <td>0.499786</td>\n",
              "    </tr>\n",
              "    <tr>\n",
              "      <th>min</th>\n",
              "      <td>1.000000</td>\n",
              "      <td>18.000000</td>\n",
              "      <td>102.000000</td>\n",
              "      <td>1.000000</td>\n",
              "      <td>1.000000</td>\n",
              "      <td>1.000000</td>\n",
              "      <td>30.000000</td>\n",
              "      <td>1.000000</td>\n",
              "      <td>1.000000</td>\n",
              "      <td>1.000000</td>\n",
              "      <td>1009.000000</td>\n",
              "      <td>2094.000000</td>\n",
              "      <td>0.000000</td>\n",
              "      <td>11.000000</td>\n",
              "      <td>3.000000</td>\n",
              "      <td>1.000000</td>\n",
              "      <td>0.000000</td>\n",
              "      <td>0.000000</td>\n",
              "      <td>0.000000</td>\n",
              "      <td>1.000000</td>\n",
              "      <td>0.000000</td>\n",
              "      <td>0.000000</td>\n",
              "      <td>0.000000</td>\n",
              "      <td>0.000000</td>\n",
              "      <td>0.000000</td>\n",
              "    </tr>\n",
              "    <tr>\n",
              "      <th>25%</th>\n",
              "      <td>1680.250000</td>\n",
              "      <td>31.000000</td>\n",
              "      <td>457.000000</td>\n",
              "      <td>2.000000</td>\n",
              "      <td>2.000000</td>\n",
              "      <td>2.000000</td>\n",
              "      <td>48.000000</td>\n",
              "      <td>2.000000</td>\n",
              "      <td>1.000000</td>\n",
              "      <td>2.000000</td>\n",
              "      <td>2897.000000</td>\n",
              "      <td>7910.250000</td>\n",
              "      <td>1.000000</td>\n",
              "      <td>12.000000</td>\n",
              "      <td>3.000000</td>\n",
              "      <td>2.000000</td>\n",
              "      <td>0.000000</td>\n",
              "      <td>6.000000</td>\n",
              "      <td>2.000000</td>\n",
              "      <td>2.000000</td>\n",
              "      <td>3.000000</td>\n",
              "      <td>2.000000</td>\n",
              "      <td>0.000000</td>\n",
              "      <td>2.000000</td>\n",
              "      <td>0.000000</td>\n",
              "    </tr>\n",
              "    <tr>\n",
              "      <th>50%</th>\n",
              "      <td>5828.500000</td>\n",
              "      <td>36.000000</td>\n",
              "      <td>804.000000</td>\n",
              "      <td>8.000000</td>\n",
              "      <td>3.000000</td>\n",
              "      <td>3.000000</td>\n",
              "      <td>66.000000</td>\n",
              "      <td>3.000000</td>\n",
              "      <td>2.000000</td>\n",
              "      <td>3.000000</td>\n",
              "      <td>4876.000000</td>\n",
              "      <td>14174.000000</td>\n",
              "      <td>2.000000</td>\n",
              "      <td>14.000000</td>\n",
              "      <td>3.000000</td>\n",
              "      <td>3.000000</td>\n",
              "      <td>1.000000</td>\n",
              "      <td>10.000000</td>\n",
              "      <td>3.000000</td>\n",
              "      <td>3.000000</td>\n",
              "      <td>5.000000</td>\n",
              "      <td>3.000000</td>\n",
              "      <td>1.000000</td>\n",
              "      <td>3.000000</td>\n",
              "      <td>1.000000</td>\n",
              "    </tr>\n",
              "    <tr>\n",
              "      <th>75%</th>\n",
              "      <td>6903.750000</td>\n",
              "      <td>45.000000</td>\n",
              "      <td>1162.000000</td>\n",
              "      <td>17.000000</td>\n",
              "      <td>4.000000</td>\n",
              "      <td>4.000000</td>\n",
              "      <td>84.000000</td>\n",
              "      <td>3.000000</td>\n",
              "      <td>3.000000</td>\n",
              "      <td>4.000000</td>\n",
              "      <td>8307.750000</td>\n",
              "      <td>20471.000000</td>\n",
              "      <td>4.000000</td>\n",
              "      <td>18.000000</td>\n",
              "      <td>3.000000</td>\n",
              "      <td>4.000000</td>\n",
              "      <td>1.000000</td>\n",
              "      <td>17.000000</td>\n",
              "      <td>3.000000</td>\n",
              "      <td>3.000000</td>\n",
              "      <td>10.000000</td>\n",
              "      <td>7.000000</td>\n",
              "      <td>4.000000</td>\n",
              "      <td>7.000000</td>\n",
              "      <td>1.000000</td>\n",
              "    </tr>\n",
              "    <tr>\n",
              "      <th>max</th>\n",
              "      <td>7979.000000</td>\n",
              "      <td>9890.000000</td>\n",
              "      <td>1499.000000</td>\n",
              "      <td>999590.000000</td>\n",
              "      <td>5.000000</td>\n",
              "      <td>4.000000</td>\n",
              "      <td>100.000000</td>\n",
              "      <td>4.000000</td>\n",
              "      <td>5.000000</td>\n",
              "      <td>4.000000</td>\n",
              "      <td>19999.000000</td>\n",
              "      <td>26999.000000</td>\n",
              "      <td>9.000000</td>\n",
              "      <td>25.000000</td>\n",
              "      <td>4.000000</td>\n",
              "      <td>4.000000</td>\n",
              "      <td>3.000000</td>\n",
              "      <td>9939.000000</td>\n",
              "      <td>6.000000</td>\n",
              "      <td>4.000000</td>\n",
              "      <td>9984.000000</td>\n",
              "      <td>9937.000000</td>\n",
              "      <td>9990.000000</td>\n",
              "      <td>9882.000000</td>\n",
              "      <td>1.000000</td>\n",
              "    </tr>\n",
              "  </tbody>\n",
              "</table>\n",
              "</div>"
            ],
            "text/plain": [
              "       EmployeeNumber          Age  ...  YearsWithCurrManager    Attrition\n",
              "count     4302.000000  4302.000000  ...           4302.000000  4302.000000\n",
              "mean      4809.243143   429.123199  ...            334.767550     0.516504\n",
              "std       2643.040205  1591.153416  ...           1431.991884     0.499786\n",
              "min          1.000000    18.000000  ...              0.000000     0.000000\n",
              "25%       1680.250000    31.000000  ...              2.000000     0.000000\n",
              "50%       5828.500000    36.000000  ...              3.000000     1.000000\n",
              "75%       6903.750000    45.000000  ...              7.000000     1.000000\n",
              "max       7979.000000  9890.000000  ...           9882.000000     1.000000\n",
              "\n",
              "[8 rows x 25 columns]"
            ]
          },
          "metadata": {
            "tags": []
          },
          "execution_count": 12
        }
      ]
    },
    {
      "cell_type": "code",
      "metadata": {
        "colab": {
          "base_uri": "https://localhost:8080/",
          "height": 320
        },
        "id": "DldLp5wOfQnv",
        "outputId": "cda846bb-df4c-4bcb-9833-15c6fad00f31"
      },
      "source": [
        "data_final_test.describe()"
      ],
      "execution_count": 13,
      "outputs": [
        {
          "output_type": "execute_result",
          "data": {
            "text/html": [
              "<div>\n",
              "<style scoped>\n",
              "    .dataframe tbody tr th:only-of-type {\n",
              "        vertical-align: middle;\n",
              "    }\n",
              "\n",
              "    .dataframe tbody tr th {\n",
              "        vertical-align: top;\n",
              "    }\n",
              "\n",
              "    .dataframe thead th {\n",
              "        text-align: right;\n",
              "    }\n",
              "</style>\n",
              "<table border=\"1\" class=\"dataframe\">\n",
              "  <thead>\n",
              "    <tr style=\"text-align: right;\">\n",
              "      <th></th>\n",
              "      <th>EmployeeNumber</th>\n",
              "      <th>Age</th>\n",
              "      <th>DailyRate</th>\n",
              "      <th>DistanceFromHome</th>\n",
              "      <th>Education</th>\n",
              "      <th>EnvironmentSatisfaction</th>\n",
              "      <th>HourlyRate</th>\n",
              "      <th>JobInvolvement</th>\n",
              "      <th>JobLevel</th>\n",
              "      <th>JobSatisfaction</th>\n",
              "      <th>MonthlyIncome</th>\n",
              "      <th>MonthlyRate</th>\n",
              "      <th>NumCompaniesWorked</th>\n",
              "      <th>PercentSalaryHike</th>\n",
              "      <th>PerformanceRating</th>\n",
              "      <th>RelationshipSatisfaction</th>\n",
              "      <th>StockOptionLevel</th>\n",
              "      <th>TotalWorkingYears</th>\n",
              "      <th>TrainingTimesLastYear</th>\n",
              "      <th>WorkLifeBalance</th>\n",
              "      <th>YearsAtCompany</th>\n",
              "      <th>YearsInCurrentRole</th>\n",
              "      <th>YearsSinceLastPromotion</th>\n",
              "      <th>YearsWithCurrManager</th>\n",
              "    </tr>\n",
              "  </thead>\n",
              "  <tbody>\n",
              "    <tr>\n",
              "      <th>count</th>\n",
              "      <td>147.000000</td>\n",
              "      <td>147.000000</td>\n",
              "      <td>147.000000</td>\n",
              "      <td>147.000000</td>\n",
              "      <td>147.000000</td>\n",
              "      <td>147.000000</td>\n",
              "      <td>147.000000</td>\n",
              "      <td>147.000000</td>\n",
              "      <td>147.000000</td>\n",
              "      <td>147.000000</td>\n",
              "      <td>147.000000</td>\n",
              "      <td>147.000000</td>\n",
              "      <td>147.000000</td>\n",
              "      <td>147.000000</td>\n",
              "      <td>147.000000</td>\n",
              "      <td>147.000000</td>\n",
              "      <td>147.000000</td>\n",
              "      <td>147.000000</td>\n",
              "      <td>147.000000</td>\n",
              "      <td>147.000000</td>\n",
              "      <td>147.000000</td>\n",
              "      <td>147.000000</td>\n",
              "      <td>147.000000</td>\n",
              "      <td>147.000000</td>\n",
              "    </tr>\n",
              "    <tr>\n",
              "      <th>mean</th>\n",
              "      <td>100073.000000</td>\n",
              "      <td>37.619048</td>\n",
              "      <td>806.115646</td>\n",
              "      <td>9.761905</td>\n",
              "      <td>3.000000</td>\n",
              "      <td>2.707483</td>\n",
              "      <td>64.238095</td>\n",
              "      <td>2.680272</td>\n",
              "      <td>2.108844</td>\n",
              "      <td>2.782313</td>\n",
              "      <td>6914.183673</td>\n",
              "      <td>14563.448980</td>\n",
              "      <td>2.809524</td>\n",
              "      <td>15.877551</td>\n",
              "      <td>3.210884</td>\n",
              "      <td>2.721088</td>\n",
              "      <td>0.727891</td>\n",
              "      <td>11.612245</td>\n",
              "      <td>2.972789</td>\n",
              "      <td>2.714286</td>\n",
              "      <td>6.829932</td>\n",
              "      <td>4.414966</td>\n",
              "      <td>2.095238</td>\n",
              "      <td>4.129252</td>\n",
              "    </tr>\n",
              "    <tr>\n",
              "      <th>std</th>\n",
              "      <td>42.579338</td>\n",
              "      <td>8.786145</td>\n",
              "      <td>405.476187</td>\n",
              "      <td>8.412591</td>\n",
              "      <td>0.986206</td>\n",
              "      <td>1.123905</td>\n",
              "      <td>19.640723</td>\n",
              "      <td>0.749305</td>\n",
              "      <td>1.117294</td>\n",
              "      <td>1.131837</td>\n",
              "      <td>4960.314224</td>\n",
              "      <td>7003.840122</td>\n",
              "      <td>2.385267</td>\n",
              "      <td>4.107957</td>\n",
              "      <td>0.409331</td>\n",
              "      <td>1.115165</td>\n",
              "      <td>0.815583</td>\n",
              "      <td>7.457137</td>\n",
              "      <td>1.399342</td>\n",
              "      <td>0.767490</td>\n",
              "      <td>5.414812</td>\n",
              "      <td>3.387818</td>\n",
              "      <td>2.977848</td>\n",
              "      <td>3.310987</td>\n",
              "    </tr>\n",
              "    <tr>\n",
              "      <th>min</th>\n",
              "      <td>100000.000000</td>\n",
              "      <td>19.000000</td>\n",
              "      <td>117.000000</td>\n",
              "      <td>1.000000</td>\n",
              "      <td>1.000000</td>\n",
              "      <td>1.000000</td>\n",
              "      <td>30.000000</td>\n",
              "      <td>1.000000</td>\n",
              "      <td>1.000000</td>\n",
              "      <td>1.000000</td>\n",
              "      <td>1102.000000</td>\n",
              "      <td>2104.000000</td>\n",
              "      <td>0.000000</td>\n",
              "      <td>11.000000</td>\n",
              "      <td>3.000000</td>\n",
              "      <td>1.000000</td>\n",
              "      <td>0.000000</td>\n",
              "      <td>1.000000</td>\n",
              "      <td>0.000000</td>\n",
              "      <td>1.000000</td>\n",
              "      <td>0.000000</td>\n",
              "      <td>0.000000</td>\n",
              "      <td>0.000000</td>\n",
              "      <td>0.000000</td>\n",
              "    </tr>\n",
              "    <tr>\n",
              "      <th>25%</th>\n",
              "      <td>100036.500000</td>\n",
              "      <td>31.000000</td>\n",
              "      <td>479.500000</td>\n",
              "      <td>2.500000</td>\n",
              "      <td>3.000000</td>\n",
              "      <td>2.000000</td>\n",
              "      <td>48.500000</td>\n",
              "      <td>2.000000</td>\n",
              "      <td>1.000000</td>\n",
              "      <td>2.000000</td>\n",
              "      <td>3135.500000</td>\n",
              "      <td>8889.500000</td>\n",
              "      <td>1.000000</td>\n",
              "      <td>12.500000</td>\n",
              "      <td>3.000000</td>\n",
              "      <td>2.000000</td>\n",
              "      <td>0.000000</td>\n",
              "      <td>6.000000</td>\n",
              "      <td>2.000000</td>\n",
              "      <td>2.000000</td>\n",
              "      <td>3.000000</td>\n",
              "      <td>2.000000</td>\n",
              "      <td>0.000000</td>\n",
              "      <td>2.000000</td>\n",
              "    </tr>\n",
              "    <tr>\n",
              "      <th>50%</th>\n",
              "      <td>100073.000000</td>\n",
              "      <td>36.000000</td>\n",
              "      <td>773.000000</td>\n",
              "      <td>8.000000</td>\n",
              "      <td>3.000000</td>\n",
              "      <td>3.000000</td>\n",
              "      <td>64.000000</td>\n",
              "      <td>3.000000</td>\n",
              "      <td>2.000000</td>\n",
              "      <td>3.000000</td>\n",
              "      <td>5154.000000</td>\n",
              "      <td>15146.000000</td>\n",
              "      <td>2.000000</td>\n",
              "      <td>15.000000</td>\n",
              "      <td>3.000000</td>\n",
              "      <td>3.000000</td>\n",
              "      <td>1.000000</td>\n",
              "      <td>10.000000</td>\n",
              "      <td>3.000000</td>\n",
              "      <td>3.000000</td>\n",
              "      <td>5.000000</td>\n",
              "      <td>3.000000</td>\n",
              "      <td>1.000000</td>\n",
              "      <td>3.000000</td>\n",
              "    </tr>\n",
              "    <tr>\n",
              "      <th>75%</th>\n",
              "      <td>100109.500000</td>\n",
              "      <td>43.500000</td>\n",
              "      <td>1163.000000</td>\n",
              "      <td>15.000000</td>\n",
              "      <td>4.000000</td>\n",
              "      <td>4.000000</td>\n",
              "      <td>80.000000</td>\n",
              "      <td>3.000000</td>\n",
              "      <td>3.000000</td>\n",
              "      <td>4.000000</td>\n",
              "      <td>9625.000000</td>\n",
              "      <td>20470.500000</td>\n",
              "      <td>4.000000</td>\n",
              "      <td>19.000000</td>\n",
              "      <td>3.000000</td>\n",
              "      <td>4.000000</td>\n",
              "      <td>1.000000</td>\n",
              "      <td>17.000000</td>\n",
              "      <td>3.000000</td>\n",
              "      <td>3.000000</td>\n",
              "      <td>9.000000</td>\n",
              "      <td>7.000000</td>\n",
              "      <td>2.500000</td>\n",
              "      <td>7.000000</td>\n",
              "    </tr>\n",
              "    <tr>\n",
              "      <th>max</th>\n",
              "      <td>100146.000000</td>\n",
              "      <td>60.000000</td>\n",
              "      <td>1499.000000</td>\n",
              "      <td>29.000000</td>\n",
              "      <td>5.000000</td>\n",
              "      <td>4.000000</td>\n",
              "      <td>99.000000</td>\n",
              "      <td>4.000000</td>\n",
              "      <td>5.000000</td>\n",
              "      <td>4.000000</td>\n",
              "      <td>19943.000000</td>\n",
              "      <td>26933.000000</td>\n",
              "      <td>9.000000</td>\n",
              "      <td>25.000000</td>\n",
              "      <td>4.000000</td>\n",
              "      <td>4.000000</td>\n",
              "      <td>3.000000</td>\n",
              "      <td>36.000000</td>\n",
              "      <td>6.000000</td>\n",
              "      <td>4.000000</td>\n",
              "      <td>29.000000</td>\n",
              "      <td>16.000000</td>\n",
              "      <td>15.000000</td>\n",
              "      <td>14.000000</td>\n",
              "    </tr>\n",
              "  </tbody>\n",
              "</table>\n",
              "</div>"
            ],
            "text/plain": [
              "       EmployeeNumber  ...  YearsWithCurrManager\n",
              "count      147.000000  ...            147.000000\n",
              "mean    100073.000000  ...              4.129252\n",
              "std         42.579338  ...              3.310987\n",
              "min     100000.000000  ...              0.000000\n",
              "25%     100036.500000  ...              2.000000\n",
              "50%     100073.000000  ...              3.000000\n",
              "75%     100109.500000  ...              7.000000\n",
              "max     100146.000000  ...             14.000000\n",
              "\n",
              "[8 rows x 24 columns]"
            ]
          },
          "metadata": {
            "tags": []
          },
          "execution_count": 13
        }
      ]
    },
    {
      "cell_type": "code",
      "metadata": {
        "colab": {
          "base_uri": "https://localhost:8080/",
          "height": 402
        },
        "id": "3H32UMfAf2Rn",
        "outputId": "b28c80a4-84e2-4495-834e-3c6fb324e4dd"
      },
      "source": [
        "# Sprawdzenie korelacji między pozostałymi danymi\n",
        "sns.heatmap(data.corr())"
      ],
      "execution_count": 14,
      "outputs": [
        {
          "output_type": "execute_result",
          "data": {
            "text/plain": [
              "<matplotlib.axes._subplots.AxesSubplot at 0x7f0c2819e6d8>"
            ]
          },
          "metadata": {
            "tags": []
          },
          "execution_count": 14
        },
        {
          "output_type": "display_data",
          "data": {
            "image/png": "[encoded data removed]",
            "text/plain": [
              "<Figure size 432x288 with 2 Axes>"
            ]
          },
          "metadata": {
            "tags": [],
            "needs_background": "light"
          }
        }
      ]
    },
    {
      "cell_type": "code",
      "metadata": {
        "colab": {
          "base_uri": "https://localhost:8080/"
        },
        "id": "Gx41mc0Pi-Vf",
        "outputId": "065a6573-c4af-4b58-a8a1-8ad7bb7ea99b"
      },
      "source": [
        "# Porównanie średnich wartości w zbiorze final test i treningowym nieodfiltrowanym\n",
        "data_final_test.mean() , data_test.mean()"
      ],
      "execution_count": 15,
      "outputs": [
        {
          "output_type": "execute_result",
          "data": {
            "text/plain": [
              "(EmployeeNumber              100073.000000\n",
              " Age                             37.619048\n",
              " DailyRate                      806.115646\n",
              " DistanceFromHome                 9.761905\n",
              " Education                        3.000000\n",
              " EnvironmentSatisfaction          2.707483\n",
              " HourlyRate                      64.238095\n",
              " JobInvolvement                   2.680272\n",
              " JobLevel                         2.108844\n",
              " JobSatisfaction                  2.782313\n",
              " MonthlyIncome                 6914.183673\n",
              " MonthlyRate                  14563.448980\n",
              " NumCompaniesWorked               2.809524\n",
              " PercentSalaryHike               15.877551\n",
              " PerformanceRating                3.210884\n",
              " RelationshipSatisfaction         2.721088\n",
              " StockOptionLevel                 0.727891\n",
              " TotalWorkingYears               11.612245\n",
              " TrainingTimesLastYear            2.972789\n",
              " WorkLifeBalance                  2.714286\n",
              " YearsAtCompany                   6.829932\n",
              " YearsInCurrentRole               4.414966\n",
              " YearsSinceLastPromotion          2.095238\n",
              " YearsWithCurrManager             4.129252\n",
              " Attrition                             NaN\n",
              " dtype: float64, EmployeeNumber               4809.243143\n",
              " Age                           429.123199\n",
              " DailyRate                     800.843794\n",
              " DistanceFromHome            34478.313343\n",
              " Education                       2.906788\n",
              " EnvironmentSatisfaction         2.719665\n",
              " HourlyRate                     66.036495\n",
              " JobInvolvement                  2.741516\n",
              " JobLevel                        2.051604\n",
              " JobSatisfaction                 2.722920\n",
              " MonthlyIncome                6453.266853\n",
              " MonthlyRate                 14266.381450\n",
              " NumCompaniesWorked              2.677359\n",
              " PercentSalaryHike              15.164110\n",
              " PerformanceRating               3.146444\n",
              " RelationshipSatisfaction        2.725709\n",
              " StockOptionLevel                0.787773\n",
              " TotalWorkingYears             354.004649\n",
              " TrainingTimesLastYear           2.803347\n",
              " WorkLifeBalance                 2.765923\n",
              " YearsAtCompany                312.854719\n",
              " YearsInCurrentRole            367.109484\n",
              " YearsSinceLastPromotion       399.000930\n",
              " YearsWithCurrManager          334.767550\n",
              " Attrition                       0.516504\n",
              " dtype: float64)"
            ]
          },
          "metadata": {
            "tags": []
          },
          "execution_count": 15
        }
      ]
    },
    {
      "cell_type": "code",
      "metadata": {
        "id": "LeG0RPFfjo_c"
      },
      "source": [
        "# Duże dysproporcje w średnich wystepują w następujących featurach:\n",
        "# Age, DistanceFromHome, TotalWorkinYears, YearsAtCompany, YearsInCurrentRole, YearsSinceLastPromotion, YearsWithCurrManager"
      ],
      "execution_count": null,
      "outputs": []
    },
    {
      "cell_type": "code",
      "metadata": {
        "colab": {
          "base_uri": "https://localhost:8080/",
          "height": 320
        },
        "id": "GRAKwjiGeoyo",
        "outputId": "f102774d-1697-4b60-b930-9e13934773e1"
      },
      "source": [
        "# Odsianie wartości skrajnych\n",
        "Q1 = data_test.quantile(0.00)\n",
        "Q3 = data_test.quantile(0.93)\n",
        "IQR = Q3 - Q1\n",
        "data_test_filtered = data_test[~((data_test < (Q1 - 1.5 * IQR)) | (data_test > (Q3 + 1.5 * IQR))).any(axis=1)]\n",
        "data_test_filtered.describe()"
      ],
      "execution_count": 16,
      "outputs": [
        {
          "output_type": "execute_result",
          "data": {
            "text/html": [
              "<div>\n",
              "<style scoped>\n",
              "    .dataframe tbody tr th:only-of-type {\n",
              "        vertical-align: middle;\n",
              "    }\n",
              "\n",
              "    .dataframe tbody tr th {\n",
              "        vertical-align: top;\n",
              "    }\n",
              "\n",
              "    .dataframe thead th {\n",
              "        text-align: right;\n",
              "    }\n",
              "</style>\n",
              "<table border=\"1\" class=\"dataframe\">\n",
              "  <thead>\n",
              "    <tr style=\"text-align: right;\">\n",
              "      <th></th>\n",
              "      <th>EmployeeNumber</th>\n",
              "      <th>Age</th>\n",
              "      <th>DailyRate</th>\n",
              "      <th>DistanceFromHome</th>\n",
              "      <th>Education</th>\n",
              "      <th>EnvironmentSatisfaction</th>\n",
              "      <th>HourlyRate</th>\n",
              "      <th>JobInvolvement</th>\n",
              "      <th>JobLevel</th>\n",
              "      <th>JobSatisfaction</th>\n",
              "      <th>MonthlyIncome</th>\n",
              "      <th>MonthlyRate</th>\n",
              "      <th>NumCompaniesWorked</th>\n",
              "      <th>PercentSalaryHike</th>\n",
              "      <th>PerformanceRating</th>\n",
              "      <th>RelationshipSatisfaction</th>\n",
              "      <th>StockOptionLevel</th>\n",
              "      <th>TotalWorkingYears</th>\n",
              "      <th>TrainingTimesLastYear</th>\n",
              "      <th>WorkLifeBalance</th>\n",
              "      <th>YearsAtCompany</th>\n",
              "      <th>YearsInCurrentRole</th>\n",
              "      <th>YearsSinceLastPromotion</th>\n",
              "      <th>YearsWithCurrManager</th>\n",
              "      <th>Attrition</th>\n",
              "    </tr>\n",
              "  </thead>\n",
              "  <tbody>\n",
              "    <tr>\n",
              "      <th>count</th>\n",
              "      <td>2351.000000</td>\n",
              "      <td>2351.000000</td>\n",
              "      <td>2351.000000</td>\n",
              "      <td>2351.000000</td>\n",
              "      <td>2351.000000</td>\n",
              "      <td>2351.000000</td>\n",
              "      <td>2351.000000</td>\n",
              "      <td>2351.000000</td>\n",
              "      <td>2351.000000</td>\n",
              "      <td>2351.000000</td>\n",
              "      <td>2351.000000</td>\n",
              "      <td>2351.000000</td>\n",
              "      <td>2351.000000</td>\n",
              "      <td>2351.000000</td>\n",
              "      <td>2351.000000</td>\n",
              "      <td>2351.000000</td>\n",
              "      <td>2351.000000</td>\n",
              "      <td>2351.000000</td>\n",
              "      <td>2351.000000</td>\n",
              "      <td>2351.000000</td>\n",
              "      <td>2351.000000</td>\n",
              "      <td>2351.000000</td>\n",
              "      <td>2351.000000</td>\n",
              "      <td>2351.000000</td>\n",
              "      <td>2351.000000</td>\n",
              "    </tr>\n",
              "    <tr>\n",
              "      <th>mean</th>\n",
              "      <td>3399.864313</td>\n",
              "      <td>36.967248</td>\n",
              "      <td>799.252233</td>\n",
              "      <td>9.253509</td>\n",
              "      <td>2.915355</td>\n",
              "      <td>2.713313</td>\n",
              "      <td>66.503615</td>\n",
              "      <td>2.751595</td>\n",
              "      <td>2.073586</td>\n",
              "      <td>2.720119</td>\n",
              "      <td>6541.506168</td>\n",
              "      <td>14289.114845</td>\n",
              "      <td>2.673330</td>\n",
              "      <td>15.146321</td>\n",
              "      <td>3.145045</td>\n",
              "      <td>2.759677</td>\n",
              "      <td>0.769885</td>\n",
              "      <td>11.349213</td>\n",
              "      <td>2.765632</td>\n",
              "      <td>2.777116</td>\n",
              "      <td>7.143769</td>\n",
              "      <td>4.238622</td>\n",
              "      <td>2.149298</td>\n",
              "      <td>4.222884</td>\n",
              "      <td>0.384517</td>\n",
              "    </tr>\n",
              "    <tr>\n",
              "      <th>std</th>\n",
              "      <td>2787.632321</td>\n",
              "      <td>9.108810</td>\n",
              "      <td>400.960014</td>\n",
              "      <td>8.137460</td>\n",
              "      <td>1.026491</td>\n",
              "      <td>1.083488</td>\n",
              "      <td>20.121564</td>\n",
              "      <td>0.701042</td>\n",
              "      <td>1.106320</td>\n",
              "      <td>1.092691</td>\n",
              "      <td>4727.405739</td>\n",
              "      <td>7052.760571</td>\n",
              "      <td>2.507615</td>\n",
              "      <td>3.578521</td>\n",
              "      <td>0.352221</td>\n",
              "      <td>1.077273</td>\n",
              "      <td>0.828869</td>\n",
              "      <td>7.872394</td>\n",
              "      <td>1.313411</td>\n",
              "      <td>0.707771</td>\n",
              "      <td>6.293915</td>\n",
              "      <td>3.644356</td>\n",
              "      <td>3.212648</td>\n",
              "      <td>3.650894</td>\n",
              "      <td>0.486584</td>\n",
              "    </tr>\n",
              "    <tr>\n",
              "      <th>min</th>\n",
              "      <td>1.000000</td>\n",
              "      <td>18.000000</td>\n",
              "      <td>102.000000</td>\n",
              "      <td>1.000000</td>\n",
              "      <td>1.000000</td>\n",
              "      <td>1.000000</td>\n",
              "      <td>30.000000</td>\n",
              "      <td>1.000000</td>\n",
              "      <td>1.000000</td>\n",
              "      <td>1.000000</td>\n",
              "      <td>1009.000000</td>\n",
              "      <td>2094.000000</td>\n",
              "      <td>0.000000</td>\n",
              "      <td>11.000000</td>\n",
              "      <td>3.000000</td>\n",
              "      <td>1.000000</td>\n",
              "      <td>0.000000</td>\n",
              "      <td>0.000000</td>\n",
              "      <td>0.000000</td>\n",
              "      <td>1.000000</td>\n",
              "      <td>0.000000</td>\n",
              "      <td>0.000000</td>\n",
              "      <td>0.000000</td>\n",
              "      <td>0.000000</td>\n",
              "      <td>0.000000</td>\n",
              "    </tr>\n",
              "    <tr>\n",
              "      <th>25%</th>\n",
              "      <td>909.500000</td>\n",
              "      <td>30.000000</td>\n",
              "      <td>461.500000</td>\n",
              "      <td>2.000000</td>\n",
              "      <td>2.000000</td>\n",
              "      <td>2.000000</td>\n",
              "      <td>49.000000</td>\n",
              "      <td>2.000000</td>\n",
              "      <td>1.000000</td>\n",
              "      <td>2.000000</td>\n",
              "      <td>2932.000000</td>\n",
              "      <td>8192.000000</td>\n",
              "      <td>1.000000</td>\n",
              "      <td>12.000000</td>\n",
              "      <td>3.000000</td>\n",
              "      <td>2.000000</td>\n",
              "      <td>0.000000</td>\n",
              "      <td>6.000000</td>\n",
              "      <td>2.000000</td>\n",
              "      <td>2.000000</td>\n",
              "      <td>3.000000</td>\n",
              "      <td>2.000000</td>\n",
              "      <td>0.000000</td>\n",
              "      <td>2.000000</td>\n",
              "      <td>0.000000</td>\n",
              "    </tr>\n",
              "    <tr>\n",
              "      <th>50%</th>\n",
              "      <td>1830.000000</td>\n",
              "      <td>36.000000</td>\n",
              "      <td>802.000000</td>\n",
              "      <td>7.000000</td>\n",
              "      <td>3.000000</td>\n",
              "      <td>3.000000</td>\n",
              "      <td>67.000000</td>\n",
              "      <td>3.000000</td>\n",
              "      <td>2.000000</td>\n",
              "      <td>3.000000</td>\n",
              "      <td>4968.000000</td>\n",
              "      <td>14199.000000</td>\n",
              "      <td>2.000000</td>\n",
              "      <td>14.000000</td>\n",
              "      <td>3.000000</td>\n",
              "      <td>3.000000</td>\n",
              "      <td>1.000000</td>\n",
              "      <td>10.000000</td>\n",
              "      <td>3.000000</td>\n",
              "      <td>3.000000</td>\n",
              "      <td>5.000000</td>\n",
              "      <td>3.000000</td>\n",
              "      <td>1.000000</td>\n",
              "      <td>3.000000</td>\n",
              "      <td>0.000000</td>\n",
              "    </tr>\n",
              "    <tr>\n",
              "      <th>75%</th>\n",
              "      <td>6226.500000</td>\n",
              "      <td>43.000000</td>\n",
              "      <td>1153.500000</td>\n",
              "      <td>14.000000</td>\n",
              "      <td>4.000000</td>\n",
              "      <td>4.000000</td>\n",
              "      <td>84.000000</td>\n",
              "      <td>3.000000</td>\n",
              "      <td>3.000000</td>\n",
              "      <td>4.000000</td>\n",
              "      <td>8487.000000</td>\n",
              "      <td>20351.000000</td>\n",
              "      <td>4.000000</td>\n",
              "      <td>18.000000</td>\n",
              "      <td>3.000000</td>\n",
              "      <td>4.000000</td>\n",
              "      <td>1.000000</td>\n",
              "      <td>15.000000</td>\n",
              "      <td>3.000000</td>\n",
              "      <td>3.000000</td>\n",
              "      <td>10.000000</td>\n",
              "      <td>7.000000</td>\n",
              "      <td>2.000000</td>\n",
              "      <td>7.000000</td>\n",
              "      <td>1.000000</td>\n",
              "    </tr>\n",
              "    <tr>\n",
              "      <th>max</th>\n",
              "      <td>7963.000000</td>\n",
              "      <td>60.000000</td>\n",
              "      <td>1498.000000</td>\n",
              "      <td>29.000000</td>\n",
              "      <td>5.000000</td>\n",
              "      <td>4.000000</td>\n",
              "      <td>100.000000</td>\n",
              "      <td>4.000000</td>\n",
              "      <td>5.000000</td>\n",
              "      <td>4.000000</td>\n",
              "      <td>19999.000000</td>\n",
              "      <td>26999.000000</td>\n",
              "      <td>9.000000</td>\n",
              "      <td>25.000000</td>\n",
              "      <td>4.000000</td>\n",
              "      <td>4.000000</td>\n",
              "      <td>3.000000</td>\n",
              "      <td>40.000000</td>\n",
              "      <td>6.000000</td>\n",
              "      <td>4.000000</td>\n",
              "      <td>40.000000</td>\n",
              "      <td>18.000000</td>\n",
              "      <td>15.000000</td>\n",
              "      <td>17.000000</td>\n",
              "      <td>1.000000</td>\n",
              "    </tr>\n",
              "  </tbody>\n",
              "</table>\n",
              "</div>"
            ],
            "text/plain": [
              "       EmployeeNumber          Age  ...  YearsWithCurrManager    Attrition\n",
              "count     2351.000000  2351.000000  ...           2351.000000  2351.000000\n",
              "mean      3399.864313    36.967248  ...              4.222884     0.384517\n",
              "std       2787.632321     9.108810  ...              3.650894     0.486584\n",
              "min          1.000000    18.000000  ...              0.000000     0.000000\n",
              "25%        909.500000    30.000000  ...              2.000000     0.000000\n",
              "50%       1830.000000    36.000000  ...              3.000000     0.000000\n",
              "75%       6226.500000    43.000000  ...              7.000000     1.000000\n",
              "max       7963.000000    60.000000  ...             17.000000     1.000000\n",
              "\n",
              "[8 rows x 25 columns]"
            ]
          },
          "metadata": {
            "tags": []
          },
          "execution_count": 16
        }
      ]
    },
    {
      "cell_type": "code",
      "metadata": {
        "colab": {
          "base_uri": "https://localhost:8080/"
        },
        "id": "Fh7BcLMhhTpQ",
        "outputId": "d54ce3da-c36c-454d-8336-13f928257d11"
      },
      "source": [
        "# Porównanie średnich wartości w zbiorze final test i treningowym odfiltrowanym\n",
        "data_final_test.mean() , data_test_filtered.mean()"
      ],
      "execution_count": 17,
      "outputs": [
        {
          "output_type": "execute_result",
          "data": {
            "text/plain": [
              "(EmployeeNumber              100073.000000\n",
              " Age                             37.619048\n",
              " DailyRate                      806.115646\n",
              " DistanceFromHome                 9.761905\n",
              " Education                        3.000000\n",
              " EnvironmentSatisfaction          2.707483\n",
              " HourlyRate                      64.238095\n",
              " JobInvolvement                   2.680272\n",
              " JobLevel                         2.108844\n",
              " JobSatisfaction                  2.782313\n",
              " MonthlyIncome                 6914.183673\n",
              " MonthlyRate                  14563.448980\n",
              " NumCompaniesWorked               2.809524\n",
              " PercentSalaryHike               15.877551\n",
              " PerformanceRating                3.210884\n",
              " RelationshipSatisfaction         2.721088\n",
              " StockOptionLevel                 0.727891\n",
              " TotalWorkingYears               11.612245\n",
              " TrainingTimesLastYear            2.972789\n",
              " WorkLifeBalance                  2.714286\n",
              " YearsAtCompany                   6.829932\n",
              " YearsInCurrentRole               4.414966\n",
              " YearsSinceLastPromotion          2.095238\n",
              " YearsWithCurrManager             4.129252\n",
              " Attrition                             NaN\n",
              " dtype: float64, EmployeeNumber               3399.864313\n",
              " Age                            36.967248\n",
              " DailyRate                     799.252233\n",
              " DistanceFromHome                9.253509\n",
              " Education                       2.915355\n",
              " EnvironmentSatisfaction         2.713313\n",
              " HourlyRate                     66.503615\n",
              " JobInvolvement                  2.751595\n",
              " JobLevel                        2.073586\n",
              " JobSatisfaction                 2.720119\n",
              " MonthlyIncome                6541.506168\n",
              " MonthlyRate                 14289.114845\n",
              " NumCompaniesWorked              2.673330\n",
              " PercentSalaryHike              15.146321\n",
              " PerformanceRating               3.145045\n",
              " RelationshipSatisfaction        2.759677\n",
              " StockOptionLevel                0.769885\n",
              " TotalWorkingYears              11.349213\n",
              " TrainingTimesLastYear           2.765632\n",
              " WorkLifeBalance                 2.777116\n",
              " YearsAtCompany                  7.143769\n",
              " YearsInCurrentRole              4.238622\n",
              " YearsSinceLastPromotion         2.149298\n",
              " YearsWithCurrManager            4.222884\n",
              " Attrition                       0.384517\n",
              " dtype: float64)"
            ]
          },
          "metadata": {
            "tags": []
          },
          "execution_count": 17
        }
      ]
    },
    {
      "cell_type": "markdown",
      "metadata": {
        "id": "mP2yaEgKe5KH"
      },
      "source": [
        "Z zestawienia wartości średnich zbioru testowego i treningowego widać, że po odsianiu górnych 7% wartości rząd wielkości wartości średnich w obu zbiorach danych jest zbliżony.\n",
        "Pozwala wysnuć to wniosek, że dane wykorzystane do wyuczenia modelu dadzą wiarygodne wyniki dla danych testowych."
      ]
    },
    {
      "cell_type": "code",
      "metadata": {
        "id": "u28kyyLdd5n6"
      },
      "source": [
        "data_test_filtered_without_empnum_atr = data_test_filtered.drop(labels=['EmployeeNumber', 'Attrition'], axis=1)"
      ],
      "execution_count": 18,
      "outputs": []
    },
    {
      "cell_type": "code",
      "metadata": {
        "colab": {
          "base_uri": "https://localhost:8080/"
        },
        "id": "mUtvpwqufQnw",
        "outputId": "6b5be2ac-adab-43fb-a0d3-072245d6277a"
      },
      "source": [
        "data_test_filtered_without_empnum_atr.shape"
      ],
      "execution_count": 19,
      "outputs": [
        {
          "output_type": "execute_result",
          "data": {
            "text/plain": [
              "(2351, 30)"
            ]
          },
          "metadata": {
            "tags": []
          },
          "execution_count": 19
        }
      ]
    },
    {
      "cell_type": "code",
      "metadata": {
        "colab": {
          "base_uri": "https://localhost:8080/"
        },
        "id": "EhTlZAoJdiVn",
        "outputId": "111cdbb1-389f-43ec-fe38-6568f876e546"
      },
      "source": [
        "# Sprawdzenie czy odfiltrowane dane posiadają duplikaty\n",
        "data_test_filtered_without_empnum_atr.duplicated().sum()"
      ],
      "execution_count": 20,
      "outputs": [
        {
          "output_type": "execute_result",
          "data": {
            "text/plain": [
              "978"
            ]
          },
          "metadata": {
            "tags": []
          },
          "execution_count": 20
        }
      ]
    },
    {
      "cell_type": "code",
      "metadata": {
        "id": "Q7IlZ1VPeg19"
      },
      "source": [
        "# Usunięcie duplikatów\n",
        "data_test_filtered_unduplicated = data_test_filtered_without_empnum_atr.drop_duplicates(keep=False)"
      ],
      "execution_count": 21,
      "outputs": []
    },
    {
      "cell_type": "code",
      "metadata": {
        "colab": {
          "base_uri": "https://localhost:8080/"
        },
        "id": "znNYO69jfbub",
        "outputId": "25fa0112-b167-47a6-a4d7-867b759e248f"
      },
      "source": [
        "# Sprawdzenie rozmiaru danych po usunięciu duplikatów\n",
        "data_test_filtered_unduplicated.shape"
      ],
      "execution_count": 22,
      "outputs": [
        {
          "output_type": "execute_result",
          "data": {
            "text/plain": [
              "(875, 30)"
            ]
          },
          "metadata": {
            "tags": []
          },
          "execution_count": 22
        }
      ]
    },
    {
      "cell_type": "code",
      "metadata": {
        "colab": {
          "base_uri": "https://localhost:8080/"
        },
        "id": "xdO3eq69fy_4",
        "outputId": "7a44825f-4b09-42c3-88f9-fffe5e8f7a7f"
      },
      "source": [
        "# Weryfikacja duplikatów\n",
        "data_test_filtered_unduplicated.duplicated().sum()"
      ],
      "execution_count": 23,
      "outputs": [
        {
          "output_type": "execute_result",
          "data": {
            "text/plain": [
              "0"
            ]
          },
          "metadata": {
            "tags": []
          },
          "execution_count": 23
        }
      ]
    },
    {
      "cell_type": "code",
      "metadata": {
        "id": "2KoVtkyOj9yu"
      },
      "source": [
        "# Przywrócenie kolumny Attrition i EmployeeNumber w przygotowanych danych\n",
        "data_test_filtered_unduplicated_with_attr = data_test_filtered_unduplicated.merge(data_test_filtered, how='left')"
      ],
      "execution_count": 24,
      "outputs": []
    },
    {
      "cell_type": "code",
      "metadata": {
        "colab": {
          "base_uri": "https://localhost:8080/"
        },
        "id": "6PRE19yeqkc3",
        "outputId": "9665f9aa-04bc-435c-de48-d6bb57ed427d"
      },
      "source": [
        "# Sprawdzenie rozmiaru danych\n",
        "data_test_filtered_unduplicated_with_attr.shape"
      ],
      "execution_count": 26,
      "outputs": [
        {
          "output_type": "execute_result",
          "data": {
            "text/plain": [
              "(875, 32)"
            ]
          },
          "metadata": {
            "tags": []
          },
          "execution_count": 26
        }
      ]
    },
    {
      "cell_type": "code",
      "metadata": {
        "colab": {
          "base_uri": "https://localhost:8080/",
          "height": 313
        },
        "id": "gSrSaRNbqr8y",
        "outputId": "c7ddb4fe-3282-4719-c1ea-f3bcc0ceace4"
      },
      "source": [
        "data_test_filtered_unduplicated_with_attr.head()"
      ],
      "execution_count": 25,
      "outputs": [
        {
          "output_type": "execute_result",
          "data": {
            "text/html": [
              "<div>\n",
              "<style scoped>\n",
              "    .dataframe tbody tr th:only-of-type {\n",
              "        vertical-align: middle;\n",
              "    }\n",
              "\n",
              "    .dataframe tbody tr th {\n",
              "        vertical-align: top;\n",
              "    }\n",
              "\n",
              "    .dataframe thead th {\n",
              "        text-align: right;\n",
              "    }\n",
              "</style>\n",
              "<table border=\"1\" class=\"dataframe\">\n",
              "  <thead>\n",
              "    <tr style=\"text-align: right;\">\n",
              "      <th></th>\n",
              "      <th>Age</th>\n",
              "      <th>BusinessTravel</th>\n",
              "      <th>DailyRate</th>\n",
              "      <th>Department</th>\n",
              "      <th>DistanceFromHome</th>\n",
              "      <th>Education</th>\n",
              "      <th>EducationField</th>\n",
              "      <th>EnvironmentSatisfaction</th>\n",
              "      <th>Gender</th>\n",
              "      <th>HourlyRate</th>\n",
              "      <th>JobInvolvement</th>\n",
              "      <th>JobLevel</th>\n",
              "      <th>JobRole</th>\n",
              "      <th>JobSatisfaction</th>\n",
              "      <th>MaritalStatus</th>\n",
              "      <th>MonthlyIncome</th>\n",
              "      <th>MonthlyRate</th>\n",
              "      <th>NumCompaniesWorked</th>\n",
              "      <th>OverTime</th>\n",
              "      <th>PercentSalaryHike</th>\n",
              "      <th>PerformanceRating</th>\n",
              "      <th>RelationshipSatisfaction</th>\n",
              "      <th>StockOptionLevel</th>\n",
              "      <th>TotalWorkingYears</th>\n",
              "      <th>TrainingTimesLastYear</th>\n",
              "      <th>WorkLifeBalance</th>\n",
              "      <th>YearsAtCompany</th>\n",
              "      <th>YearsInCurrentRole</th>\n",
              "      <th>YearsSinceLastPromotion</th>\n",
              "      <th>YearsWithCurrManager</th>\n",
              "      <th>EmployeeNumber</th>\n",
              "      <th>Attrition</th>\n",
              "    </tr>\n",
              "  </thead>\n",
              "  <tbody>\n",
              "    <tr>\n",
              "      <th>0</th>\n",
              "      <td>30.0</td>\n",
              "      <td>Travel_Rarely</td>\n",
              "      <td>852.0</td>\n",
              "      <td>Research &amp; Development</td>\n",
              "      <td>1.0</td>\n",
              "      <td>1.0</td>\n",
              "      <td>Life Sciences</td>\n",
              "      <td>4.0</td>\n",
              "      <td>Male</td>\n",
              "      <td>55.0</td>\n",
              "      <td>2.0</td>\n",
              "      <td>2.0</td>\n",
              "      <td>Laboratory Technician</td>\n",
              "      <td>4.0</td>\n",
              "      <td>Married</td>\n",
              "      <td>5126.0</td>\n",
              "      <td>15998.0</td>\n",
              "      <td>1.0</td>\n",
              "      <td>Yes</td>\n",
              "      <td>12.0</td>\n",
              "      <td>3.0</td>\n",
              "      <td>3.0</td>\n",
              "      <td>2.0</td>\n",
              "      <td>10.0</td>\n",
              "      <td>1.0</td>\n",
              "      <td>2.0</td>\n",
              "      <td>10.0</td>\n",
              "      <td>8.0</td>\n",
              "      <td>3.0</td>\n",
              "      <td>0.0</td>\n",
              "      <td>104</td>\n",
              "      <td>0</td>\n",
              "    </tr>\n",
              "    <tr>\n",
              "      <th>1</th>\n",
              "      <td>38.0</td>\n",
              "      <td>Travel_Rarely</td>\n",
              "      <td>397.0</td>\n",
              "      <td>Research &amp; Development</td>\n",
              "      <td>2.0</td>\n",
              "      <td>2.0</td>\n",
              "      <td>Medical</td>\n",
              "      <td>4.0</td>\n",
              "      <td>Female</td>\n",
              "      <td>54.0</td>\n",
              "      <td>2.0</td>\n",
              "      <td>3.0</td>\n",
              "      <td>Manufacturing Director</td>\n",
              "      <td>3.0</td>\n",
              "      <td>Married</td>\n",
              "      <td>7756.0</td>\n",
              "      <td>14199.0</td>\n",
              "      <td>3.0</td>\n",
              "      <td>Yes</td>\n",
              "      <td>19.0</td>\n",
              "      <td>3.0</td>\n",
              "      <td>4.0</td>\n",
              "      <td>1.0</td>\n",
              "      <td>10.0</td>\n",
              "      <td>6.0</td>\n",
              "      <td>4.0</td>\n",
              "      <td>5.0</td>\n",
              "      <td>4.0</td>\n",
              "      <td>0.0</td>\n",
              "      <td>2.0</td>\n",
              "      <td>1638</td>\n",
              "      <td>0</td>\n",
              "    </tr>\n",
              "    <tr>\n",
              "      <th>2</th>\n",
              "      <td>26.0</td>\n",
              "      <td>Travel_Rarely</td>\n",
              "      <td>841.0</td>\n",
              "      <td>Research &amp; Development</td>\n",
              "      <td>6.0</td>\n",
              "      <td>3.0</td>\n",
              "      <td>Other</td>\n",
              "      <td>3.0</td>\n",
              "      <td>Female</td>\n",
              "      <td>46.0</td>\n",
              "      <td>2.0</td>\n",
              "      <td>1.0</td>\n",
              "      <td>Research Scientist</td>\n",
              "      <td>2.0</td>\n",
              "      <td>Married</td>\n",
              "      <td>2368.0</td>\n",
              "      <td>23300.0</td>\n",
              "      <td>1.0</td>\n",
              "      <td>No</td>\n",
              "      <td>19.0</td>\n",
              "      <td>3.0</td>\n",
              "      <td>3.0</td>\n",
              "      <td>0.0</td>\n",
              "      <td>5.0</td>\n",
              "      <td>3.0</td>\n",
              "      <td>2.0</td>\n",
              "      <td>5.0</td>\n",
              "      <td>4.0</td>\n",
              "      <td>4.0</td>\n",
              "      <td>3.0</td>\n",
              "      <td>164</td>\n",
              "      <td>0</td>\n",
              "    </tr>\n",
              "    <tr>\n",
              "      <th>3</th>\n",
              "      <td>35.0</td>\n",
              "      <td>Travel_Rarely</td>\n",
              "      <td>464.0</td>\n",
              "      <td>Research &amp; Development</td>\n",
              "      <td>4.0</td>\n",
              "      <td>2.0</td>\n",
              "      <td>Other</td>\n",
              "      <td>3.0</td>\n",
              "      <td>Male</td>\n",
              "      <td>75.0</td>\n",
              "      <td>3.0</td>\n",
              "      <td>1.0</td>\n",
              "      <td>Laboratory Technician</td>\n",
              "      <td>4.0</td>\n",
              "      <td>Divorced</td>\n",
              "      <td>1951.0</td>\n",
              "      <td>10910.0</td>\n",
              "      <td>1.0</td>\n",
              "      <td>No</td>\n",
              "      <td>12.0</td>\n",
              "      <td>3.0</td>\n",
              "      <td>3.0</td>\n",
              "      <td>1.0</td>\n",
              "      <td>1.0</td>\n",
              "      <td>3.0</td>\n",
              "      <td>3.0</td>\n",
              "      <td>1.0</td>\n",
              "      <td>0.0</td>\n",
              "      <td>0.0</td>\n",
              "      <td>0.0</td>\n",
              "      <td>53</td>\n",
              "      <td>0</td>\n",
              "    </tr>\n",
              "    <tr>\n",
              "      <th>4</th>\n",
              "      <td>34.0</td>\n",
              "      <td>Travel_Rarely</td>\n",
              "      <td>1107.0</td>\n",
              "      <td>Human Resources</td>\n",
              "      <td>9.0</td>\n",
              "      <td>4.0</td>\n",
              "      <td>Technical Degree</td>\n",
              "      <td>1.0</td>\n",
              "      <td>Female</td>\n",
              "      <td>52.0</td>\n",
              "      <td>3.0</td>\n",
              "      <td>1.0</td>\n",
              "      <td>Human Resources</td>\n",
              "      <td>3.0</td>\n",
              "      <td>Married</td>\n",
              "      <td>2742.0</td>\n",
              "      <td>3072.0</td>\n",
              "      <td>1.0</td>\n",
              "      <td>No</td>\n",
              "      <td>15.0</td>\n",
              "      <td>3.0</td>\n",
              "      <td>4.0</td>\n",
              "      <td>0.0</td>\n",
              "      <td>2.0</td>\n",
              "      <td>0.0</td>\n",
              "      <td>3.0</td>\n",
              "      <td>2.0</td>\n",
              "      <td>2.0</td>\n",
              "      <td>2.0</td>\n",
              "      <td>2.0</td>\n",
              "      <td>1467</td>\n",
              "      <td>1</td>\n",
              "    </tr>\n",
              "  </tbody>\n",
              "</table>\n",
              "</div>"
            ],
            "text/plain": [
              "    Age BusinessTravel  ...  EmployeeNumber Attrition\n",
              "0  30.0  Travel_Rarely  ...             104         0\n",
              "1  38.0  Travel_Rarely  ...            1638         0\n",
              "2  26.0  Travel_Rarely  ...             164         0\n",
              "3  35.0  Travel_Rarely  ...              53         0\n",
              "4  34.0  Travel_Rarely  ...            1467         1\n",
              "\n",
              "[5 rows x 32 columns]"
            ]
          },
          "metadata": {
            "tags": []
          },
          "execution_count": 25
        }
      ]
    },
    {
      "cell_type": "markdown",
      "metadata": {
        "id": "8cycrluTgKll"
      },
      "source": [
        "Dane zostały odfiltorwane i zostały usunięte duplikaty."
      ]
    },
    {
      "cell_type": "code",
      "metadata": {
        "id": "yircfOE9f8Eu"
      },
      "source": [
        "# Zamiana w etykietowwanych featurach etykiet klasyfikujących na one hot vector\n",
        "data_test_filtered_dummies = pd.get_dummies(data_test_filtered_unduplicated_with_attr, columns=['BusinessTravel', 'Department', 'EducationField', 'Gender', 'JobRole', 'MaritalStatus', 'OverTime'])"
      ],
      "execution_count": 27,
      "outputs": []
    },
    {
      "cell_type": "code",
      "metadata": {
        "colab": {
          "base_uri": "https://localhost:8080/"
        },
        "id": "1LHwulJJjCRZ",
        "outputId": "580b5839-249c-40a0-e9d8-a64f6039d177"
      },
      "source": [
        "# Sprawdzenie rozmiaru one hot vector\n",
        "data_test_filtered_dummies.shape"
      ],
      "execution_count": 28,
      "outputs": [
        {
          "output_type": "execute_result",
          "data": {
            "text/plain": [
              "(875, 53)"
            ]
          },
          "metadata": {
            "tags": []
          },
          "execution_count": 28
        }
      ]
    },
    {
      "cell_type": "code",
      "metadata": {
        "colab": {
          "base_uri": "https://localhost:8080/",
          "height": 244
        },
        "id": "62MErPSzjQ0G",
        "outputId": "f7296226-89b0-455c-bb04-3b61390c52c5"
      },
      "source": [
        "data_test_filtered_dummies.head()"
      ],
      "execution_count": 29,
      "outputs": [
        {
          "output_type": "execute_result",
          "data": {
            "text/html": [
              "<div>\n",
              "<style scoped>\n",
              "    .dataframe tbody tr th:only-of-type {\n",
              "        vertical-align: middle;\n",
              "    }\n",
              "\n",
              "    .dataframe tbody tr th {\n",
              "        vertical-align: top;\n",
              "    }\n",
              "\n",
              "    .dataframe thead th {\n",
              "        text-align: right;\n",
              "    }\n",
              "</style>\n",
              "<table border=\"1\" class=\"dataframe\">\n",
              "  <thead>\n",
              "    <tr style=\"text-align: right;\">\n",
              "      <th></th>\n",
              "      <th>Age</th>\n",
              "      <th>DailyRate</th>\n",
              "      <th>DistanceFromHome</th>\n",
              "      <th>Education</th>\n",
              "      <th>EnvironmentSatisfaction</th>\n",
              "      <th>HourlyRate</th>\n",
              "      <th>JobInvolvement</th>\n",
              "      <th>JobLevel</th>\n",
              "      <th>JobSatisfaction</th>\n",
              "      <th>MonthlyIncome</th>\n",
              "      <th>MonthlyRate</th>\n",
              "      <th>NumCompaniesWorked</th>\n",
              "      <th>PercentSalaryHike</th>\n",
              "      <th>PerformanceRating</th>\n",
              "      <th>RelationshipSatisfaction</th>\n",
              "      <th>StockOptionLevel</th>\n",
              "      <th>TotalWorkingYears</th>\n",
              "      <th>TrainingTimesLastYear</th>\n",
              "      <th>WorkLifeBalance</th>\n",
              "      <th>YearsAtCompany</th>\n",
              "      <th>YearsInCurrentRole</th>\n",
              "      <th>YearsSinceLastPromotion</th>\n",
              "      <th>YearsWithCurrManager</th>\n",
              "      <th>EmployeeNumber</th>\n",
              "      <th>Attrition</th>\n",
              "      <th>BusinessTravel_Non-Travel</th>\n",
              "      <th>BusinessTravel_Travel_Frequently</th>\n",
              "      <th>BusinessTravel_Travel_Rarely</th>\n",
              "      <th>Department_Human Resources</th>\n",
              "      <th>Department_Research &amp; Development</th>\n",
              "      <th>Department_Sales</th>\n",
              "      <th>EducationField_Human Resources</th>\n",
              "      <th>EducationField_Life Sciences</th>\n",
              "      <th>EducationField_Marketing</th>\n",
              "      <th>EducationField_Medical</th>\n",
              "      <th>EducationField_Other</th>\n",
              "      <th>EducationField_Technical Degree</th>\n",
              "      <th>Gender_Female</th>\n",
              "      <th>Gender_Male</th>\n",
              "      <th>JobRole_Healthcare Representative</th>\n",
              "      <th>JobRole_Human Resources</th>\n",
              "      <th>JobRole_Laboratory Technician</th>\n",
              "      <th>JobRole_Manager</th>\n",
              "      <th>JobRole_Manufacturing Director</th>\n",
              "      <th>JobRole_Research Director</th>\n",
              "      <th>JobRole_Research Scientist</th>\n",
              "      <th>JobRole_Sales Executive</th>\n",
              "      <th>JobRole_Sales Representative</th>\n",
              "      <th>MaritalStatus_Divorced</th>\n",
              "      <th>MaritalStatus_Married</th>\n",
              "      <th>MaritalStatus_Single</th>\n",
              "      <th>OverTime_No</th>\n",
              "      <th>OverTime_Yes</th>\n",
              "    </tr>\n",
              "  </thead>\n",
              "  <tbody>\n",
              "    <tr>\n",
              "      <th>0</th>\n",
              "      <td>30.0</td>\n",
              "      <td>852.0</td>\n",
              "      <td>1.0</td>\n",
              "      <td>1.0</td>\n",
              "      <td>4.0</td>\n",
              "      <td>55.0</td>\n",
              "      <td>2.0</td>\n",
              "      <td>2.0</td>\n",
              "      <td>4.0</td>\n",
              "      <td>5126.0</td>\n",
              "      <td>15998.0</td>\n",
              "      <td>1.0</td>\n",
              "      <td>12.0</td>\n",
              "      <td>3.0</td>\n",
              "      <td>3.0</td>\n",
              "      <td>2.0</td>\n",
              "      <td>10.0</td>\n",
              "      <td>1.0</td>\n",
              "      <td>2.0</td>\n",
              "      <td>10.0</td>\n",
              "      <td>8.0</td>\n",
              "      <td>3.0</td>\n",
              "      <td>0.0</td>\n",
              "      <td>104</td>\n",
              "      <td>0</td>\n",
              "      <td>0</td>\n",
              "      <td>0</td>\n",
              "      <td>1</td>\n",
              "      <td>0</td>\n",
              "      <td>1</td>\n",
              "      <td>0</td>\n",
              "      <td>0</td>\n",
              "      <td>1</td>\n",
              "      <td>0</td>\n",
              "      <td>0</td>\n",
              "      <td>0</td>\n",
              "      <td>0</td>\n",
              "      <td>0</td>\n",
              "      <td>1</td>\n",
              "      <td>0</td>\n",
              "      <td>0</td>\n",
              "      <td>1</td>\n",
              "      <td>0</td>\n",
              "      <td>0</td>\n",
              "      <td>0</td>\n",
              "      <td>0</td>\n",
              "      <td>0</td>\n",
              "      <td>0</td>\n",
              "      <td>0</td>\n",
              "      <td>1</td>\n",
              "      <td>0</td>\n",
              "      <td>0</td>\n",
              "      <td>1</td>\n",
              "    </tr>\n",
              "    <tr>\n",
              "      <th>1</th>\n",
              "      <td>38.0</td>\n",
              "      <td>397.0</td>\n",
              "      <td>2.0</td>\n",
              "      <td>2.0</td>\n",
              "      <td>4.0</td>\n",
              "      <td>54.0</td>\n",
              "      <td>2.0</td>\n",
              "      <td>3.0</td>\n",
              "      <td>3.0</td>\n",
              "      <td>7756.0</td>\n",
              "      <td>14199.0</td>\n",
              "      <td>3.0</td>\n",
              "      <td>19.0</td>\n",
              "      <td>3.0</td>\n",
              "      <td>4.0</td>\n",
              "      <td>1.0</td>\n",
              "      <td>10.0</td>\n",
              "      <td>6.0</td>\n",
              "      <td>4.0</td>\n",
              "      <td>5.0</td>\n",
              "      <td>4.0</td>\n",
              "      <td>0.0</td>\n",
              "      <td>2.0</td>\n",
              "      <td>1638</td>\n",
              "      <td>0</td>\n",
              "      <td>0</td>\n",
              "      <td>0</td>\n",
              "      <td>1</td>\n",
              "      <td>0</td>\n",
              "      <td>1</td>\n",
              "      <td>0</td>\n",
              "      <td>0</td>\n",
              "      <td>0</td>\n",
              "      <td>0</td>\n",
              "      <td>1</td>\n",
              "      <td>0</td>\n",
              "      <td>0</td>\n",
              "      <td>1</td>\n",
              "      <td>0</td>\n",
              "      <td>0</td>\n",
              "      <td>0</td>\n",
              "      <td>0</td>\n",
              "      <td>0</td>\n",
              "      <td>1</td>\n",
              "      <td>0</td>\n",
              "      <td>0</td>\n",
              "      <td>0</td>\n",
              "      <td>0</td>\n",
              "      <td>0</td>\n",
              "      <td>1</td>\n",
              "      <td>0</td>\n",
              "      <td>0</td>\n",
              "      <td>1</td>\n",
              "    </tr>\n",
              "    <tr>\n",
              "      <th>2</th>\n",
              "      <td>26.0</td>\n",
              "      <td>841.0</td>\n",
              "      <td>6.0</td>\n",
              "      <td>3.0</td>\n",
              "      <td>3.0</td>\n",
              "      <td>46.0</td>\n",
              "      <td>2.0</td>\n",
              "      <td>1.0</td>\n",
              "      <td>2.0</td>\n",
              "      <td>2368.0</td>\n",
              "      <td>23300.0</td>\n",
              "      <td>1.0</td>\n",
              "      <td>19.0</td>\n",
              "      <td>3.0</td>\n",
              "      <td>3.0</td>\n",
              "      <td>0.0</td>\n",
              "      <td>5.0</td>\n",
              "      <td>3.0</td>\n",
              "      <td>2.0</td>\n",
              "      <td>5.0</td>\n",
              "      <td>4.0</td>\n",
              "      <td>4.0</td>\n",
              "      <td>3.0</td>\n",
              "      <td>164</td>\n",
              "      <td>0</td>\n",
              "      <td>0</td>\n",
              "      <td>0</td>\n",
              "      <td>1</td>\n",
              "      <td>0</td>\n",
              "      <td>1</td>\n",
              "      <td>0</td>\n",
              "      <td>0</td>\n",
              "      <td>0</td>\n",
              "      <td>0</td>\n",
              "      <td>0</td>\n",
              "      <td>1</td>\n",
              "      <td>0</td>\n",
              "      <td>1</td>\n",
              "      <td>0</td>\n",
              "      <td>0</td>\n",
              "      <td>0</td>\n",
              "      <td>0</td>\n",
              "      <td>0</td>\n",
              "      <td>0</td>\n",
              "      <td>0</td>\n",
              "      <td>1</td>\n",
              "      <td>0</td>\n",
              "      <td>0</td>\n",
              "      <td>0</td>\n",
              "      <td>1</td>\n",
              "      <td>0</td>\n",
              "      <td>1</td>\n",
              "      <td>0</td>\n",
              "    </tr>\n",
              "    <tr>\n",
              "      <th>3</th>\n",
              "      <td>35.0</td>\n",
              "      <td>464.0</td>\n",
              "      <td>4.0</td>\n",
              "      <td>2.0</td>\n",
              "      <td>3.0</td>\n",
              "      <td>75.0</td>\n",
              "      <td>3.0</td>\n",
              "      <td>1.0</td>\n",
              "      <td>4.0</td>\n",
              "      <td>1951.0</td>\n",
              "      <td>10910.0</td>\n",
              "      <td>1.0</td>\n",
              "      <td>12.0</td>\n",
              "      <td>3.0</td>\n",
              "      <td>3.0</td>\n",
              "      <td>1.0</td>\n",
              "      <td>1.0</td>\n",
              "      <td>3.0</td>\n",
              "      <td>3.0</td>\n",
              "      <td>1.0</td>\n",
              "      <td>0.0</td>\n",
              "      <td>0.0</td>\n",
              "      <td>0.0</td>\n",
              "      <td>53</td>\n",
              "      <td>0</td>\n",
              "      <td>0</td>\n",
              "      <td>0</td>\n",
              "      <td>1</td>\n",
              "      <td>0</td>\n",
              "      <td>1</td>\n",
              "      <td>0</td>\n",
              "      <td>0</td>\n",
              "      <td>0</td>\n",
              "      <td>0</td>\n",
              "      <td>0</td>\n",
              "      <td>1</td>\n",
              "      <td>0</td>\n",
              "      <td>0</td>\n",
              "      <td>1</td>\n",
              "      <td>0</td>\n",
              "      <td>0</td>\n",
              "      <td>1</td>\n",
              "      <td>0</td>\n",
              "      <td>0</td>\n",
              "      <td>0</td>\n",
              "      <td>0</td>\n",
              "      <td>0</td>\n",
              "      <td>0</td>\n",
              "      <td>1</td>\n",
              "      <td>0</td>\n",
              "      <td>0</td>\n",
              "      <td>1</td>\n",
              "      <td>0</td>\n",
              "    </tr>\n",
              "    <tr>\n",
              "      <th>4</th>\n",
              "      <td>34.0</td>\n",
              "      <td>1107.0</td>\n",
              "      <td>9.0</td>\n",
              "      <td>4.0</td>\n",
              "      <td>1.0</td>\n",
              "      <td>52.0</td>\n",
              "      <td>3.0</td>\n",
              "      <td>1.0</td>\n",
              "      <td>3.0</td>\n",
              "      <td>2742.0</td>\n",
              "      <td>3072.0</td>\n",
              "      <td>1.0</td>\n",
              "      <td>15.0</td>\n",
              "      <td>3.0</td>\n",
              "      <td>4.0</td>\n",
              "      <td>0.0</td>\n",
              "      <td>2.0</td>\n",
              "      <td>0.0</td>\n",
              "      <td>3.0</td>\n",
              "      <td>2.0</td>\n",
              "      <td>2.0</td>\n",
              "      <td>2.0</td>\n",
              "      <td>2.0</td>\n",
              "      <td>1467</td>\n",
              "      <td>1</td>\n",
              "      <td>0</td>\n",
              "      <td>0</td>\n",
              "      <td>1</td>\n",
              "      <td>1</td>\n",
              "      <td>0</td>\n",
              "      <td>0</td>\n",
              "      <td>0</td>\n",
              "      <td>0</td>\n",
              "      <td>0</td>\n",
              "      <td>0</td>\n",
              "      <td>0</td>\n",
              "      <td>1</td>\n",
              "      <td>1</td>\n",
              "      <td>0</td>\n",
              "      <td>0</td>\n",
              "      <td>1</td>\n",
              "      <td>0</td>\n",
              "      <td>0</td>\n",
              "      <td>0</td>\n",
              "      <td>0</td>\n",
              "      <td>0</td>\n",
              "      <td>0</td>\n",
              "      <td>0</td>\n",
              "      <td>0</td>\n",
              "      <td>1</td>\n",
              "      <td>0</td>\n",
              "      <td>1</td>\n",
              "      <td>0</td>\n",
              "    </tr>\n",
              "  </tbody>\n",
              "</table>\n",
              "</div>"
            ],
            "text/plain": [
              "    Age  DailyRate  ...  OverTime_No  OverTime_Yes\n",
              "0  30.0      852.0  ...            0             1\n",
              "1  38.0      397.0  ...            0             1\n",
              "2  26.0      841.0  ...            1             0\n",
              "3  35.0      464.0  ...            1             0\n",
              "4  34.0     1107.0  ...            1             0\n",
              "\n",
              "[5 rows x 53 columns]"
            ]
          },
          "metadata": {
            "tags": []
          },
          "execution_count": 29
        }
      ]
    },
    {
      "cell_type": "code",
      "metadata": {
        "id": "QlNgRsjrrvYN"
      },
      "source": [
        "# Pozbycie się EmployeeNumber\n",
        "data_test_filtered_dummies_without_empnum = data_test_filtered_dummies.drop(labels=['EmployeeNumber'], axis=1)"
      ],
      "execution_count": 30,
      "outputs": []
    },
    {
      "cell_type": "code",
      "metadata": {
        "colab": {
          "base_uri": "https://localhost:8080/"
        },
        "id": "Co-wQPoOsz9p",
        "outputId": "8851a40c-0474-4233-8b5d-0797cc4424fe"
      },
      "source": [
        "# Sprawdzenie ilości pustych rekordów\n",
        "data_test_filtered_dummies_without_empnum.isnull().sum().sum()"
      ],
      "execution_count": 31,
      "outputs": [
        {
          "output_type": "execute_result",
          "data": {
            "text/plain": [
              "0"
            ]
          },
          "metadata": {
            "tags": []
          },
          "execution_count": 31
        }
      ]
    },
    {
      "cell_type": "code",
      "metadata": {
        "colab": {
          "base_uri": "https://localhost:8080/",
          "height": 368
        },
        "id": "o6XKy56Ve338",
        "outputId": "2d91de71-4178-46d7-d364-30f71c75f29c"
      },
      "source": [
        "# Redukcja wymiarowości i sprawdzenie rozkładu danych \n",
        "plt.figure(figsize=(10, 5))\n",
        "X_pca = PCA().fit_transform(data_test_filtered_dummies_without_empnum.loc[:, data_test_filtered_dummies_without_empnum.columns != 'Attrition'])\n",
        "plt.title('PCA dataset')\n",
        "plt.xlabel('Dimension 1')\n",
        "plt.ylabel('Dimension 2 ')\n",
        "plt.scatter(X_pca[:,0], X_pca[:,1], c=data_test_filtered_dummies_without_empnum.Attrition)"
      ],
      "execution_count": 32,
      "outputs": [
        {
          "output_type": "execute_result",
          "data": {
            "text/plain": [
              "<matplotlib.collections.PathCollection at 0x7f0c22b2c940>"
            ]
          },
          "metadata": {
            "tags": []
          },
          "execution_count": 32
        },
        {
          "output_type": "display_data",
          "data": {
            "image/png": "[encoded data removed]",
            "text/plain": [
              "<Figure size 720x360 with 1 Axes>"
            ]
          },
          "metadata": {
            "tags": [],
            "needs_background": "light"
          }
        }
      ]
    },
    {
      "cell_type": "markdown",
      "metadata": {
        "id": "infW_fImlKCV"
      },
      "source": [
        "Przyjmujemy, że powyższy rozkład danych może zostać przyjęty do rozważania."
      ]
    },
    {
      "cell_type": "code",
      "metadata": {
        "colab": {
          "base_uri": "https://localhost:8080/"
        },
        "id": "odfhjgw0mEgb",
        "outputId": "9929cce3-c5a5-46c4-a281-1a9b15428fe0"
      },
      "source": [
        "# Sprawdzenie rozkładu klas po odfiltorwaniu danych\n",
        "data_test_filtered_dummies_without_empnum.Attrition.value_counts()"
      ],
      "execution_count": 33,
      "outputs": [
        {
          "output_type": "execute_result",
          "data": {
            "text/plain": [
              "0    721\n",
              "1    154\n",
              "Name: Attrition, dtype: int64"
            ]
          },
          "metadata": {
            "tags": []
          },
          "execution_count": 33
        }
      ]
    },
    {
      "cell_type": "markdown",
      "metadata": {
        "id": "iqg88-HImMc_"
      },
      "source": [
        "W związku z niezbalansowanym rozkładem członków poszczególnych klas w odfiltrowanym zbiorze danych dokonujemy OVERSAMPLINGU w celu zrównania obu populacji."
      ]
    },
    {
      "cell_type": "code",
      "metadata": {
        "colab": {
          "base_uri": "https://localhost:8080/"
        },
        "id": "iHFcHcXOmaqp",
        "outputId": "1624466b-96b8-4f83-f022-e648113d4de7"
      },
      "source": [
        "attrition_no = data_test_filtered_dummies_without_empnum[data_test_filtered_dummies_without_empnum.Attrition == 0]\n",
        "attrition_yes = data_test_filtered_dummies_without_empnum[data_test_filtered_dummies_without_empnum.Attrition == 1]\n",
        "\n",
        "# Upsample attrition_yes class\n",
        "attrition_yes_upsampled = resample(attrition_yes,\n",
        "                            replace=True,    # sample with replacement\n",
        "                            n_samples=len(attrition_no),    # to match majority class\n",
        "                            random_state=42) # reproducible results\n",
        " \n",
        "# Combine majority class with upsampled minority class\n",
        "data_test_filtered_dummies_upsampled = pd.concat([attrition_no, attrition_yes_upsampled])\n",
        " \n",
        "# Display new class counts\n",
        "data_test_filtered_dummies_upsampled.Attrition.value_counts()"
      ],
      "execution_count": 34,
      "outputs": [
        {
          "output_type": "execute_result",
          "data": {
            "text/plain": [
              "1    721\n",
              "0    721\n",
              "Name: Attrition, dtype: int64"
            ]
          },
          "metadata": {
            "tags": []
          },
          "execution_count": 34
        }
      ]
    },
    {
      "cell_type": "code",
      "metadata": {
        "colab": {
          "base_uri": "https://localhost:8080/"
        },
        "id": "DBeJk-4QtTUh",
        "outputId": "efac3f18-71bb-498b-de29-60d8f92e765c"
      },
      "source": [
        "# Sprawdzamy ilość powstałych duplikatów\n",
        "data_test_filtered_dummies_upsampled.duplicated().sum()"
      ],
      "execution_count": 35,
      "outputs": [
        {
          "output_type": "execute_result",
          "data": {
            "text/plain": [
              "569"
            ]
          },
          "metadata": {
            "tags": []
          },
          "execution_count": 35
        }
      ]
    },
    {
      "cell_type": "markdown",
      "metadata": {
        "id": "JkuogkVPvb-K"
      },
      "source": [
        "W związku z tym, że najpeirw usuwaliśmy duplikaty z różnymi wartosciami Attrition, a następnie robimy OVERSAMPLING, w wyniku którego znowu generujemy duplikaty (tym razem jednak wiarygodne) to warto rozważyć także UNDERSAMPLING."
      ]
    },
    {
      "cell_type": "code",
      "metadata": {
        "colab": {
          "base_uri": "https://localhost:8080/"
        },
        "id": "ygYdhmrPv1d4",
        "outputId": "ea34d903-d29a-4efc-8608-5309fb027e4a"
      },
      "source": [
        "attrition_no = data_test_filtered_dummies_without_empnum[data_test_filtered_dummies_without_empnum.Attrition == 0]\n",
        "attrition_yes = data_test_filtered_dummies_without_empnum[data_test_filtered_dummies_without_empnum.Attrition == 1]\n",
        "\n",
        "# Upsample attrition_yes class\n",
        "attrition_no_undersampled = resample(attrition_no,\n",
        "                            replace=False,    # sample with replacement\n",
        "                            n_samples=len(attrition_yes),    # to match majority class\n",
        "                            random_state=42) # reproducible results\n",
        " \n",
        "# Combine majority class with upsampled minority class\n",
        "data_test_filtered_dummies_undersampled = pd.concat([attrition_no_undersampled, attrition_yes])\n",
        " \n",
        "# Display new class counts\n",
        "data_test_filtered_dummies_undersampled.Attrition.value_counts()"
      ],
      "execution_count": 36,
      "outputs": [
        {
          "output_type": "execute_result",
          "data": {
            "text/plain": [
              "1    154\n",
              "0    154\n",
              "Name: Attrition, dtype: int64"
            ]
          },
          "metadata": {
            "tags": []
          },
          "execution_count": 36
        }
      ]
    },
    {
      "cell_type": "code",
      "metadata": {
        "id": "S55OoeEhlQxH"
      },
      "source": [
        "# Przypisanie zmiennych do X i y\n",
        "X = data_test_filtered_dummies_without_empnum.loc[:, data_test_filtered_dummies_without_empnum.columns != 'Attrition']\n",
        "y = data_test_filtered_dummies_without_empnum.Attrition\n",
        "\n",
        "# Przypisanie zmiennych do X_upsampled i y_upsampled\n",
        "X_upsampled = data_test_filtered_dummies_upsampled.loc[:, data_test_filtered_dummies_upsampled.columns != 'Attrition']\n",
        "y_upsampled = data_test_filtered_dummies_upsampled.Attrition\n",
        "\n",
        "# Przypisanie zmiennych do X_undersampled i y_undersampled\n",
        "X_undersampled = data_test_filtered_dummies_undersampled.loc[:, data_test_filtered_dummies_undersampled.columns != 'Attrition']\n",
        "y_undersampled = data_test_filtered_dummies_undersampled.Attrition"
      ],
      "execution_count": 37,
      "outputs": []
    },
    {
      "cell_type": "code",
      "metadata": {
        "colab": {
          "base_uri": "https://localhost:8080/",
          "height": 244
        },
        "id": "iAP3wKxel2sA",
        "outputId": "4e366768-cfa6-4adb-c089-e94303a11e89"
      },
      "source": [
        "X.head()"
      ],
      "execution_count": 38,
      "outputs": [
        {
          "output_type": "execute_result",
          "data": {
            "text/html": [
              "<div>\n",
              "<style scoped>\n",
              "    .dataframe tbody tr th:only-of-type {\n",
              "        vertical-align: middle;\n",
              "    }\n",
              "\n",
              "    .dataframe tbody tr th {\n",
              "        vertical-align: top;\n",
              "    }\n",
              "\n",
              "    .dataframe thead th {\n",
              "        text-align: right;\n",
              "    }\n",
              "</style>\n",
              "<table border=\"1\" class=\"dataframe\">\n",
              "  <thead>\n",
              "    <tr style=\"text-align: right;\">\n",
              "      <th></th>\n",
              "      <th>Age</th>\n",
              "      <th>DailyRate</th>\n",
              "      <th>DistanceFromHome</th>\n",
              "      <th>Education</th>\n",
              "      <th>EnvironmentSatisfaction</th>\n",
              "      <th>HourlyRate</th>\n",
              "      <th>JobInvolvement</th>\n",
              "      <th>JobLevel</th>\n",
              "      <th>JobSatisfaction</th>\n",
              "      <th>MonthlyIncome</th>\n",
              "      <th>MonthlyRate</th>\n",
              "      <th>NumCompaniesWorked</th>\n",
              "      <th>PercentSalaryHike</th>\n",
              "      <th>PerformanceRating</th>\n",
              "      <th>RelationshipSatisfaction</th>\n",
              "      <th>StockOptionLevel</th>\n",
              "      <th>TotalWorkingYears</th>\n",
              "      <th>TrainingTimesLastYear</th>\n",
              "      <th>WorkLifeBalance</th>\n",
              "      <th>YearsAtCompany</th>\n",
              "      <th>YearsInCurrentRole</th>\n",
              "      <th>YearsSinceLastPromotion</th>\n",
              "      <th>YearsWithCurrManager</th>\n",
              "      <th>BusinessTravel_Non-Travel</th>\n",
              "      <th>BusinessTravel_Travel_Frequently</th>\n",
              "      <th>BusinessTravel_Travel_Rarely</th>\n",
              "      <th>Department_Human Resources</th>\n",
              "      <th>Department_Research &amp; Development</th>\n",
              "      <th>Department_Sales</th>\n",
              "      <th>EducationField_Human Resources</th>\n",
              "      <th>EducationField_Life Sciences</th>\n",
              "      <th>EducationField_Marketing</th>\n",
              "      <th>EducationField_Medical</th>\n",
              "      <th>EducationField_Other</th>\n",
              "      <th>EducationField_Technical Degree</th>\n",
              "      <th>Gender_Female</th>\n",
              "      <th>Gender_Male</th>\n",
              "      <th>JobRole_Healthcare Representative</th>\n",
              "      <th>JobRole_Human Resources</th>\n",
              "      <th>JobRole_Laboratory Technician</th>\n",
              "      <th>JobRole_Manager</th>\n",
              "      <th>JobRole_Manufacturing Director</th>\n",
              "      <th>JobRole_Research Director</th>\n",
              "      <th>JobRole_Research Scientist</th>\n",
              "      <th>JobRole_Sales Executive</th>\n",
              "      <th>JobRole_Sales Representative</th>\n",
              "      <th>MaritalStatus_Divorced</th>\n",
              "      <th>MaritalStatus_Married</th>\n",
              "      <th>MaritalStatus_Single</th>\n",
              "      <th>OverTime_No</th>\n",
              "      <th>OverTime_Yes</th>\n",
              "    </tr>\n",
              "  </thead>\n",
              "  <tbody>\n",
              "    <tr>\n",
              "      <th>0</th>\n",
              "      <td>30.0</td>\n",
              "      <td>852.0</td>\n",
              "      <td>1.0</td>\n",
              "      <td>1.0</td>\n",
              "      <td>4.0</td>\n",
              "      <td>55.0</td>\n",
              "      <td>2.0</td>\n",
              "      <td>2.0</td>\n",
              "      <td>4.0</td>\n",
              "      <td>5126.0</td>\n",
              "      <td>15998.0</td>\n",
              "      <td>1.0</td>\n",
              "      <td>12.0</td>\n",
              "      <td>3.0</td>\n",
              "      <td>3.0</td>\n",
              "      <td>2.0</td>\n",
              "      <td>10.0</td>\n",
              "      <td>1.0</td>\n",
              "      <td>2.0</td>\n",
              "      <td>10.0</td>\n",
              "      <td>8.0</td>\n",
              "      <td>3.0</td>\n",
              "      <td>0.0</td>\n",
              "      <td>0</td>\n",
              "      <td>0</td>\n",
              "      <td>1</td>\n",
              "      <td>0</td>\n",
              "      <td>1</td>\n",
              "      <td>0</td>\n",
              "      <td>0</td>\n",
              "      <td>1</td>\n",
              "      <td>0</td>\n",
              "      <td>0</td>\n",
              "      <td>0</td>\n",
              "      <td>0</td>\n",
              "      <td>0</td>\n",
              "      <td>1</td>\n",
              "      <td>0</td>\n",
              "      <td>0</td>\n",
              "      <td>1</td>\n",
              "      <td>0</td>\n",
              "      <td>0</td>\n",
              "      <td>0</td>\n",
              "      <td>0</td>\n",
              "      <td>0</td>\n",
              "      <td>0</td>\n",
              "      <td>0</td>\n",
              "      <td>1</td>\n",
              "      <td>0</td>\n",
              "      <td>0</td>\n",
              "      <td>1</td>\n",
              "    </tr>\n",
              "    <tr>\n",
              "      <th>1</th>\n",
              "      <td>38.0</td>\n",
              "      <td>397.0</td>\n",
              "      <td>2.0</td>\n",
              "      <td>2.0</td>\n",
              "      <td>4.0</td>\n",
              "      <td>54.0</td>\n",
              "      <td>2.0</td>\n",
              "      <td>3.0</td>\n",
              "      <td>3.0</td>\n",
              "      <td>7756.0</td>\n",
              "      <td>14199.0</td>\n",
              "      <td>3.0</td>\n",
              "      <td>19.0</td>\n",
              "      <td>3.0</td>\n",
              "      <td>4.0</td>\n",
              "      <td>1.0</td>\n",
              "      <td>10.0</td>\n",
              "      <td>6.0</td>\n",
              "      <td>4.0</td>\n",
              "      <td>5.0</td>\n",
              "      <td>4.0</td>\n",
              "      <td>0.0</td>\n",
              "      <td>2.0</td>\n",
              "      <td>0</td>\n",
              "      <td>0</td>\n",
              "      <td>1</td>\n",
              "      <td>0</td>\n",
              "      <td>1</td>\n",
              "      <td>0</td>\n",
              "      <td>0</td>\n",
              "      <td>0</td>\n",
              "      <td>0</td>\n",
              "      <td>1</td>\n",
              "      <td>0</td>\n",
              "      <td>0</td>\n",
              "      <td>1</td>\n",
              "      <td>0</td>\n",
              "      <td>0</td>\n",
              "      <td>0</td>\n",
              "      <td>0</td>\n",
              "      <td>0</td>\n",
              "      <td>1</td>\n",
              "      <td>0</td>\n",
              "      <td>0</td>\n",
              "      <td>0</td>\n",
              "      <td>0</td>\n",
              "      <td>0</td>\n",
              "      <td>1</td>\n",
              "      <td>0</td>\n",
              "      <td>0</td>\n",
              "      <td>1</td>\n",
              "    </tr>\n",
              "    <tr>\n",
              "      <th>2</th>\n",
              "      <td>26.0</td>\n",
              "      <td>841.0</td>\n",
              "      <td>6.0</td>\n",
              "      <td>3.0</td>\n",
              "      <td>3.0</td>\n",
              "      <td>46.0</td>\n",
              "      <td>2.0</td>\n",
              "      <td>1.0</td>\n",
              "      <td>2.0</td>\n",
              "      <td>2368.0</td>\n",
              "      <td>23300.0</td>\n",
              "      <td>1.0</td>\n",
              "      <td>19.0</td>\n",
              "      <td>3.0</td>\n",
              "      <td>3.0</td>\n",
              "      <td>0.0</td>\n",
              "      <td>5.0</td>\n",
              "      <td>3.0</td>\n",
              "      <td>2.0</td>\n",
              "      <td>5.0</td>\n",
              "      <td>4.0</td>\n",
              "      <td>4.0</td>\n",
              "      <td>3.0</td>\n",
              "      <td>0</td>\n",
              "      <td>0</td>\n",
              "      <td>1</td>\n",
              "      <td>0</td>\n",
              "      <td>1</td>\n",
              "      <td>0</td>\n",
              "      <td>0</td>\n",
              "      <td>0</td>\n",
              "      <td>0</td>\n",
              "      <td>0</td>\n",
              "      <td>1</td>\n",
              "      <td>0</td>\n",
              "      <td>1</td>\n",
              "      <td>0</td>\n",
              "      <td>0</td>\n",
              "      <td>0</td>\n",
              "      <td>0</td>\n",
              "      <td>0</td>\n",
              "      <td>0</td>\n",
              "      <td>0</td>\n",
              "      <td>1</td>\n",
              "      <td>0</td>\n",
              "      <td>0</td>\n",
              "      <td>0</td>\n",
              "      <td>1</td>\n",
              "      <td>0</td>\n",
              "      <td>1</td>\n",
              "      <td>0</td>\n",
              "    </tr>\n",
              "    <tr>\n",
              "      <th>3</th>\n",
              "      <td>35.0</td>\n",
              "      <td>464.0</td>\n",
              "      <td>4.0</td>\n",
              "      <td>2.0</td>\n",
              "      <td>3.0</td>\n",
              "      <td>75.0</td>\n",
              "      <td>3.0</td>\n",
              "      <td>1.0</td>\n",
              "      <td>4.0</td>\n",
              "      <td>1951.0</td>\n",
              "      <td>10910.0</td>\n",
              "      <td>1.0</td>\n",
              "      <td>12.0</td>\n",
              "      <td>3.0</td>\n",
              "      <td>3.0</td>\n",
              "      <td>1.0</td>\n",
              "      <td>1.0</td>\n",
              "      <td>3.0</td>\n",
              "      <td>3.0</td>\n",
              "      <td>1.0</td>\n",
              "      <td>0.0</td>\n",
              "      <td>0.0</td>\n",
              "      <td>0.0</td>\n",
              "      <td>0</td>\n",
              "      <td>0</td>\n",
              "      <td>1</td>\n",
              "      <td>0</td>\n",
              "      <td>1</td>\n",
              "      <td>0</td>\n",
              "      <td>0</td>\n",
              "      <td>0</td>\n",
              "      <td>0</td>\n",
              "      <td>0</td>\n",
              "      <td>1</td>\n",
              "      <td>0</td>\n",
              "      <td>0</td>\n",
              "      <td>1</td>\n",
              "      <td>0</td>\n",
              "      <td>0</td>\n",
              "      <td>1</td>\n",
              "      <td>0</td>\n",
              "      <td>0</td>\n",
              "      <td>0</td>\n",
              "      <td>0</td>\n",
              "      <td>0</td>\n",
              "      <td>0</td>\n",
              "      <td>1</td>\n",
              "      <td>0</td>\n",
              "      <td>0</td>\n",
              "      <td>1</td>\n",
              "      <td>0</td>\n",
              "    </tr>\n",
              "    <tr>\n",
              "      <th>4</th>\n",
              "      <td>34.0</td>\n",
              "      <td>1107.0</td>\n",
              "      <td>9.0</td>\n",
              "      <td>4.0</td>\n",
              "      <td>1.0</td>\n",
              "      <td>52.0</td>\n",
              "      <td>3.0</td>\n",
              "      <td>1.0</td>\n",
              "      <td>3.0</td>\n",
              "      <td>2742.0</td>\n",
              "      <td>3072.0</td>\n",
              "      <td>1.0</td>\n",
              "      <td>15.0</td>\n",
              "      <td>3.0</td>\n",
              "      <td>4.0</td>\n",
              "      <td>0.0</td>\n",
              "      <td>2.0</td>\n",
              "      <td>0.0</td>\n",
              "      <td>3.0</td>\n",
              "      <td>2.0</td>\n",
              "      <td>2.0</td>\n",
              "      <td>2.0</td>\n",
              "      <td>2.0</td>\n",
              "      <td>0</td>\n",
              "      <td>0</td>\n",
              "      <td>1</td>\n",
              "      <td>1</td>\n",
              "      <td>0</td>\n",
              "      <td>0</td>\n",
              "      <td>0</td>\n",
              "      <td>0</td>\n",
              "      <td>0</td>\n",
              "      <td>0</td>\n",
              "      <td>0</td>\n",
              "      <td>1</td>\n",
              "      <td>1</td>\n",
              "      <td>0</td>\n",
              "      <td>0</td>\n",
              "      <td>1</td>\n",
              "      <td>0</td>\n",
              "      <td>0</td>\n",
              "      <td>0</td>\n",
              "      <td>0</td>\n",
              "      <td>0</td>\n",
              "      <td>0</td>\n",
              "      <td>0</td>\n",
              "      <td>0</td>\n",
              "      <td>1</td>\n",
              "      <td>0</td>\n",
              "      <td>1</td>\n",
              "      <td>0</td>\n",
              "    </tr>\n",
              "  </tbody>\n",
              "</table>\n",
              "</div>"
            ],
            "text/plain": [
              "    Age  DailyRate  ...  OverTime_No  OverTime_Yes\n",
              "0  30.0      852.0  ...            0             1\n",
              "1  38.0      397.0  ...            0             1\n",
              "2  26.0      841.0  ...            1             0\n",
              "3  35.0      464.0  ...            1             0\n",
              "4  34.0     1107.0  ...            1             0\n",
              "\n",
              "[5 rows x 51 columns]"
            ]
          },
          "metadata": {
            "tags": []
          },
          "execution_count": 38
        }
      ]
    },
    {
      "cell_type": "code",
      "metadata": {
        "colab": {
          "base_uri": "https://localhost:8080/"
        },
        "id": "93i0uckXl3-m",
        "outputId": "4494b6a3-ca10-4a6a-f55d-43cd2e9e9e69"
      },
      "source": [
        "y.head()"
      ],
      "execution_count": 39,
      "outputs": [
        {
          "output_type": "execute_result",
          "data": {
            "text/plain": [
              "0    0\n",
              "1    0\n",
              "2    0\n",
              "3    0\n",
              "4    1\n",
              "Name: Attrition, dtype: int64"
            ]
          },
          "metadata": {
            "tags": []
          },
          "execution_count": 39
        }
      ]
    },
    {
      "cell_type": "markdown",
      "metadata": {
        "id": "Alyr-0Qlo_vJ"
      },
      "source": [
        "Trenowanie modeli"
      ]
    },
    {
      "cell_type": "code",
      "metadata": {
        "id": "7GmCgWgfpRNo"
      },
      "source": [
        "X_train, X_test, y_train, y_test = train_test_split(X, y, test_size=0.2, random_state=42, stratify=y)\n",
        "X_train_upsampled, X_test_upsampled, y_train_upsampled, y_test_upsampled = train_test_split(X_upsampled, y_upsampled, test_size=0.2, random_state=42, stratify=y_upsampled)\n",
        "X_train_undersampled, X_test_undersampled, y_train_undersampled, y_test_undersampled = train_test_split(X_undersampled, y_undersampled, test_size=0.2, random_state=42, stratify=y_undersampled)"
      ],
      "execution_count": 40,
      "outputs": []
    },
    {
      "cell_type": "markdown",
      "metadata": {
        "id": "ISFUlD5SpE_c"
      },
      "source": [
        "#Logistic Regression"
      ]
    },
    {
      "cell_type": "code",
      "metadata": {
        "id": "FIMlsww-za0C"
      },
      "source": [
        "params_lr = {\n",
        "    'C': [0.001, 0.01, 0.1, 1, 10, 100, 1000],\n",
        "    'solver': ['newton-cg','saga', 'liblinear', 'lbfgs'],\n",
        "    'max_iter': [100, 500, 1000, 5000]\n",
        "}"
      ],
      "execution_count": null,
      "outputs": []
    },
    {
      "cell_type": "code",
      "metadata": {
        "id": "tbfg94XRpC2m"
      },
      "source": [
        "clf = GridSearchCV(LogisticRegression(), params_lr, scoring='f1')\n",
        "clf.fit(X_train, y_train)\n",
        "clf.best_params_"
      ],
      "execution_count": null,
      "outputs": []
    },
    {
      "cell_type": "code",
      "metadata": {
        "colab": {
          "base_uri": "https://localhost:8080/"
        },
        "id": "FPQL-jEao4JH",
        "outputId": "5f7d1e50-f92e-4ae5-ac2f-9b8ad9e9fdab"
      },
      "source": [
        "model = LogisticRegression(C=1000, max_iter=500, solver='newton-cg')\n",
        "model.fit(X_train, y_train)\n",
        "y_pred_lr = model.predict(X_test)\n",
        "print(f'{model.__class__.__name__}\\n{classification_report(y_test, y_pred_lr)}\\nAverage F1 score: {f1_score(y_test, y_pred_lr, average=\"micro\")}')"
      ],
      "execution_count": 41,
      "outputs": [
        {
          "output_type": "stream",
          "text": [
            "/usr/local/lib/python3.6/dist-packages/scipy/optimize/linesearch.py:466: LineSearchWarning: The line search algorithm did not converge\n",
            "  warn('The line search algorithm did not converge', LineSearchWarning)\n",
            "/usr/local/lib/python3.6/dist-packages/scipy/optimize/linesearch.py:314: LineSearchWarning: The line search algorithm did not converge\n",
            "  warn('The line search algorithm did not converge', LineSearchWarning)\n",
            "/usr/local/lib/python3.6/dist-packages/scipy/optimize/linesearch.py:466: LineSearchWarning: The line search algorithm did not converge\n",
            "  warn('The line search algorithm did not converge', LineSearchWarning)\n",
            "/usr/local/lib/python3.6/dist-packages/scipy/optimize/linesearch.py:314: LineSearchWarning: The line search algorithm did not converge\n",
            "  warn('The line search algorithm did not converge', LineSearchWarning)\n",
            "/usr/local/lib/python3.6/dist-packages/scipy/optimize/linesearch.py:466: LineSearchWarning: The line search algorithm did not converge\n",
            "  warn('The line search algorithm did not converge', LineSearchWarning)\n",
            "/usr/local/lib/python3.6/dist-packages/scipy/optimize/linesearch.py:314: LineSearchWarning: The line search algorithm did not converge\n",
            "  warn('The line search algorithm did not converge', LineSearchWarning)\n"
          ],
          "name": "stderr"
        },
        {
          "output_type": "stream",
          "text": [
            "LogisticRegression\n",
            "              precision    recall  f1-score   support\n",
            "\n",
            "           0       0.85      0.98      0.91       144\n",
            "           1       0.67      0.19      0.30        31\n",
            "\n",
            "    accuracy                           0.84       175\n",
            "   macro avg       0.76      0.59      0.60       175\n",
            "weighted avg       0.82      0.84      0.80       175\n",
            "\n",
            "Average F1 score: 0.8399999999999999\n"
          ],
          "name": "stdout"
        }
      ]
    },
    {
      "cell_type": "code",
      "metadata": {
        "id": "gJbbrEFFzWLa"
      },
      "source": [
        "clf = GridSearchCV(LogisticRegression(), params_lr, scoring='f1')\n",
        "clf.fit(X_train_upsampled, y_train_upsampled)\n",
        "clf.best_params_"
      ],
      "execution_count": null,
      "outputs": []
    },
    {
      "cell_type": "code",
      "metadata": {
        "colab": {
          "base_uri": "https://localhost:8080/"
        },
        "id": "v_EwZhV708ur",
        "outputId": "8c96817a-e8af-45ab-eb1b-f3232966e1c9"
      },
      "source": [
        "model = LogisticRegression(C=100, max_iter=100, solver='newton-cg')\n",
        "model.fit(X_train_upsampled, y_train_upsampled)\n",
        "y_pred_lr_upsampled = model.predict(X_test_upsampled)\n",
        "print(f'{model.__class__.__name__} UPSAMPLED\\n{classification_report(y_test_upsampled, y_pred_lr_upsampled)}\\nAverage F1 score: {f1_score(y_test_upsampled, y_pred_lr_upsampled, average=\"micro\")}')"
      ],
      "execution_count": 42,
      "outputs": [
        {
          "output_type": "stream",
          "text": [
            "LogisticRegression UPSAMPLED\n",
            "              precision    recall  f1-score   support\n",
            "\n",
            "           0       0.77      0.81      0.79       145\n",
            "           1       0.80      0.76      0.78       144\n",
            "\n",
            "    accuracy                           0.78       289\n",
            "   macro avg       0.78      0.78      0.78       289\n",
            "weighted avg       0.78      0.78      0.78       289\n",
            "\n",
            "Average F1 score: 0.7820069204152249\n"
          ],
          "name": "stdout"
        },
        {
          "output_type": "stream",
          "text": [
            "/usr/local/lib/python3.6/dist-packages/sklearn/utils/optimize.py:212: ConvergenceWarning: newton-cg failed to converge. Increase the number of iterations.\n",
            "  \"number of iterations.\", ConvergenceWarning)\n"
          ],
          "name": "stderr"
        }
      ]
    },
    {
      "cell_type": "code",
      "metadata": {
        "id": "PwuBMCCLziGk"
      },
      "source": [
        "clf = GridSearchCV(LogisticRegression(), params_lr, scoring='f1')\n",
        "clf.fit(X_train_undersampled, y_train_undersampled)\n",
        "clf.best_params_"
      ],
      "execution_count": null,
      "outputs": []
    },
    {
      "cell_type": "code",
      "metadata": {
        "colab": {
          "base_uri": "https://localhost:8080/"
        },
        "id": "uWJpq1sf13ef",
        "outputId": "0c81749d-de6c-4fee-bd14-5e6b1bc3ca95"
      },
      "source": [
        "model = LogisticRegression(C=1000, max_iter=100, solver='newton-cg')\n",
        "model.fit(X_train_undersampled, y_train_undersampled)\n",
        "y_pred_lr_undersampled = model.predict(X_test_undersampled)\n",
        "print(f'{model.__class__.__name__} UNDERSAMPLED \\n{classification_report(y_test_undersampled, y_pred_lr_undersampled)}\\nAverage F1 score: {f1_score(y_test_undersampled, y_pred_lr_undersampled, average=\"micro\")}')"
      ],
      "execution_count": 44,
      "outputs": [
        {
          "output_type": "stream",
          "text": [
            "LogisticRegression UNDERSAMPLED \n",
            "              precision    recall  f1-score   support\n",
            "\n",
            "           0       0.66      0.68      0.67        31\n",
            "           1       0.67      0.65      0.66        31\n",
            "\n",
            "    accuracy                           0.66        62\n",
            "   macro avg       0.66      0.66      0.66        62\n",
            "weighted avg       0.66      0.66      0.66        62\n",
            "\n",
            "Average F1 score: 0.6612903225806451\n"
          ],
          "name": "stdout"
        },
        {
          "output_type": "stream",
          "text": [
            "/usr/local/lib/python3.6/dist-packages/sklearn/utils/optimize.py:212: ConvergenceWarning: newton-cg failed to converge. Increase the number of iterations.\n",
            "  \"number of iterations.\", ConvergenceWarning)\n"
          ],
          "name": "stderr"
        }
      ]
    },
    {
      "cell_type": "markdown",
      "metadata": {
        "id": "ptfi3cDKu0Ng"
      },
      "source": [
        "#KNN"
      ]
    },
    {
      "cell_type": "code",
      "metadata": {
        "id": "XB8VTXfW3eVo"
      },
      "source": [
        "params_knn= {\n",
        "    'n_neighbors': [2, 3, 5, 7, 10, 15],\n",
        "    'algorithm': ['auto','ball_tree', 'kd_tree'],\n",
        "    'p': [1, 2]\n",
        "}"
      ],
      "execution_count": null,
      "outputs": []
    },
    {
      "cell_type": "code",
      "metadata": {
        "id": "w0DkSkhRuzw5",
        "colab": {
          "base_uri": "https://localhost:8080/"
        },
        "outputId": "7f2558cc-fb19-4f5a-d7b2-7cb88548da00"
      },
      "source": [
        "clf = GridSearchCV(KNeighborsClassifier(), params_knn, scoring='f1')\n",
        "clf.fit(X_train, y_train)\n",
        "clf.best_params_"
      ],
      "execution_count": null,
      "outputs": [
        {
          "output_type": "execute_result",
          "data": {
            "text/plain": [
              "{'algorithm': 'auto', 'n_neighbors': 5, 'p': 2}"
            ]
          },
          "metadata": {
            "tags": []
          },
          "execution_count": 203
        }
      ]
    },
    {
      "cell_type": "code",
      "metadata": {
        "colab": {
          "base_uri": "https://localhost:8080/"
        },
        "id": "ZFVxWt6YvBqP",
        "outputId": "416497b6-bfee-403f-c949-bab95d08c361"
      },
      "source": [
        "model = KNeighborsClassifier(algorithm='auto', n_neighbors=5, p=2)\n",
        "model.fit(X_train, y_train)\n",
        "y_pred_knn = model.predict(X_test)\n",
        "print(f'{model.__class__.__name__}\\n{classification_report(y_test, y_pred_knn)}\\nAverage F1 score: {f1_score(y_test, y_pred_knn, average=\"micro\")}')"
      ],
      "execution_count": 45,
      "outputs": [
        {
          "output_type": "stream",
          "text": [
            "KNeighborsClassifier\n",
            "              precision    recall  f1-score   support\n",
            "\n",
            "           0       0.82      0.95      0.88       144\n",
            "           1       0.12      0.03      0.05        31\n",
            "\n",
            "    accuracy                           0.79       175\n",
            "   macro avg       0.47      0.49      0.47       175\n",
            "weighted avg       0.70      0.79      0.73       175\n",
            "\n",
            "Average F1 score: 0.7885714285714286\n"
          ],
          "name": "stdout"
        }
      ]
    },
    {
      "cell_type": "code",
      "metadata": {
        "colab": {
          "base_uri": "https://localhost:8080/"
        },
        "id": "_z-pIQmi3oQS",
        "outputId": "1ca55a19-0f20-4add-9858-3963966f5e7e"
      },
      "source": [
        "clf = GridSearchCV(KNeighborsClassifier(), params_knn, scoring='f1')\n",
        "clf.fit(X_train_upsampled, y_train_upsampled)\n",
        "clf.best_params_"
      ],
      "execution_count": null,
      "outputs": [
        {
          "output_type": "execute_result",
          "data": {
            "text/plain": [
              "{'algorithm': 'auto', 'n_neighbors': 2, 'p': 1}"
            ]
          },
          "metadata": {
            "tags": []
          },
          "execution_count": 205
        }
      ]
    },
    {
      "cell_type": "code",
      "metadata": {
        "colab": {
          "base_uri": "https://localhost:8080/"
        },
        "id": "sT7ZVL8R3uQs",
        "outputId": "7476d56b-4fd9-471a-cd8b-222cf1e11c8a"
      },
      "source": [
        "model = KNeighborsClassifier(algorithm='auto', n_neighbors=2, p=1)\n",
        "model.fit(X_train_upsampled, y_train_upsampled)\n",
        "y_pred_knn_upsampled = model.predict(X_test_upsampled)\n",
        "print(f'{model.__class__.__name__} UPSAMPLED \\n{classification_report(y_test_upsampled, y_pred_knn_upsampled)}\\nAverage F1 score: {f1_score(y_test_upsampled, y_pred_knn_upsampled, average=\"micro\")}')"
      ],
      "execution_count": 46,
      "outputs": [
        {
          "output_type": "stream",
          "text": [
            "KNeighborsClassifier UPSAMPLED \n",
            "              precision    recall  f1-score   support\n",
            "\n",
            "           0       0.91      0.89      0.90       145\n",
            "           1       0.89      0.91      0.90       144\n",
            "\n",
            "    accuracy                           0.90       289\n",
            "   macro avg       0.90      0.90      0.90       289\n",
            "weighted avg       0.90      0.90      0.90       289\n",
            "\n",
            "Average F1 score: 0.8996539792387543\n"
          ],
          "name": "stdout"
        }
      ]
    },
    {
      "cell_type": "code",
      "metadata": {
        "colab": {
          "base_uri": "https://localhost:8080/"
        },
        "id": "TUMTvSho4CWI",
        "outputId": "6c8bb950-c1b6-46c9-ea68-6f9cce6cd3b4"
      },
      "source": [
        "clf = GridSearchCV(KNeighborsClassifier(), params_knn, scoring='f1')\n",
        "clf.fit(X_train_undersampled, y_train_undersampled)\n",
        "clf.best_params_"
      ],
      "execution_count": null,
      "outputs": [
        {
          "output_type": "execute_result",
          "data": {
            "text/plain": [
              "{'algorithm': 'auto', 'n_neighbors': 15, 'p': 2}"
            ]
          },
          "metadata": {
            "tags": []
          },
          "execution_count": 207
        }
      ]
    },
    {
      "cell_type": "code",
      "metadata": {
        "colab": {
          "base_uri": "https://localhost:8080/"
        },
        "id": "J6UNtLw94IgE",
        "outputId": "9fa64cf5-99cd-4134-9c4e-3d6b71f326a6"
      },
      "source": [
        "model = KNeighborsClassifier(algorithm='auto', n_neighbors=15, p=2)\n",
        "model.fit(X_train_undersampled, y_train_undersampled)\n",
        "y_pred_knn_undersampled = model.predict(X_test_undersampled)\n",
        "print(f'{model.__class__.__name__} UNDERSAMPLED \\n{classification_report(y_test_undersampled, y_pred_knn_undersampled)}\\nAverage F1 score: {f1_score(y_test_undersampled, y_pred_knn_undersampled, average=\"micro\")}')"
      ],
      "execution_count": 47,
      "outputs": [
        {
          "output_type": "stream",
          "text": [
            "KNeighborsClassifier UNDERSAMPLED \n",
            "              precision    recall  f1-score   support\n",
            "\n",
            "           0       0.64      0.58      0.61        31\n",
            "           1       0.62      0.68      0.65        31\n",
            "\n",
            "    accuracy                           0.63        62\n",
            "   macro avg       0.63      0.63      0.63        62\n",
            "weighted avg       0.63      0.63      0.63        62\n",
            "\n",
            "Average F1 score: 0.6290322580645161\n"
          ],
          "name": "stdout"
        }
      ]
    },
    {
      "cell_type": "markdown",
      "metadata": {
        "id": "wSPVY9w9FKPx"
      },
      "source": [
        "#SVC"
      ]
    },
    {
      "cell_type": "code",
      "metadata": {
        "id": "0RUE6Ip-4vgH"
      },
      "source": [
        "params_svc= {\n",
        "    'C': [1, 10, 100],\n",
        "    # 'kernel': ['linear'],\n",
        "    'gamma':[0.000001, 0.0001, 0.001, 1],\n",
        "   'class_weight': [None, 'balanced']\n",
        "}  "
      ],
      "execution_count": null,
      "outputs": []
    },
    {
      "cell_type": "code",
      "metadata": {
        "id": "w7H-nIF7ueDy",
        "colab": {
          "base_uri": "https://localhost:8080/"
        },
        "outputId": "05ae4a23-978d-4399-f7de-7dac31249018"
      },
      "source": [
        "clf = GridSearchCV(SVC(), params_svc, scoring='f1')\n",
        "clf.fit(X_train, y_train)\n",
        "clf.best_params_"
      ],
      "execution_count": null,
      "outputs": [
        {
          "output_type": "execute_result",
          "data": {
            "text/plain": [
              "{'C': 1, 'class_weight': 'balanced', 'gamma': 1e-06}"
            ]
          },
          "metadata": {
            "tags": []
          },
          "execution_count": 215
        }
      ]
    },
    {
      "cell_type": "code",
      "metadata": {
        "colab": {
          "base_uri": "https://localhost:8080/"
        },
        "id": "S8To4jgE1TPD",
        "outputId": "51978f99-b58a-4cdd-d23b-abaf7bf040cd"
      },
      "source": [
        "model = SVC(C=1, class_weight='balanced', gamma=0.000001)\n",
        "model.fit(X_train, y_train)\n",
        "y_pred_svc = model.predict(X_test)\n",
        "print(f'{model.__class__.__name__}\\n{classification_report(y_test, y_pred_svc)}\\nAverage F1 score: {f1_score(y_test, y_pred_svc, average=\"micro\")}')"
      ],
      "execution_count": 48,
      "outputs": [
        {
          "output_type": "stream",
          "text": [
            "SVC\n",
            "              precision    recall  f1-score   support\n",
            "\n",
            "           0       0.86      0.71      0.78       144\n",
            "           1       0.25      0.45      0.32        31\n",
            "\n",
            "    accuracy                           0.66       175\n",
            "   macro avg       0.55      0.58      0.55       175\n",
            "weighted avg       0.75      0.66      0.70       175\n",
            "\n",
            "Average F1 score: 0.6628571428571428\n"
          ],
          "name": "stdout"
        }
      ]
    },
    {
      "cell_type": "code",
      "metadata": {
        "colab": {
          "base_uri": "https://localhost:8080/"
        },
        "id": "lZOfXbhE5IsC",
        "outputId": "6076c1d0-564c-4be7-83e7-8dc1f075664f"
      },
      "source": [
        "clf = GridSearchCV(SVC(), params_svc, scoring='f1')\n",
        "clf.fit(X_train_upsampled, y_train_upsampled)\n",
        "clf.best_params_"
      ],
      "execution_count": null,
      "outputs": [
        {
          "output_type": "execute_result",
          "data": {
            "text/plain": [
              "{'C': 1, 'class_weight': None, 'gamma': 0.0001}"
            ]
          },
          "metadata": {
            "tags": []
          },
          "execution_count": 217
        }
      ]
    },
    {
      "cell_type": "code",
      "metadata": {
        "colab": {
          "base_uri": "https://localhost:8080/"
        },
        "id": "E2u2stX95Rg_",
        "outputId": "c666e5d5-1433-459f-9478-a26da273bd14"
      },
      "source": [
        "model = SVC(C=1, class_weight=None, gamma=0.0001)\n",
        "model.fit(X_train_upsampled, y_train_upsampled)\n",
        "y_pred_svc_upsampled = model.predict(X_test_upsampled)\n",
        "print(f'{model.__class__.__name__} UPSAMPLED\\n{classification_report(y_test_upsampled, y_pred_svc_upsampled)}\\nAverage F1 score: {f1_score(y_test_upsampled, y_pred_svc_upsampled, average=\"micro\")}')"
      ],
      "execution_count": 49,
      "outputs": [
        {
          "output_type": "stream",
          "text": [
            "SVC UPSAMPLED\n",
            "              precision    recall  f1-score   support\n",
            "\n",
            "           0       0.98      1.00      0.99       145\n",
            "           1       1.00      0.98      0.99       144\n",
            "\n",
            "    accuracy                           0.99       289\n",
            "   macro avg       0.99      0.99      0.99       289\n",
            "weighted avg       0.99      0.99      0.99       289\n",
            "\n",
            "Average F1 score: 0.9896193771626297\n"
          ],
          "name": "stdout"
        }
      ]
    },
    {
      "cell_type": "code",
      "metadata": {
        "colab": {
          "base_uri": "https://localhost:8080/"
        },
        "id": "PWZ8J06s5pNV",
        "outputId": "14500dea-82f8-4cfc-c636-122e9e2899dc"
      },
      "source": [
        "clf = GridSearchCV(SVC(), params_svc, scoring='f1')\n",
        "clf.fit(X_train_undersampled, y_train_undersampled)\n",
        "clf.best_params_"
      ],
      "execution_count": null,
      "outputs": [
        {
          "output_type": "execute_result",
          "data": {
            "text/plain": [
              "{'C': 1, 'class_weight': None, 'gamma': 1e-06}"
            ]
          },
          "metadata": {
            "tags": []
          },
          "execution_count": 220
        }
      ]
    },
    {
      "cell_type": "code",
      "metadata": {
        "colab": {
          "base_uri": "https://localhost:8080/"
        },
        "id": "-dFzMjp65xsB",
        "outputId": "0178045f-1baf-4508-dffc-824de1985712"
      },
      "source": [
        "model = SVC(C=1, class_weight=None, gamma=0.000001)\n",
        "model.fit(X_train_undersampled, y_train_undersampled)\n",
        "y_pred_svc_undersampled = model.predict(X_test_undersampled)\n",
        "print(f'{model.__class__.__name__} UNDERSAMPLED\\n{classification_report(y_test_undersampled, y_pred_svc_undersampled)}\\nAverage F1 score: {f1_score(y_test_undersampled, y_pred_svc_undersampled, average=\"micro\")}')"
      ],
      "execution_count": 50,
      "outputs": [
        {
          "output_type": "stream",
          "text": [
            "SVC UNDERSAMPLED\n",
            "              precision    recall  f1-score   support\n",
            "\n",
            "           0       0.67      0.84      0.74        31\n",
            "           1       0.78      0.58      0.67        31\n",
            "\n",
            "    accuracy                           0.71        62\n",
            "   macro avg       0.72      0.71      0.70        62\n",
            "weighted avg       0.72      0.71      0.70        62\n",
            "\n",
            "Average F1 score: 0.7096774193548389\n"
          ],
          "name": "stdout"
        }
      ]
    },
    {
      "cell_type": "markdown",
      "metadata": {
        "id": "pZn-pINh8a39"
      },
      "source": [
        "Weryfikacja zachowania modelu SVC na zbiorze treningowym, walidacyjnym i testowym"
      ]
    },
    {
      "cell_type": "code",
      "metadata": {
        "id": "6nDXSHNY6dLA"
      },
      "source": [
        "X_train_upsampled, X_test_upsampled, y_train_upsampled, y_test_upsampled = train_test_split(X_upsampled, y_upsampled, test_size=0.2, random_state=10, stratify=y_upsampled)\n",
        "X_train_upsampled_val, X_test_upsampled_val, y_train_upsampled_val, y_test_upsampled_val = train_test_split(X_train_upsampled, y_train_upsampled, test_size=0.25, random_state=10, stratify=y_train_upsampled)"
      ],
      "execution_count": null,
      "outputs": []
    },
    {
      "cell_type": "code",
      "metadata": {
        "colab": {
          "base_uri": "https://localhost:8080/"
        },
        "id": "clUxAQAq7LLq",
        "outputId": "2e2dc1db-82a9-4f5e-e4d6-209115461220"
      },
      "source": [
        "X_train_upsampled_val.shape, X_test_upsampled_val.shape, y_train_upsampled_val.shape, y_test_upsampled_val.shape"
      ],
      "execution_count": null,
      "outputs": [
        {
          "output_type": "execute_result",
          "data": {
            "text/plain": [
              "((864, 51), (289, 51), (864,), (289,))"
            ]
          },
          "metadata": {
            "tags": []
          },
          "execution_count": 224
        }
      ]
    },
    {
      "cell_type": "code",
      "metadata": {
        "colab": {
          "base_uri": "https://localhost:8080/"
        },
        "id": "vihqwRKZ7Aet",
        "outputId": "f1fba3e9-1b2c-4de2-e6b9-3b435e098c22"
      },
      "source": [
        "model = SVC(C=1, class_weight=None, gamma=0.0001)\n",
        "model.fit(X_train_upsampled_val, y_train_upsampled_val)\n",
        "y_pred_svc_upsampled = model.predict(X_test_upsampled)\n",
        "print(f'{model.__class__.__name__} UPSAMPLED\\n{classification_report(y_test_upsampled, y_pred_svc_upsampled)}\\nAverage F1 score: {f1_score(y_test_upsampled, y_pred_svc_upsampled, average=\"micro\")}')"
      ],
      "execution_count": null,
      "outputs": [
        {
          "output_type": "stream",
          "text": [
            "SVC UPSAMPLED\n",
            "              precision    recall  f1-score   support\n",
            "\n",
            "           0       0.94      1.00      0.97       144\n",
            "           1       1.00      0.94      0.97       145\n",
            "\n",
            "    accuracy                           0.97       289\n",
            "   macro avg       0.97      0.97      0.97       289\n",
            "weighted avg       0.97      0.97      0.97       289\n",
            "\n",
            "Average F1 score: 0.9688581314878892\n"
          ],
          "name": "stdout"
        }
      ]
    },
    {
      "cell_type": "code",
      "metadata": {
        "id": "PObFaq758jQG"
      },
      "source": [
        "# Przypisanie poprzedniej wartości X_upsampled, y_upsampled\n",
        "X_train_upsampled, X_test_upsampled, y_train_upsampled, y_test_upsampled = train_test_split(X_upsampled, y_upsampled, test_size=0.2, random_state=42, stratify=y_upsampled)"
      ],
      "execution_count": null,
      "outputs": []
    },
    {
      "cell_type": "code",
      "metadata": {
        "colab": {
          "base_uri": "https://localhost:8080/"
        },
        "id": "XgrGvq369nJt",
        "outputId": "97b4f5a1-f318-4ed9-fbe3-39060a072ac7"
      },
      "source": [
        "model = SVC(C=1, class_weight=None, gamma=0.0001)\n",
        "model.fit(X_train_upsampled, y_train_upsampled)\n",
        "y_pred_svc_upsampled = model.predict(X_test_upsampled)\n",
        "print(f'{model.__class__.__name__} UPSAMPLED\\n{classification_report(y_test_upsampled, y_pred_svc_upsampled)}\\nAverage F1 score: {f1_score(y_test_upsampled, y_pred_svc_upsampled, average=\"micro\")}')"
      ],
      "execution_count": null,
      "outputs": [
        {
          "output_type": "stream",
          "text": [
            "SVC UPSAMPLED\n",
            "              precision    recall  f1-score   support\n",
            "\n",
            "           0       0.98      1.00      0.99       145\n",
            "           1       1.00      0.98      0.99       144\n",
            "\n",
            "    accuracy                           0.99       289\n",
            "   macro avg       0.99      0.99      0.99       289\n",
            "weighted avg       0.99      0.99      0.99       289\n",
            "\n",
            "Average F1 score: 0.9896193771626297\n"
          ],
          "name": "stdout"
        }
      ]
    },
    {
      "cell_type": "markdown",
      "metadata": {
        "id": "duT_B5oGvS_f"
      },
      "source": [
        "#DecisionTreeClassifier"
      ]
    },
    {
      "cell_type": "code",
      "metadata": {
        "id": "T_gKbiQF8tDD"
      },
      "source": [
        "params_tree = {\n",
        "    'criterion': ['gini', 'entropy'],\n",
        "    'max_depth': [3, 5, 7, 9, 12, 15],\n",
        "    'min_samples_split': [2, 4, 7],\n",
        "    'min_samples_leaf': [1, 3, 5]\n",
        "}"
      ],
      "execution_count": null,
      "outputs": []
    },
    {
      "cell_type": "code",
      "metadata": {
        "id": "qZXp029jvSiX",
        "colab": {
          "base_uri": "https://localhost:8080/"
        },
        "outputId": "a497c3ee-25c3-4543-97e6-ca4f026ebbad"
      },
      "source": [
        "clf = GridSearchCV(DecisionTreeClassifier(), params_tree, scoring='f1')\r\n",
        "clf.fit(X_train, y_train)\r\n",
        "clf.best_params_"
      ],
      "execution_count": null,
      "outputs": [
        {
          "output_type": "execute_result",
          "data": {
            "text/plain": [
              "{'criterion': 'gini',\n",
              " 'max_depth': 7,\n",
              " 'min_samples_leaf': 5,\n",
              " 'min_samples_split': 7}"
            ]
          },
          "metadata": {
            "tags": []
          },
          "execution_count": 231
        }
      ]
    },
    {
      "cell_type": "code",
      "metadata": {
        "colab": {
          "base_uri": "https://localhost:8080/"
        },
        "id": "ZVam55leuYxw",
        "outputId": "0ae68be7-26ce-4205-8688-3cf25ed9334d"
      },
      "source": [
        "model = DecisionTreeClassifier(criterion='gini', max_depth=7, min_samples_leaf=5, min_samples_split=7)\r\n",
        "model.fit(X_train, y_train)\r\n",
        "y_pred_tree = model.predict(X_test)\r\n",
        "print(f'{model.__class__.__name__}\\n{classification_report(y_test, y_pred_tree)}\\nAverage F1 score: {f1_score(y_test, y_pred_tree, average=\"micro\")}')"
      ],
      "execution_count": 51,
      "outputs": [
        {
          "output_type": "stream",
          "text": [
            "DecisionTreeClassifier\n",
            "              precision    recall  f1-score   support\n",
            "\n",
            "           0       0.86      0.92      0.89       144\n",
            "           1       0.48      0.32      0.38        31\n",
            "\n",
            "    accuracy                           0.82       175\n",
            "   macro avg       0.67      0.62      0.64       175\n",
            "weighted avg       0.80      0.82      0.80       175\n",
            "\n",
            "Average F1 score: 0.8171428571428572\n"
          ],
          "name": "stdout"
        }
      ]
    },
    {
      "cell_type": "code",
      "metadata": {
        "colab": {
          "base_uri": "https://localhost:8080/"
        },
        "id": "bX_4PAmE808g",
        "outputId": "32c983d3-666f-41b5-95d3-fe6fd377b3b5"
      },
      "source": [
        "clf = GridSearchCV(DecisionTreeClassifier(), params_tree, scoring='f1')\n",
        "clf.fit(X_train_upsampled, y_train_upsampled)\n",
        "clf.best_params_"
      ],
      "execution_count": null,
      "outputs": [
        {
          "output_type": "execute_result",
          "data": {
            "text/plain": [
              "{'criterion': 'entropy',\n",
              " 'max_depth': 15,\n",
              " 'min_samples_leaf': 1,\n",
              " 'min_samples_split': 4}"
            ]
          },
          "metadata": {
            "tags": []
          },
          "execution_count": 233
        }
      ]
    },
    {
      "cell_type": "code",
      "metadata": {
        "colab": {
          "base_uri": "https://localhost:8080/"
        },
        "id": "8qstMP4n86Vm",
        "outputId": "873847df-c115-4040-8b22-94a2ab62fb37"
      },
      "source": [
        "model = DecisionTreeClassifier(criterion='entropy', max_depth=15, min_samples_leaf=1, min_samples_split=4)\n",
        "model.fit(X_train_upsampled, y_train_upsampled)\n",
        "y_pred_tree_upsampled = model.predict(X_test_upsampled)\n",
        "print(f'{model.__class__.__name__} UPSAMPLED \\n{classification_report(y_test_upsampled, y_pred_tree_upsampled)}\\nAverage F1 score: {f1_score(y_test_upsampled, y_pred_tree_upsampled, average=\"micro\")}')"
      ],
      "execution_count": 52,
      "outputs": [
        {
          "output_type": "stream",
          "text": [
            "DecisionTreeClassifier UPSAMPLED \n",
            "              precision    recall  f1-score   support\n",
            "\n",
            "           0       0.98      0.86      0.92       145\n",
            "           1       0.88      0.99      0.93       144\n",
            "\n",
            "    accuracy                           0.92       289\n",
            "   macro avg       0.93      0.92      0.92       289\n",
            "weighted avg       0.93      0.92      0.92       289\n",
            "\n",
            "Average F1 score: 0.9238754325259516\n"
          ],
          "name": "stdout"
        }
      ]
    },
    {
      "cell_type": "code",
      "metadata": {
        "colab": {
          "base_uri": "https://localhost:8080/"
        },
        "id": "1ITcPiUD9Scs",
        "outputId": "f6d09c18-a958-4555-846b-1d124771fa9e"
      },
      "source": [
        "clf = GridSearchCV(DecisionTreeClassifier(), params_tree, scoring='f1')\n",
        "clf.fit(X_train_undersampled, y_train_undersampled)\n",
        "clf.best_params_"
      ],
      "execution_count": null,
      "outputs": [
        {
          "output_type": "execute_result",
          "data": {
            "text/plain": [
              "{'criterion': 'entropy',\n",
              " 'max_depth': 9,\n",
              " 'min_samples_leaf': 1,\n",
              " 'min_samples_split': 2}"
            ]
          },
          "metadata": {
            "tags": []
          },
          "execution_count": 236
        }
      ]
    },
    {
      "cell_type": "code",
      "metadata": {
        "colab": {
          "base_uri": "https://localhost:8080/"
        },
        "id": "nmneYX-A9YRU",
        "outputId": "18dc7e55-9a2e-4aae-b64d-d5ff02a5589a"
      },
      "source": [
        "model = DecisionTreeClassifier(criterion='entropy', max_depth=9, min_samples_leaf=1, min_samples_split=2)\n",
        "model.fit(X_train_undersampled, y_train_undersampled)\n",
        "y_pred_tree_undersampled = model.predict(X_test_undersampled)\n",
        "print(f'{model.__class__.__name__} UNDERAMPLED \\n{classification_report(y_test_undersampled, y_pred_tree_undersampled)}\\nAverage F1 score: {f1_score(y_test_undersampled, y_pred_tree_undersampled, average=\"micro\")}')"
      ],
      "execution_count": 53,
      "outputs": [
        {
          "output_type": "stream",
          "text": [
            "DecisionTreeClassifier UNDERAMPLED \n",
            "              precision    recall  f1-score   support\n",
            "\n",
            "           0       0.66      0.61      0.63        31\n",
            "           1       0.64      0.68      0.66        31\n",
            "\n",
            "    accuracy                           0.65        62\n",
            "   macro avg       0.65      0.65      0.64        62\n",
            "weighted avg       0.65      0.65      0.64        62\n",
            "\n",
            "Average F1 score: 0.6451612903225806\n"
          ],
          "name": "stdout"
        }
      ]
    },
    {
      "cell_type": "markdown",
      "metadata": {
        "id": "_zdD1_RGwaou"
      },
      "source": [
        "#GaussianNB"
      ]
    },
    {
      "cell_type": "code",
      "metadata": {
        "colab": {
          "base_uri": "https://localhost:8080/"
        },
        "id": "X6N5nYoWvwwN",
        "outputId": "e47ba8a0-15d1-4adb-9abd-041f56779610"
      },
      "source": [
        "model = GaussianNB()\r\n",
        "model.fit(X_train, y_train)\r\n",
        "y_pred_gnb = model.predict(X_test)\r\n",
        "print(f'{model.__class__.__name__}\\n{classification_report(y_test, y_pred_gnb)}\\nAverage F1 score: {f1_score(y_test, y_pred_gnb, average=\"micro\")}')"
      ],
      "execution_count": 57,
      "outputs": [
        {
          "output_type": "stream",
          "text": [
            "GaussianNB\n",
            "              precision    recall  f1-score   support\n",
            "\n",
            "           0       0.93      0.76      0.84       144\n",
            "           1       0.40      0.74      0.52        31\n",
            "\n",
            "    accuracy                           0.75       175\n",
            "   macro avg       0.66      0.75      0.68       175\n",
            "weighted avg       0.84      0.75      0.78       175\n",
            "\n",
            "Average F1 score: 0.7542857142857143\n"
          ],
          "name": "stdout"
        }
      ]
    },
    {
      "cell_type": "code",
      "metadata": {
        "colab": {
          "base_uri": "https://localhost:8080/"
        },
        "id": "tRWdLbD69wp0",
        "outputId": "9d028cb0-e416-4230-81b8-2e0bf8708459"
      },
      "source": [
        "model = GaussianNB()\n",
        "model.fit(X_train_upsampled, y_train_upsampled)\n",
        "y_pred_gnb_upsampled = model.predict(X_test_upsampled)\n",
        "print(f'{model.__class__.__name__} UPSAMPLED \\n{classification_report(y_test_upsampled, y_pred_gnb_upsampled)}\\nAverage F1 score: {f1_score(y_test_upsampled, y_pred_gnb_upsampled, average=\"micro\")}')"
      ],
      "execution_count": 58,
      "outputs": [
        {
          "output_type": "stream",
          "text": [
            "GaussianNB UPSAMPLED \n",
            "              precision    recall  f1-score   support\n",
            "\n",
            "           0       0.70      0.61      0.65       145\n",
            "           1       0.65      0.74      0.69       144\n",
            "\n",
            "    accuracy                           0.67       289\n",
            "   macro avg       0.67      0.67      0.67       289\n",
            "weighted avg       0.67      0.67      0.67       289\n",
            "\n",
            "Average F1 score: 0.671280276816609\n"
          ],
          "name": "stdout"
        }
      ]
    },
    {
      "cell_type": "code",
      "metadata": {
        "colab": {
          "base_uri": "https://localhost:8080/"
        },
        "id": "IiCeX0Jf-FAD",
        "outputId": "bd116015-5336-465a-bdfd-10d663da4737"
      },
      "source": [
        "model = GaussianNB()\n",
        "model.fit(X_train_undersampled, y_train_undersampled)\n",
        "y_pred_gnb_undersampled = model.predict(X_test_undersampled)\n",
        "print(f'{model.__class__.__name__} UNDERSAMPLED \\n{classification_report(y_test_undersampled, y_pred_gnb_undersampled)}\\nAverage F1 score: {f1_score(y_test_undersampled, y_pred_gnb_undersampled, average=\"micro\")}')"
      ],
      "execution_count": 56,
      "outputs": [
        {
          "output_type": "stream",
          "text": [
            "GaussianNB UNDERSAMPLED \n",
            "              precision    recall  f1-score   support\n",
            "\n",
            "           0       0.71      0.48      0.58        31\n",
            "           1       0.61      0.81      0.69        31\n",
            "\n",
            "    accuracy                           0.65        62\n",
            "   macro avg       0.66      0.65      0.64        62\n",
            "weighted avg       0.66      0.65      0.64        62\n",
            "\n",
            "Average F1 score: 0.6451612903225806\n"
          ],
          "name": "stdout"
        }
      ]
    },
    {
      "cell_type": "markdown",
      "metadata": {
        "id": "F4R61i1lwllk"
      },
      "source": [
        "#MultinomialNB"
      ]
    },
    {
      "cell_type": "code",
      "metadata": {
        "colab": {
          "base_uri": "https://localhost:8080/"
        },
        "id": "9YZnVJOKwqxK",
        "outputId": "e6118a17-9d5b-43c0-ad0b-04b3a84617ee"
      },
      "source": [
        "model = MultinomialNB()\r\n",
        "model.fit(X_train, y_train)\r\n",
        "y_pred_mnb = model.predict(X_test)\r\n",
        "print(f'{model.__class__.__name__}\\n{classification_report(y_test, y_pred_mnb)}\\nAverage F1 score: {f1_score(y_test, y_pred_mnb, average=\"micro\")}')"
      ],
      "execution_count": 59,
      "outputs": [
        {
          "output_type": "stream",
          "text": [
            "MultinomialNB\n",
            "              precision    recall  f1-score   support\n",
            "\n",
            "           0       0.85      0.53      0.66       144\n",
            "           1       0.20      0.55      0.30        31\n",
            "\n",
            "    accuracy                           0.54       175\n",
            "   macro avg       0.52      0.54      0.48       175\n",
            "weighted avg       0.73      0.54      0.59       175\n",
            "\n",
            "Average F1 score: 0.5371428571428571\n"
          ],
          "name": "stdout"
        }
      ]
    },
    {
      "cell_type": "code",
      "metadata": {
        "colab": {
          "base_uri": "https://localhost:8080/"
        },
        "id": "uZzMXjjZ-bgJ",
        "outputId": "ef42bb9f-ee1f-43ab-dc67-7fa657517d29"
      },
      "source": [
        "model = MultinomialNB()\n",
        "model.fit(X_train_upsampled, y_train_upsampled)\n",
        "y_pred_mnb_upsampled = model.predict(X_test_upsampled)\n",
        "print(f'{model.__class__.__name__} UPSAMPLED \\n{classification_report(y_test_upsampled, y_pred_gnb_upsampled)}\\nAverage F1 score: {f1_score(y_test_upsampled, y_pred_gnb_upsampled, average=\"micro\")}')"
      ],
      "execution_count": 60,
      "outputs": [
        {
          "output_type": "stream",
          "text": [
            "MultinomialNB UPSAMPLED \n",
            "              precision    recall  f1-score   support\n",
            "\n",
            "           0       0.70      0.61      0.65       145\n",
            "           1       0.65      0.74      0.69       144\n",
            "\n",
            "    accuracy                           0.67       289\n",
            "   macro avg       0.67      0.67      0.67       289\n",
            "weighted avg       0.67      0.67      0.67       289\n",
            "\n",
            "Average F1 score: 0.671280276816609\n"
          ],
          "name": "stdout"
        }
      ]
    },
    {
      "cell_type": "code",
      "metadata": {
        "colab": {
          "base_uri": "https://localhost:8080/"
        },
        "id": "e9xF82An-iN_",
        "outputId": "bb7c70ca-3423-46df-dca7-072f2c4daf6e"
      },
      "source": [
        "model = MultinomialNB()\n",
        "model.fit(X_train_undersampled, y_train_undersampled)\n",
        "y_pred_mnb_undersampled = model.predict(X_test_undersampled)\n",
        "print(f'{model.__class__.__name__} UNDERSAMPLED \\n{classification_report(y_test_undersampled, y_pred_gnb_undersampled)}\\nAverage F1 score: {f1_score(y_test_undersampled, y_pred_gnb_undersampled, average=\"micro\")}')"
      ],
      "execution_count": 61,
      "outputs": [
        {
          "output_type": "stream",
          "text": [
            "MultinomialNB UNDERSAMPLED \n",
            "              precision    recall  f1-score   support\n",
            "\n",
            "           0       0.71      0.48      0.58        31\n",
            "           1       0.61      0.81      0.69        31\n",
            "\n",
            "    accuracy                           0.65        62\n",
            "   macro avg       0.66      0.65      0.64        62\n",
            "weighted avg       0.66      0.65      0.64        62\n",
            "\n",
            "Average F1 score: 0.6451612903225806\n"
          ],
          "name": "stdout"
        }
      ]
    },
    {
      "cell_type": "markdown",
      "metadata": {
        "id": "XNr3MNR1xNvB"
      },
      "source": [
        "#BaggingClassifier"
      ]
    },
    {
      "cell_type": "code",
      "metadata": {
        "id": "_n-es6uZ-q1Q"
      },
      "source": [
        "params_bagging = {\n",
        "    'base_estimator': [SVC(C=1, class_weight='balanced', gamma=0.01), DecisionTreeClassifier(criterion='gini', max_depth=7, min_samples_leaf=5, min_samples_split=7), GaussianNB()],\n",
        "    'max_samples': [1, 3, 5, 10],\n",
        "}"
      ],
      "execution_count": null,
      "outputs": []
    },
    {
      "cell_type": "code",
      "metadata": {
        "id": "I0gSN2gvxOsv"
      },
      "source": [
        "clf = GridSearchCV(BaggingClassifier(), params_bagging, scoring='f1')\r\n",
        "clf.fit(X_train, y_train)\r\n",
        "clf.best_params_"
      ],
      "execution_count": null,
      "outputs": []
    },
    {
      "cell_type": "code",
      "metadata": {
        "colab": {
          "base_uri": "https://localhost:8080/"
        },
        "id": "yKl26qs3yJyt",
        "outputId": "b5165aec-bd1e-4a5e-cf2a-6ed113911265"
      },
      "source": [
        "model = BaggingClassifier(\r\n",
        "    base_estimator=DecisionTreeClassifier(ccp_alpha=0.0, class_weight=None, criterion='gini',\r\n",
        "                        max_depth=7, max_features=None, max_leaf_nodes=None,\r\n",
        "                        min_impurity_decrease=0.0, min_impurity_split=None,\r\n",
        "                        min_samples_leaf=5, min_samples_split=7,\r\n",
        "                        min_weight_fraction_leaf=0.0, presort='deprecated',\r\n",
        "                        random_state=None, splitter='best'),\r\n",
        "                       max_samples=1\r\n",
        "                       )\r\n",
        "model.fit(X_train, y_train)\r\n",
        "y_pred_bagging = model.predict(X_test)\r\n",
        "print(f'{model.__class__.__name__}\\n{classification_report(y_test, y_pred_bagging)}\\nAverage F1 score: {f1_score(y_test, y_pred_bagging, average=\"micro\")}')"
      ],
      "execution_count": 62,
      "outputs": [
        {
          "output_type": "stream",
          "text": [
            "BaggingClassifier\n",
            "              precision    recall  f1-score   support\n",
            "\n",
            "           0       0.82      1.00      0.90       144\n",
            "           1       0.00      0.00      0.00        31\n",
            "\n",
            "    accuracy                           0.82       175\n",
            "   macro avg       0.41      0.50      0.45       175\n",
            "weighted avg       0.68      0.82      0.74       175\n",
            "\n",
            "Average F1 score: 0.8228571428571428\n"
          ],
          "name": "stdout"
        },
        {
          "output_type": "stream",
          "text": [
            "/usr/local/lib/python3.6/dist-packages/sklearn/metrics/_classification.py:1272: UndefinedMetricWarning: Precision and F-score are ill-defined and being set to 0.0 in labels with no predicted samples. Use `zero_division` parameter to control this behavior.\n",
            "  _warn_prf(average, modifier, msg_start, len(result))\n"
          ],
          "name": "stderr"
        }
      ]
    },
    {
      "cell_type": "code",
      "metadata": {
        "id": "ywUNg7ZO_S76"
      },
      "source": [
        "clf = GridSearchCV(BaggingClassifier(), params_bagging, scoring='f1')\n",
        "clf.fit(X_train_upsampled, y_train_upsampled)\n",
        "clf.best_params_"
      ],
      "execution_count": null,
      "outputs": []
    },
    {
      "cell_type": "code",
      "metadata": {
        "colab": {
          "base_uri": "https://localhost:8080/"
        },
        "id": "JsniPLTz_bey",
        "outputId": "0db6147c-24be-476e-a683-28c1d1e51649"
      },
      "source": [
        "model = BaggingClassifier(\n",
        "    base_estimator=DecisionTreeClassifier(ccp_alpha=0.0, class_weight=None, criterion='gini',\n",
        "                        max_depth=7, max_features=None, max_leaf_nodes=None,\n",
        "                        min_impurity_decrease=0.0, min_impurity_split=None,\n",
        "                        min_samples_leaf=5, min_samples_split=7,\n",
        "                        min_weight_fraction_leaf=0.0, presort='deprecated',\n",
        "                        random_state=None, splitter='best'),\n",
        "                       max_samples=5\n",
        "                       )\n",
        "model.fit(X_train_upsampled, y_train_upsampled)\n",
        "y_pred_bagging_upsampled = model.predict(X_test_upsampled)\n",
        "print(f'{model.__class__.__name__} UPSAMPLED \\n{classification_report(y_test_upsampled, y_pred_bagging_upsampled)}\\nAverage F1 score: {f1_score(y_test_upsampled, y_pred_bagging_upsampled, average=\"micro\")}')"
      ],
      "execution_count": 63,
      "outputs": [
        {
          "output_type": "stream",
          "text": [
            "BaggingClassifier UPSAMPLED \n",
            "              precision    recall  f1-score   support\n",
            "\n",
            "           0       0.50      1.00      0.67       145\n",
            "           1       0.00      0.00      0.00       144\n",
            "\n",
            "    accuracy                           0.50       289\n",
            "   macro avg       0.25      0.50      0.33       289\n",
            "weighted avg       0.25      0.50      0.34       289\n",
            "\n",
            "Average F1 score: 0.5017301038062284\n"
          ],
          "name": "stdout"
        },
        {
          "output_type": "stream",
          "text": [
            "/usr/local/lib/python3.6/dist-packages/sklearn/metrics/_classification.py:1272: UndefinedMetricWarning: Precision and F-score are ill-defined and being set to 0.0 in labels with no predicted samples. Use `zero_division` parameter to control this behavior.\n",
            "  _warn_prf(average, modifier, msg_start, len(result))\n"
          ],
          "name": "stderr"
        }
      ]
    },
    {
      "cell_type": "code",
      "metadata": {
        "id": "yKMtxUb4_t4U"
      },
      "source": [
        "clf = GridSearchCV(BaggingClassifier(), params_bagging, scoring='f1')\n",
        "clf.fit(X_train_undersampled, y_train_undersampled)\n",
        "clf.best_params_"
      ],
      "execution_count": null,
      "outputs": []
    },
    {
      "cell_type": "code",
      "metadata": {
        "colab": {
          "base_uri": "https://localhost:8080/"
        },
        "id": "6oVHYWQH_2Zn",
        "outputId": "4fdb3eca-5c99-4418-cf9c-a8dcaef7f0ea"
      },
      "source": [
        "model = BaggingClassifier(\n",
        "    base_estimator=DecisionTreeClassifier(ccp_alpha=0.0, class_weight=None, criterion='gini',\n",
        "                        max_depth=7, max_features=None, max_leaf_nodes=None,\n",
        "                        min_impurity_decrease=0.0, min_impurity_split=None,\n",
        "                        min_samples_leaf=5, min_samples_split=7,\n",
        "                        min_weight_fraction_leaf=0.0, presort='deprecated',\n",
        "                        random_state=None, splitter='best'),\n",
        "                       max_samples=3\n",
        "                       )\n",
        "model.fit(X_train_undersampled, y_train_undersampled)\n",
        "y_pred_bagging_undersampled = model.predict(X_test_undersampled)\n",
        "print(f'{model.__class__.__name__} UNDERSAMPLED \\n{classification_report(y_test_undersampled, y_pred_bagging_undersampled)}\\nAverage F1 score: {f1_score(y_test_undersampled, y_pred_bagging_undersampled, average=\"micro\")}')"
      ],
      "execution_count": 64,
      "outputs": [
        {
          "output_type": "stream",
          "text": [
            "BaggingClassifier UNDERSAMPLED \n",
            "              precision    recall  f1-score   support\n",
            "\n",
            "           0       0.50      1.00      0.67        31\n",
            "           1       0.00      0.00      0.00        31\n",
            "\n",
            "    accuracy                           0.50        62\n",
            "   macro avg       0.25      0.50      0.33        62\n",
            "weighted avg       0.25      0.50      0.33        62\n",
            "\n",
            "Average F1 score: 0.5\n"
          ],
          "name": "stdout"
        },
        {
          "output_type": "stream",
          "text": [
            "/usr/local/lib/python3.6/dist-packages/sklearn/metrics/_classification.py:1272: UndefinedMetricWarning: Precision and F-score are ill-defined and being set to 0.0 in labels with no predicted samples. Use `zero_division` parameter to control this behavior.\n",
            "  _warn_prf(average, modifier, msg_start, len(result))\n"
          ],
          "name": "stderr"
        }
      ]
    },
    {
      "cell_type": "markdown",
      "metadata": {
        "id": "z_Gs59Nay9dZ"
      },
      "source": [
        "#AdaBoostClassifier"
      ]
    },
    {
      "cell_type": "code",
      "metadata": {
        "id": "TJ8JXni-AGl1"
      },
      "source": [
        "params_boosting = {\n",
        "    'base_estimator': [SVC(), DecisionTreeClassifier(), KNeighborsClassifier(), GaussianNB()],\n",
        "    'algorithm': ['SAMME', 'SAMME.R'],\n",
        "}"
      ],
      "execution_count": null,
      "outputs": []
    },
    {
      "cell_type": "code",
      "metadata": {
        "id": "OKkdipZIy-d4"
      },
      "source": [
        "clf = GridSearchCV(AdaBoostClassifier(random_state=42), params_boosting, scoring='f1')\r\n",
        "clf.fit(X_train, y_train)\r\n",
        "clf.best_params_"
      ],
      "execution_count": null,
      "outputs": []
    },
    {
      "cell_type": "code",
      "metadata": {
        "colab": {
          "base_uri": "https://localhost:8080/"
        },
        "id": "agtwugVWznCR",
        "outputId": "816bbbd5-1c3b-46c6-9f29-e4844d585a6a"
      },
      "source": [
        "model = AdaBoostClassifier(base_estimator=GaussianNB(priors=None, var_smoothing=1e-09),\r\n",
        "                        algorithm='SAMME')\r\n",
        "model.fit(X_train, y_train)\r\n",
        "y_pred_boosting = model.predict(X_test)\r\n",
        "print(f'{model.__class__.__name__}\\n{classification_report(y_test, y_pred_boosting)}\\nAverage F1 score: {f1_score(y_test, y_pred_boosting, average=\"micro\")}')"
      ],
      "execution_count": 65,
      "outputs": [
        {
          "output_type": "stream",
          "text": [
            "AdaBoostClassifier\n",
            "              precision    recall  f1-score   support\n",
            "\n",
            "           0       0.87      0.97      0.91       144\n",
            "           1       0.67      0.32      0.43        31\n",
            "\n",
            "    accuracy                           0.85       175\n",
            "   macro avg       0.77      0.64      0.67       175\n",
            "weighted avg       0.83      0.85      0.83       175\n",
            "\n",
            "Average F1 score: 0.8514285714285714\n"
          ],
          "name": "stdout"
        }
      ]
    },
    {
      "cell_type": "code",
      "metadata": {
        "id": "lcVLtf0cA1gm"
      },
      "source": [
        "clf = GridSearchCV(AdaBoostClassifier(random_state=42), params_boosting, scoring='f1')\n",
        "clf.fit(X_train_upsampled, y_train_upsampled)\n",
        "clf.best_params_"
      ],
      "execution_count": null,
      "outputs": []
    },
    {
      "cell_type": "code",
      "metadata": {
        "colab": {
          "base_uri": "https://localhost:8080/"
        },
        "id": "BXFs3wW4AyKr",
        "outputId": "17c91fa8-6e30-4665-cfdf-69153ee18804"
      },
      "source": [
        "model = AdaBoostClassifier(base_estimator=DecisionTreeClassifier(ccp_alpha=0.0, class_weight=None, criterion='gini',\n",
        "                        max_depth=None, max_features=None, max_leaf_nodes=None,\n",
        "                        min_impurity_decrease=0.0, min_impurity_split=None,\n",
        "                        min_samples_leaf=1, min_samples_split=2,\n",
        "                        min_weight_fraction_leaf=0.0, presort='deprecated',\n",
        "                        random_state=None, splitter='best'),\n",
        "                        algorithm='SAMME')\n",
        "model.fit(X_train_upsampled, y_train_upsampled)\n",
        "y_pred_boosting_upsampled = model.predict(X_test_upsampled)\n",
        "print(f'{model.__class__.__name__} UPSAMPLED \\n{classification_report(y_test_upsampled, y_pred_boosting_upsampled)}\\nAverage F1 score: {f1_score(y_test_upsampled, y_pred_boosting_upsampled, average=\"micro\")}')"
      ],
      "execution_count": 66,
      "outputs": [
        {
          "output_type": "stream",
          "text": [
            "AdaBoostClassifier UPSAMPLED \n",
            "              precision    recall  f1-score   support\n",
            "\n",
            "           0       1.00      0.87      0.93       145\n",
            "           1       0.88      1.00      0.94       144\n",
            "\n",
            "    accuracy                           0.93       289\n",
            "   macro avg       0.94      0.93      0.93       289\n",
            "weighted avg       0.94      0.93      0.93       289\n",
            "\n",
            "Average F1 score: 0.9342560553633218\n"
          ],
          "name": "stdout"
        }
      ]
    },
    {
      "cell_type": "code",
      "metadata": {
        "id": "TNjIQTC6BQ4E"
      },
      "source": [
        "clf = GridSearchCV(AdaBoostClassifier(random_state=42), params_boosting, scoring='f1')\n",
        "clf.fit(X_train_undersampled, y_train_undersampled)\n",
        "clf.best_params_"
      ],
      "execution_count": null,
      "outputs": []
    },
    {
      "cell_type": "code",
      "metadata": {
        "colab": {
          "base_uri": "https://localhost:8080/"
        },
        "id": "PlC9ZpBGBcwv",
        "outputId": "7bf782ee-f235-4b91-f050-045659116273"
      },
      "source": [
        "model = AdaBoostClassifier(base_estimator=GaussianNB(priors=None, var_smoothing=1e-09),\n",
        "                        algorithm='SAMME')\n",
        "model.fit(X_train_undersampled, y_train_undersampled)\n",
        "y_pred_boosting_undersampled = model.predict(X_test_undersampled)\n",
        "print(f'{model.__class__.__name__} UNDERSAMPLED \\n{classification_report(y_test_undersampled, y_pred_boosting_undersampled)}\\nAverage F1 score: {f1_score(y_test_undersampled, y_pred_boosting_undersampled, average=\"micro\")}')"
      ],
      "execution_count": 67,
      "outputs": [
        {
          "output_type": "stream",
          "text": [
            "AdaBoostClassifier UNDERSAMPLED \n",
            "              precision    recall  f1-score   support\n",
            "\n",
            "           0       0.68      0.61      0.64        31\n",
            "           1       0.65      0.71      0.68        31\n",
            "\n",
            "    accuracy                           0.66        62\n",
            "   macro avg       0.66      0.66      0.66        62\n",
            "weighted avg       0.66      0.66      0.66        62\n",
            "\n",
            "Average F1 score: 0.6612903225806451\n"
          ],
          "name": "stdout"
        }
      ]
    },
    {
      "cell_type": "markdown",
      "metadata": {
        "id": "9fPkXkiLz9sx"
      },
      "source": [
        "#RandomForestClassifier"
      ]
    },
    {
      "cell_type": "code",
      "metadata": {
        "id": "htkmsrayB1v4"
      },
      "source": [
        "params_forest = {\n",
        "    # 'n_estimators': [100, 200, 500],\n",
        "    'criterion': ['gini', 'entropy'],\n",
        "    'max_depth': [3, 5, 7, 15],\n",
        "    'min_samples_split': [2, 4, 6, 9],\n",
        "    'min_samples_leaf': [2, 3, 4, 5],\n",
        "    'max_features': ['auto', None]\n",
        "}"
      ],
      "execution_count": null,
      "outputs": []
    },
    {
      "cell_type": "code",
      "metadata": {
        "id": "jXpv0c07z-sS",
        "colab": {
          "base_uri": "https://localhost:8080/"
        },
        "outputId": "7da147fa-3625-4cba-cdef-ced3bfcbcce0"
      },
      "source": [
        "clf = GridSearchCV(RandomForestClassifier(random_state=42), params_forest,scoring='f1')\r\n",
        "clf.fit(X_train, y_train)\r\n",
        "clf.best_params_"
      ],
      "execution_count": null,
      "outputs": [
        {
          "output_type": "execute_result",
          "data": {
            "text/plain": [
              "{'criterion': 'gini',\n",
              " 'max_depth': 15,\n",
              " 'max_features': None,\n",
              " 'min_samples_leaf': 2,\n",
              " 'min_samples_split': 2}"
            ]
          },
          "metadata": {
            "tags": []
          },
          "execution_count": 262
        }
      ]
    },
    {
      "cell_type": "code",
      "metadata": {
        "colab": {
          "base_uri": "https://localhost:8080/"
        },
        "id": "4NgN4_rO3N2V",
        "outputId": "c8fbd845-06de-430f-cb12-590ce9f87119"
      },
      "source": [
        "model = RandomForestClassifier(criterion='gini', max_depth=15, max_features=None, min_samples_leaf=2, min_samples_split=2)\r\n",
        "model.fit(X_train, y_train)\r\n",
        "y_pred_forest = model.predict(X_test)\r\n",
        "print(f'{model.__class__.__name__}\\n{classification_report(y_test, y_pred_forest)}\\nAverage F1 score: {f1_score(y_test, y_pred_forest, average=\"micro\")}')"
      ],
      "execution_count": 68,
      "outputs": [
        {
          "output_type": "stream",
          "text": [
            "RandomForestClassifier\n",
            "              precision    recall  f1-score   support\n",
            "\n",
            "           0       0.87      0.99      0.92       144\n",
            "           1       0.82      0.29      0.43        31\n",
            "\n",
            "    accuracy                           0.86       175\n",
            "   macro avg       0.84      0.64      0.68       175\n",
            "weighted avg       0.86      0.86      0.83       175\n",
            "\n",
            "Average F1 score: 0.8628571428571429\n"
          ],
          "name": "stdout"
        }
      ]
    },
    {
      "cell_type": "code",
      "metadata": {
        "colab": {
          "base_uri": "https://localhost:8080/"
        },
        "id": "aRfJDtU8D16g",
        "outputId": "b6e1280a-1f69-45ac-e5ce-700c679f22d0"
      },
      "source": [
        "clf = GridSearchCV(RandomForestClassifier(random_state=42), params_forest,scoring='f1')\n",
        "clf.fit(X_train_upsampled, y_train_upsampled)\n",
        "clf.best_params_"
      ],
      "execution_count": null,
      "outputs": [
        {
          "output_type": "execute_result",
          "data": {
            "text/plain": [
              "{'criterion': 'entropy',\n",
              " 'max_depth': 15,\n",
              " 'max_features': 'auto',\n",
              " 'min_samples_leaf': 2,\n",
              " 'min_samples_split': 2}"
            ]
          },
          "metadata": {
            "tags": []
          },
          "execution_count": 264
        }
      ]
    },
    {
      "cell_type": "code",
      "metadata": {
        "colab": {
          "base_uri": "https://localhost:8080/"
        },
        "id": "UrIOMcSZBVtt",
        "outputId": "674e446e-c873-40fd-fdf5-34cdbbec20ec"
      },
      "source": [
        "model = RandomForestClassifier(criterion='entropy', max_depth=15, max_features='auto', min_samples_leaf=2, min_samples_split=2)\n",
        "model.fit(X_train_upsampled, y_train_upsampled)\n",
        "y_pred_forest_upsampled = model.predict(X_test_upsampled)\n",
        "print(f'{model.__class__.__name__} UPSAMPLED \\n{classification_report(y_test_upsampled, y_pred_forest_upsampled)}\\nAverage F1 score: {f1_score(y_test_upsampled, y_pred_forest_upsampled, average=\"micro\")}')"
      ],
      "execution_count": 69,
      "outputs": [
        {
          "output_type": "stream",
          "text": [
            "RandomForestClassifier UPSAMPLED \n",
            "              precision    recall  f1-score   support\n",
            "\n",
            "           0       0.95      0.97      0.96       145\n",
            "           1       0.96      0.94      0.95       144\n",
            "\n",
            "    accuracy                           0.96       289\n",
            "   macro avg       0.96      0.95      0.96       289\n",
            "weighted avg       0.96      0.96      0.96       289\n",
            "\n",
            "Average F1 score: 0.9550173010380623\n"
          ],
          "name": "stdout"
        }
      ]
    },
    {
      "cell_type": "code",
      "metadata": {
        "colab": {
          "base_uri": "https://localhost:8080/"
        },
        "id": "6B8zdZfAFY6t",
        "outputId": "220c3068-8371-4c0c-84ab-f67ab7586d7e"
      },
      "source": [
        "clf = GridSearchCV(RandomForestClassifier(random_state=42), params_forest,scoring='f1')\n",
        "clf.fit(X_train_undersampled, y_train_undersampled)\n",
        "clf.best_params_"
      ],
      "execution_count": null,
      "outputs": [
        {
          "output_type": "execute_result",
          "data": {
            "text/plain": [
              "{'criterion': 'entropy',\n",
              " 'max_depth': 5,\n",
              " 'max_features': 'auto',\n",
              " 'min_samples_leaf': 2,\n",
              " 'min_samples_split': 6}"
            ]
          },
          "metadata": {
            "tags": []
          },
          "execution_count": 266
        }
      ]
    },
    {
      "cell_type": "code",
      "metadata": {
        "colab": {
          "base_uri": "https://localhost:8080/"
        },
        "id": "F_Bq4MDOFQOg",
        "outputId": "f58241c7-560a-4a92-c0f4-2be75402c664"
      },
      "source": [
        "model = RandomForestClassifier(criterion='entropy', max_depth=5, max_features=None, min_samples_leaf=2, min_samples_split=6)\n",
        "model.fit(X_train_undersampled, y_train_undersampled)\n",
        "y_pred_forest_undersampled = model.predict(X_test_undersampled)\n",
        "print(f'{model.__class__.__name__} UNDERSAMPLED \\n{classification_report(y_test_undersampled, y_pred_forest_undersampled)}\\nAverage F1 score: {f1_score(y_test_undersampled, y_pred_forest_undersampled, average=\"micro\")}')"
      ],
      "execution_count": 70,
      "outputs": [
        {
          "output_type": "stream",
          "text": [
            "RandomForestClassifier UNDERSAMPLED \n",
            "              precision    recall  f1-score   support\n",
            "\n",
            "           0       0.70      0.68      0.69        31\n",
            "           1       0.69      0.71      0.70        31\n",
            "\n",
            "    accuracy                           0.69        62\n",
            "   macro avg       0.69      0.69      0.69        62\n",
            "weighted avg       0.69      0.69      0.69        62\n",
            "\n",
            "Average F1 score: 0.6935483870967742\n"
          ],
          "name": "stdout"
        }
      ]
    },
    {
      "cell_type": "markdown",
      "metadata": {
        "id": "5sZ5KwTnEPKa"
      },
      "source": [
        "# VotingClassifier"
      ]
    },
    {
      "cell_type": "code",
      "metadata": {
        "colab": {
          "base_uri": "https://localhost:8080/"
        },
        "id": "FnBraMU6Gm1y",
        "outputId": "a0a85609-ef4f-4849-d2b8-64003e39df87"
      },
      "source": [
        "model = VotingClassifier(estimators=[('forest', RandomForestClassifier(criterion='gini', max_depth=15, max_features=None, min_samples_leaf=2, min_samples_split=2)),\r\n",
        "                                      ('boosting', AdaBoostClassifier(base_estimator=GaussianNB(priors=None, var_smoothing=1e-09))),\r\n",
        "                                      ('svm', SVC(C=1, class_weight='balanced', gamma=0.000001)), \r\n",
        "                                      ('gaussian', GaussianNB())], voting='hard')\r\n",
        "model.fit(X_train, y_train)\r\n",
        "y_pred_voting = model.predict(X_test)\r\n",
        "print(f'{model.__class__.__name__}\\n{classification_report(y_test, y_pred_voting)}\\nAverage F1 score: {f1_score(y_test, y_pred_voting, average=\"micro\")}')"
      ],
      "execution_count": 71,
      "outputs": [
        {
          "output_type": "stream",
          "text": [
            "VotingClassifier\n",
            "              precision    recall  f1-score   support\n",
            "\n",
            "           0       0.84      0.98      0.91       144\n",
            "           1       0.62      0.16      0.26        31\n",
            "\n",
            "    accuracy                           0.83       175\n",
            "   macro avg       0.73      0.57      0.58       175\n",
            "weighted avg       0.81      0.83      0.79       175\n",
            "\n",
            "Average F1 score: 0.8342857142857143\n"
          ],
          "name": "stdout"
        }
      ]
    },
    {
      "cell_type": "code",
      "metadata": {
        "colab": {
          "base_uri": "https://localhost:8080/"
        },
        "id": "xwi7jYyzJNGX",
        "outputId": "fbc73e1c-c1e2-4eb5-bb5e-6c0e0c743f89"
      },
      "source": [
        "model = VotingClassifier(estimators=[('forest', RandomForestClassifier(criterion='entropy', max_depth=15, max_features='auto', min_samples_leaf=2, min_samples_split=2)),\n",
        "                                      ('boosting', AdaBoostClassifier(base_estimator=DecisionTreeClassifier(ccp_alpha=0.0, class_weight=None, criterion='gini',\n",
        "                        max_depth=None, max_features=None, max_leaf_nodes=None,\n",
        "                        min_impurity_decrease=0.0, min_impurity_split=None,\n",
        "                        min_samples_leaf=1, min_samples_split=2,\n",
        "                        min_weight_fraction_leaf=0.0, presort='deprecated',\n",
        "                        random_state=None, splitter='best'),\n",
        "                        algorithm='SAMME')),\n",
        "                        ('svm', SVC(C=1, class_weight=None, gamma=0.0001)), ('gaussian', GaussianNB())], voting='hard')\n",
        "model.fit(X_train_upsampled, y_train_upsampled)\n",
        "y_pred_voting_upsampled = model.predict(X_test_upsampled)\n",
        "print(f'{model.__class__.__name__} UPSAMPLED\\n{classification_report(y_test_upsampled, y_pred_voting_upsampled)}\\nAverage F1 score: {f1_score(y_test_upsampled, y_pred_voting_upsampled, average=\"micro\")}')"
      ],
      "execution_count": 72,
      "outputs": [
        {
          "output_type": "stream",
          "text": [
            "VotingClassifier UPSAMPLED\n",
            "              precision    recall  f1-score   support\n",
            "\n",
            "           0       0.93      0.99      0.96       145\n",
            "           1       0.99      0.92      0.95       144\n",
            "\n",
            "    accuracy                           0.96       289\n",
            "   macro avg       0.96      0.95      0.95       289\n",
            "weighted avg       0.96      0.96      0.95       289\n",
            "\n",
            "Average F1 score: 0.9550173010380623\n"
          ],
          "name": "stdout"
        }
      ]
    },
    {
      "cell_type": "code",
      "metadata": {
        "colab": {
          "base_uri": "https://localhost:8080/"
        },
        "id": "ULu8F5tnJwB-",
        "outputId": "d1c4172a-d901-4cac-8274-d20b6e8bbcf9"
      },
      "source": [
        "model = VotingClassifier(estimators=[('forest', RandomForestClassifier(criterion='entropy', max_depth=5, max_features=None, min_samples_leaf=2, min_samples_split=6)),\n",
        "                                      ('boosting', AdaBoostClassifier(base_estimator=GaussianNB(priors=None, var_smoothing=1e-09))),\n",
        "                        ('svm', SVC(C=1, class_weight=None, gamma=0.000001)), ('gaussian', GaussianNB())], voting='hard')\n",
        "model.fit(X_train_undersampled, y_train_undersampled)\n",
        "y_pred_voting_undersampled = model.predict(X_test_undersampled)\n",
        "print(f'{model.__class__.__name__} UNDERSAMPLED \\n{classification_report(y_test_undersampled, y_pred_voting_undersampled)}\\nAverage F1 score: {f1_score(y_test_undersampled, y_pred_voting_undersampled, average=\"micro\")}')"
      ],
      "execution_count": 73,
      "outputs": [
        {
          "output_type": "stream",
          "text": [
            "VotingClassifier UNDERSAMPLED \n",
            "              precision    recall  f1-score   support\n",
            "\n",
            "           0       0.74      0.81      0.77        31\n",
            "           1       0.79      0.71      0.75        31\n",
            "\n",
            "    accuracy                           0.76        62\n",
            "   macro avg       0.76      0.76      0.76        62\n",
            "weighted avg       0.76      0.76      0.76        62\n",
            "\n",
            "Average F1 score: 0.7580645161290323\n"
          ],
          "name": "stdout"
        }
      ]
    },
    {
      "cell_type": "code",
      "metadata": {
        "colab": {
          "base_uri": "https://localhost:8080/"
        },
        "id": "QZTCDPrH40Oy",
        "outputId": "1ee09a5e-704e-493b-e58c-38035a870e95"
      },
      "source": [
        "# Zestawienie wyników wszystkich przebadanych klasyfikatorów i wyłonienie zwycięzcy\r\n",
        "y_preds = [y_pred_lr, y_pred_knn, y_pred_svc, y_pred_gnb, y_pred_mnb, y_pred_tree, y_pred_bagging, y_pred_boosting, y_pred_forest, y_pred_voting]\r\n",
        "y_preds_upsampled = [y_pred_lr_upsampled, y_pred_knn_upsampled, y_pred_svc_upsampled, y_pred_gnb_upsampled, y_pred_mnb_upsampled, y_pred_tree_upsampled, y_pred_bagging_upsampled, y_pred_boosting_upsampled, y_pred_forest_upsampled, y_pred_voting_upsampled]\r\n",
        "y_preds_undersampled = [y_pred_lr_undersampled, y_pred_knn_undersampled, y_pred_svc_undersampled, y_pred_gnb_undersampled, y_pred_mnb_undersampled, y_pred_tree_undersampled, y_pred_bagging_undersampled, y_pred_boosting_undersampled, y_pred_forest_undersampled, y_pred_voting_undersampled]\r\n",
        "f1_scores = []\r\n",
        "precision_scores = []\r\n",
        "recall_scores = []\r\n",
        "for y_pred in y_preds:\r\n",
        "  f1_scores.append(f1_score(y_test, y_pred, average=\"micro\"))\r\n",
        "  precision_scores.append(precision_score(y_test, y_pred, average=\"micro\"))\r\n",
        "  recall_scores.append(recall_score(y_test, y_pred, average=\"micro\"))\r\n",
        "  print(f'F1 score: {f1_score(y_test, y_pred, average=\"micro\")},     Precision: {precision_score(y_test, y_pred, average=\"micro\")},       Recall: {recall_score(y_test, y_pred, average=\"micro\")}')\r\n",
        "print(f'\\n-----------UPSAMPLED-----------------------------------')\r\n",
        "f1_scores_upsampled = []\r\n",
        "precision_scores_upsampled = []\r\n",
        "recall_scores_upsampled = []\r\n",
        "for y_pred in y_preds_upsampled:\r\n",
        "  f1_scores_upsampled.append(f1_score(y_test_upsampled, y_pred, average=\"micro\"))\r\n",
        "  precision_scores_upsampled.append(precision_score(y_test_upsampled, y_pred, average=\"micro\"))\r\n",
        "  recall_scores_upsampled.append(recall_score(y_test_upsampled, y_pred, average=\"micro\"))\r\n",
        "  print(f'F1 score: {f1_score(y_test_upsampled, y_pred, average=\"micro\")},     Precision: {precision_score(y_test_upsampled, y_pred, average=\"micro\")},       Recall: {recall_score(y_test_upsampled, y_pred, average=\"micro\")}')\r\n",
        "print(f'\\n-----------UNDERSAMPLED-----------------------------------')\r\n",
        "f1_scores_undersampled = []\r\n",
        "precision_scores_undersampled = []\r\n",
        "recall_scores_undersampled = []\r\n",
        "for y_pred in y_preds_undersampled:\r\n",
        "  f1_scores_undersampled.append(f1_score(y_test_undersampled, y_pred, average=\"micro\"))\r\n",
        "  precision_scores_undersampled.append(precision_score(y_test_undersampled, y_pred, average=\"micro\"))\r\n",
        "  recall_scores_undersampled.append(recall_score(y_test_undersampled, y_pred, average=\"micro\"))\r\n",
        "  print(f'F1 score: {f1_score(y_test_undersampled, y_pred, average=\"micro\")},     Precision: {precision_score(y_test_undersampled, y_pred, average=\"micro\")},       Recall: {recall_score(y_test_undersampled, y_pred, average=\"micro\")}')"
      ],
      "execution_count": 74,
      "outputs": [
        {
          "output_type": "stream",
          "text": [
            "F1 score: 0.8399999999999999,     Precision: 0.84,       Recall: 0.84\n",
            "F1 score: 0.7885714285714286,     Precision: 0.7885714285714286,       Recall: 0.7885714285714286\n",
            "F1 score: 0.6628571428571428,     Precision: 0.6628571428571428,       Recall: 0.6628571428571428\n",
            "F1 score: 0.7542857142857143,     Precision: 0.7542857142857143,       Recall: 0.7542857142857143\n",
            "F1 score: 0.5371428571428571,     Precision: 0.5371428571428571,       Recall: 0.5371428571428571\n",
            "F1 score: 0.8171428571428572,     Precision: 0.8171428571428572,       Recall: 0.8171428571428572\n",
            "F1 score: 0.8228571428571428,     Precision: 0.8228571428571428,       Recall: 0.8228571428571428\n",
            "F1 score: 0.8514285714285714,     Precision: 0.8514285714285714,       Recall: 0.8514285714285714\n",
            "F1 score: 0.8628571428571429,     Precision: 0.8628571428571429,       Recall: 0.8628571428571429\n",
            "F1 score: 0.8342857142857143,     Precision: 0.8342857142857143,       Recall: 0.8342857142857143\n",
            "\n",
            "-----------UPSAMPLED-----------------------------------\n",
            "F1 score: 0.7820069204152249,     Precision: 0.7820069204152249,       Recall: 0.7820069204152249\n",
            "F1 score: 0.8996539792387543,     Precision: 0.8996539792387543,       Recall: 0.8996539792387543\n",
            "F1 score: 0.9896193771626297,     Precision: 0.9896193771626297,       Recall: 0.9896193771626297\n",
            "F1 score: 0.671280276816609,     Precision: 0.671280276816609,       Recall: 0.671280276816609\n",
            "F1 score: 0.5294117647058824,     Precision: 0.5294117647058824,       Recall: 0.5294117647058824\n",
            "F1 score: 0.9238754325259516,     Precision: 0.9238754325259516,       Recall: 0.9238754325259516\n",
            "F1 score: 0.5017301038062284,     Precision: 0.5017301038062284,       Recall: 0.5017301038062284\n",
            "F1 score: 0.9342560553633218,     Precision: 0.9342560553633218,       Recall: 0.9342560553633218\n",
            "F1 score: 0.9550173010380623,     Precision: 0.9550173010380623,       Recall: 0.9550173010380623\n",
            "F1 score: 0.9550173010380623,     Precision: 0.9550173010380623,       Recall: 0.9550173010380623\n",
            "\n",
            "-----------UNDERSAMPLED-----------------------------------\n",
            "F1 score: 0.6612903225806451,     Precision: 0.6612903225806451,       Recall: 0.6612903225806451\n",
            "F1 score: 0.6290322580645161,     Precision: 0.6290322580645161,       Recall: 0.6290322580645161\n",
            "F1 score: 0.7096774193548389,     Precision: 0.7096774193548387,       Recall: 0.7096774193548387\n",
            "F1 score: 0.6451612903225806,     Precision: 0.6451612903225806,       Recall: 0.6451612903225806\n",
            "F1 score: 0.5967741935483871,     Precision: 0.5967741935483871,       Recall: 0.5967741935483871\n",
            "F1 score: 0.6451612903225806,     Precision: 0.6451612903225806,       Recall: 0.6451612903225806\n",
            "F1 score: 0.5,     Precision: 0.5,       Recall: 0.5\n",
            "F1 score: 0.6612903225806451,     Precision: 0.6612903225806451,       Recall: 0.6612903225806451\n",
            "F1 score: 0.6935483870967742,     Precision: 0.6935483870967742,       Recall: 0.6935483870967742\n",
            "F1 score: 0.7580645161290323,     Precision: 0.7580645161290323,       Recall: 0.7580645161290323\n"
          ],
          "name": "stdout"
        }
      ]
    },
    {
      "cell_type": "markdown",
      "metadata": {
        "id": "q2DfrviRL97N"
      },
      "source": [
        "W oryginalnym zbiorze najlepszy okazała się model 1. RandomForest, 2. AdaBoost\n",
        "OVERSAMPLING: 1.SVC, 2. RandomForest\n",
        "UNDERSAMPLING: 1. Voting, 2. SVC\n"
      ]
    },
    {
      "cell_type": "code",
      "metadata": {
        "id": "z9P2MTT4xlQD"
      },
      "source": [
        "# Zestawienie i zapis wszystkich modeli z najlepszymi parametrami\r\n",
        "\r\n",
        "# ORYGINALNY ZBIÓR\r\n",
        "clf_forest = RandomForestClassifier(criterion='gini', max_depth=15, max_features=None, min_samples_leaf=2, min_samples_split=2)\r\n",
        "clf_boosting = AdaBoostClassifier(base_estimator=GaussianNB(priors=None, var_smoothing=1e-09),algorithm='SAMME')\r\n",
        "clf_svc = SVC(C=1, class_weight='balanced', gamma=0.000001)\r\n",
        "\r\n",
        "# UPSAMPLED\r\n",
        "clf_svc_upsampled = SVC(C=1, class_weight=None, gamma=0.0001)\r\n",
        "clf_forest_upsampled = RandomForestClassifier(criterion='entropy', max_depth=15, max_features='auto', min_samples_leaf=2, min_samples_split=2)\r\n",
        "#UNDERSAMPLED\r\n",
        "clf_voting_undersampled = VotingClassifier(estimators=[('forest', RandomForestClassifier(criterion='entropy', max_depth=5, max_features=None, min_samples_leaf=2, min_samples_split=6)),\r\n",
        "                                      ('boosting', AdaBoostClassifier(base_estimator=GaussianNB(priors=None, var_smoothing=1e-09))),\r\n",
        "                        ('svm', SVC(C=1, class_weight=None, gamma=0.000001)), ('gaussian', GaussianNB())], voting='hard')\r\n",
        "clf_svc_undersampled = SVC(C=1, class_weight=None, gamma=0.000001)"
      ],
      "execution_count": 113,
      "outputs": []
    },
    {
      "cell_type": "code",
      "metadata": {
        "colab": {
          "base_uri": "https://localhost:8080/"
        },
        "id": "QqpfniEaxVOc",
        "outputId": "15c16960-f6b7-4cd3-f615-2d66ea27daa1"
      },
      "source": [
        "print(f'ORYGINALNY ZBIÓR')\r\n",
        "print(f'{clf_forest.__class__.__name__}\\n{classification_report(y_test, y_pred_forest)}\\n')\r\n",
        "print(f'{clf_boosting.__class__.__name__}\\n{classification_report(y_test, y_pred_boosting)}\\n')\r\n",
        "print(f'\\nUPSAMPLED')\r\n",
        "print(f'{clf_svc_upsampled.__class__.__name__}\\n{classification_report(y_test_upsampled, y_pred_svc_upsampled)}\\n')\r\n",
        "print(f'{clf_forest_upsampled.__class__.__name__}\\n{classification_report(y_test_upsampled, y_pred_forest_upsampled)}\\n')\r\n",
        "print(f'\\nUNDERSAMPLED')\r\n",
        "print(f'{clf_voting_undersampled.__class__.__name__}\\n{classification_report(y_test_undersampled, y_pred_voting_undersampled)}\\n')\r\n",
        "print(f'{clf_svc_undersampled.__class__.__name__}\\n{classification_report(y_test_undersampled, y_pred_svc_undersampled)}\\n')"
      ],
      "execution_count": 77,
      "outputs": [
        {
          "output_type": "stream",
          "text": [
            "ORYGINALNY ZBIÓR\n",
            "RandomForestClassifier\n",
            "              precision    recall  f1-score   support\n",
            "\n",
            "           0       0.87      0.99      0.92       144\n",
            "           1       0.82      0.29      0.43        31\n",
            "\n",
            "    accuracy                           0.86       175\n",
            "   macro avg       0.84      0.64      0.68       175\n",
            "weighted avg       0.86      0.86      0.83       175\n",
            "\n",
            "\n",
            "AdaBoostClassifier\n",
            "              precision    recall  f1-score   support\n",
            "\n",
            "           0       0.87      0.97      0.91       144\n",
            "           1       0.67      0.32      0.43        31\n",
            "\n",
            "    accuracy                           0.85       175\n",
            "   macro avg       0.77      0.64      0.67       175\n",
            "weighted avg       0.83      0.85      0.83       175\n",
            "\n",
            "\n",
            "\n",
            "UPSAMPLED\n",
            "SVC\n",
            "              precision    recall  f1-score   support\n",
            "\n",
            "           0       0.98      1.00      0.99       145\n",
            "           1       1.00      0.98      0.99       144\n",
            "\n",
            "    accuracy                           0.99       289\n",
            "   macro avg       0.99      0.99      0.99       289\n",
            "weighted avg       0.99      0.99      0.99       289\n",
            "\n",
            "\n",
            "RandomForestClassifier\n",
            "              precision    recall  f1-score   support\n",
            "\n",
            "           0       0.95      0.97      0.96       145\n",
            "           1       0.96      0.94      0.95       144\n",
            "\n",
            "    accuracy                           0.96       289\n",
            "   macro avg       0.96      0.95      0.96       289\n",
            "weighted avg       0.96      0.96      0.96       289\n",
            "\n",
            "\n",
            "\n",
            "UNDERSAMPLED\n",
            "VotingClassifier\n",
            "              precision    recall  f1-score   support\n",
            "\n",
            "           0       0.74      0.81      0.77        31\n",
            "           1       0.79      0.71      0.75        31\n",
            "\n",
            "    accuracy                           0.76        62\n",
            "   macro avg       0.76      0.76      0.76        62\n",
            "weighted avg       0.76      0.76      0.76        62\n",
            "\n",
            "\n",
            "SVC\n",
            "              precision    recall  f1-score   support\n",
            "\n",
            "           0       0.67      0.84      0.74        31\n",
            "           1       0.78      0.58      0.67        31\n",
            "\n",
            "    accuracy                           0.71        62\n",
            "   macro avg       0.72      0.71      0.70        62\n",
            "weighted avg       0.72      0.71      0.70        62\n",
            "\n",
            "\n"
          ],
          "name": "stdout"
        }
      ]
    },
    {
      "cell_type": "markdown",
      "metadata": {
        "id": "_cPE0RVY1JNH"
      },
      "source": [
        "Na próbę do ewaluacji przyjmujemy SVC wg OVERSAMPLING."
      ]
    },
    {
      "cell_type": "code",
      "metadata": {
        "id": "jbpQnATWC1Rz"
      },
      "source": [
        "# # Zestawienie i zapis wszystkich modeli z najlepszymi parametrami\r\n",
        "# clf_lr = LogisticRegression(C=1, max_iter=100, solver='newton-cg',random_state=42)\r\n",
        "# clf_knn = KNeighborsClassifier(algorithm='auto', n_neighbors=3, p=2)\r\n",
        "# clf_svc = SVC(C=100, class_weight=None, gamma=0.1,random_state=42)\r\n",
        "# clf_tree = DecisionTreeClassifier(criterion='gini', max_depth=9, min_samples_leaf=1, min_samples_split=2, random_state=42)\r\n",
        "# clf_gnb = GaussianNB()\r\n",
        "# clf_mnb = MultinomialNB()\r\n",
        "# clf_bagging = BaggingClassifier(\r\n",
        "#     base_estimator=SVC(C=100, break_ties=False, cache_size=200, class_weight=None, coef0=0.0,\r\n",
        "#                        decision_function_shape='ovr', degree=3, gamma=0.1, kernel='rbf',\r\n",
        "#                        max_iter=-1, probability=False, random_state=None, shrinking=True,\r\n",
        "#                        tol=0.001, verbose=False),\r\n",
        "#                        max_samples=10\r\n",
        "#                        )\r\n",
        "# clf_boosting = AdaBoostClassifier(base_estimator=DecisionTreeClassifier(ccp_alpha=0.0, class_weight=None, criterion='gini',\r\n",
        "#                         max_depth=9, max_features=None, max_leaf_nodes=None,\r\n",
        "#                         min_impurity_decrease=0.0, min_impurity_split=None,\r\n",
        "#                         min_samples_leaf=1, min_samples_split=2,\r\n",
        "#                         min_weight_fraction_leaf=0.0, presort='deprecated',\r\n",
        "#                         random_state=None, splitter='best'),\r\n",
        "#                         algorithm='SAMME')\r\n",
        "# clf_forest = RandomForestClassifier(criterion='entropy', max_depth=15, max_features=None, min_samples_leaf=2, min_samples_split=2, random_state=42)\r\n",
        "# clf_voting = VotingClassifier(estimators=[('forest', RandomForestClassifier(criterion='entropy', max_depth=15, max_features=None, min_samples_leaf=2, min_samples_split=2)),\r\n",
        "#                                       ('boosting', AdaBoostClassifier(base_estimator=DecisionTreeClassifier(ccp_alpha=0.0, class_weight=None, criterion='gini',\r\n",
        "#                         max_depth=9, max_features=None, max_leaf_nodes=None,\r\n",
        "#                         min_impurity_decrease=0.0, min_impurity_split=None,\r\n",
        "#                         min_samples_leaf=1, min_samples_split=2,\r\n",
        "#                         min_weight_fraction_leaf=0.0, presort='deprecated',\r\n",
        "#                         random_state=None, splitter='best'),\r\n",
        "#                         algorithm='SAMME')),\r\n",
        "#                         ('svm', SVC(C=100, class_weight=None, gamma=0.1,random_state=42))], voting='hard')"
      ],
      "execution_count": null,
      "outputs": []
    },
    {
      "cell_type": "markdown",
      "metadata": {
        "id": "OQJGPxfnKkgw"
      },
      "source": [
        "# Weryfikacja skuteczności modeli na danych znormalizowanych, standaryzowanych i zdyskretyzowanych"
      ]
    },
    {
      "cell_type": "code",
      "metadata": {
        "id": "El8v2JMyPD_q"
      },
      "source": [
        "preprocesser = [None, Normalizer(), StandardScaler(), MinMaxScaler(), KBinsDiscretizer(n_bins=10, strategy='uniform')]"
      ],
      "execution_count": 121,
      "outputs": []
    },
    {
      "cell_type": "code",
      "metadata": {
        "id": "YL8xSAo9McVw"
      },
      "source": [
        "# Normalizacja\r\n",
        "X_normalized = preprocesser[1].fit_transform(X)\r\n",
        "X_normalized_upsampled = preprocesser[1].fit_transform(X_upsampled)\r\n",
        "X_normalized_undersampled = preprocesser[1].fit_transform(X_undersampled)"
      ],
      "execution_count": 122,
      "outputs": []
    },
    {
      "cell_type": "code",
      "metadata": {
        "id": "dYaVWR9uM29q"
      },
      "source": [
        "# Standaryzacja\r\n",
        "X_standarized = preprocesser[2].fit_transform(X)\r\n",
        "X_standarized_upsampled = preprocesser[2].fit_transform(X_upsampled)\r\n",
        "X_standarized_undersampled = preprocesser[2].fit_transform(X_undersampled)"
      ],
      "execution_count": 123,
      "outputs": []
    },
    {
      "cell_type": "code",
      "metadata": {
        "id": "eU6S2qQNU-_4"
      },
      "source": [
        "# MinMax Standaryzacja\r\n",
        "X_minmax_standarized = preprocesser[3].fit_transform(X)\r\n",
        "X_minmax_standarized_upsampled = preprocesser[3].fit_transform(X_upsampled)\r\n",
        "X_minmax_standarized_undersampled = preprocesser[3].fit_transform(X_undersampled)"
      ],
      "execution_count": 124,
      "outputs": []
    },
    {
      "cell_type": "code",
      "metadata": {
        "id": "l2zfiWcFcNPU"
      },
      "source": [
        "# Dyskretyzacja\r\n",
        "X_bins = preprocesser[4].fit_transform(X)\r\n",
        "X_bins_upsampled = preprocesser[4].fit_transform(X_upsampled)\r\n",
        "X_bins_undersampled = preprocesser[4].fit_transform(X_undersampled)"
      ],
      "execution_count": 125,
      "outputs": []
    },
    {
      "cell_type": "code",
      "metadata": {
        "colab": {
          "base_uri": "https://localhost:8080/"
        },
        "id": "kbW-5viO1duQ",
        "outputId": "503fa2df-1489-4b73-f549-62720d845c9f"
      },
      "source": [
        "# Kroswalidacja na oryginalnych danych - wyniki dla RandomForest, AdaBoosting\r\n",
        "for clf in (clf_forest, clf_boosting, clf_svc):\r\n",
        "  predicted, true = [], []\r\n",
        "  for train_index, test_index in StratifiedKFold(n_splits=10, shuffle=True, random_state=42).split(X, y):\r\n",
        "    X_train, X_test = X.iloc[train_index], X.iloc[test_index]\r\n",
        "    y_train, y_test = y.iloc[train_index], y.iloc[test_index]\r\n",
        "    clf.fit(X=X_train, y=y_train)\r\n",
        "    predicted.extend(clf.predict(X_test))\r\n",
        "    true.extend(y_test)\r\n",
        "  print(f\"{clf.__class__.__name__}:\\n {classification_report(true, predicted)}\")"
      ],
      "execution_count": 167,
      "outputs": [
        {
          "output_type": "stream",
          "text": [
            "RandomForestClassifier:\n",
            "               precision    recall  f1-score   support\n",
            "\n",
            "           0       0.86      0.98      0.91       721\n",
            "           1       0.67      0.23      0.34       154\n",
            "\n",
            "    accuracy                           0.84       875\n",
            "   macro avg       0.76      0.60      0.63       875\n",
            "weighted avg       0.82      0.84      0.81       875\n",
            "\n",
            "AdaBoostClassifier:\n",
            "               precision    recall  f1-score   support\n",
            "\n",
            "           0       0.86      0.91      0.88       721\n",
            "           1       0.39      0.29      0.33       154\n",
            "\n",
            "    accuracy                           0.80       875\n",
            "   macro avg       0.62      0.60      0.61       875\n",
            "weighted avg       0.77      0.80      0.78       875\n",
            "\n",
            "SVC:\n",
            "               precision    recall  f1-score   support\n",
            "\n",
            "           0       0.84      0.69      0.76       721\n",
            "           1       0.21      0.39      0.28       154\n",
            "\n",
            "    accuracy                           0.64       875\n",
            "   macro avg       0.53      0.54      0.52       875\n",
            "weighted avg       0.73      0.64      0.67       875\n",
            "\n"
          ],
          "name": "stdout"
        }
      ]
    },
    {
      "cell_type": "code",
      "metadata": {
        "colab": {
          "base_uri": "https://localhost:8080/"
        },
        "id": "4BoS2GPF2yGx",
        "outputId": "6b8abc68-539b-4ccd-c095-4ae4dc1fd341"
      },
      "source": [
        "# Kroswalidacja na OVERSAMPLOWANYCH danych - wyniki dla SVC RandomForest\r\n",
        "for clf in (clf_svc_upsampled, clf_forest_upsampled):\r\n",
        "  predicted, true = [], []\r\n",
        "  for train_index, test_index in StratifiedKFold(n_splits=10, shuffle=True, random_state=42).split(X_upsampled, y_upsampled):\r\n",
        "    X_train, X_test = X_upsampled.iloc[train_index], X_upsampled.iloc[test_index]\r\n",
        "    y_train, y_test = y_upsampled.iloc[train_index], y_upsampled.iloc[test_index]\r\n",
        "    clf.fit(X=X_train, y=y_train)\r\n",
        "    predicted.extend(clf.predict(X_test_upsampled))\r\n",
        "    true.extend(y_test_upsampled)\r\n",
        "  print(f\"{clf.__class__.__name__}:\\n {classification_report(true, predicted)}\")"
      ],
      "execution_count": 168,
      "outputs": [
        {
          "output_type": "stream",
          "text": [
            "SVC:\n",
            "               precision    recall  f1-score   support\n",
            "\n",
            "           0       1.00      1.00      1.00      1450\n",
            "           1       1.00      1.00      1.00      1440\n",
            "\n",
            "    accuracy                           1.00      2890\n",
            "   macro avg       1.00      1.00      1.00      2890\n",
            "weighted avg       1.00      1.00      1.00      2890\n",
            "\n",
            "RandomForestClassifier:\n",
            "               precision    recall  f1-score   support\n",
            "\n",
            "           0       1.00      1.00      1.00      1450\n",
            "           1       1.00      1.00      1.00      1440\n",
            "\n",
            "    accuracy                           1.00      2890\n",
            "   macro avg       1.00      1.00      1.00      2890\n",
            "weighted avg       1.00      1.00      1.00      2890\n",
            "\n"
          ],
          "name": "stdout"
        }
      ]
    },
    {
      "cell_type": "code",
      "metadata": {
        "colab": {
          "base_uri": "https://localhost:8080/"
        },
        "id": "VGE0xAODAM-x",
        "outputId": "e02cf441-438f-4608-c2ba-573d36d993d4"
      },
      "source": [
        "# Kroswalidacja na UNDERSAMPLOWANYCH danych - wyniki dla wszystkich modeli Voting i SVC\r\n",
        "for clf in (clf_voting_undersampled, clf_svc_undersampled):\r\n",
        "  predicted, true = [], []\r\n",
        "  for train_index, test_index in StratifiedKFold(n_splits=10, shuffle=True, random_state=42).split(X_undersampled, y_undersampled):\r\n",
        "    X_train, X_test = X_undersampled.iloc[train_index], X_undersampled.iloc[test_index]\r\n",
        "    y_train, y_test = y_undersampled.iloc[train_index], y_undersampled.iloc[test_index]\r\n",
        "    clf.fit(X=X_train, y=y_train)\r\n",
        "    predicted.extend(clf.predict(X_test_undersampled))\r\n",
        "    true.extend(y_test_undersampled)\r\n",
        "  print(f\"{clf.__class__.__name__}:\\n {classification_report(true, predicted)}\")"
      ],
      "execution_count": 169,
      "outputs": [
        {
          "output_type": "stream",
          "text": [
            "VotingClassifier:\n",
            "               precision    recall  f1-score   support\n",
            "\n",
            "           0       0.84      0.90      0.87       310\n",
            "           1       0.90      0.83      0.86       310\n",
            "\n",
            "    accuracy                           0.86       620\n",
            "   macro avg       0.87      0.86      0.86       620\n",
            "weighted avg       0.87      0.86      0.86       620\n",
            "\n",
            "SVC:\n",
            "               precision    recall  f1-score   support\n",
            "\n",
            "           0       0.82      0.85      0.83       310\n",
            "           1       0.84      0.81      0.83       310\n",
            "\n",
            "    accuracy                           0.83       620\n",
            "   macro avg       0.83      0.83      0.83       620\n",
            "weighted avg       0.83      0.83      0.83       620\n",
            "\n"
          ],
          "name": "stdout"
        }
      ]
    },
    {
      "cell_type": "code",
      "metadata": {
        "colab": {
          "base_uri": "https://localhost:8080/"
        },
        "id": "5fqnlvzILgGo",
        "outputId": "aca89fa2-300d-48ec-bd4c-a7b0bdd819d7"
      },
      "source": [
        "# Kroswalidacja na danych znormalizowanych - wyniki dla RandomForest, AdaBoosting, SVC\r\n",
        "for clf in (clf_forest, clf_boosting, clf_svc):\r\n",
        "  predicted, true = [], []\r\n",
        "  for train_index, test_index in StratifiedKFold(n_splits=10, shuffle=True, random_state=42).split(X_normalized, y):\r\n",
        "    X_train, X_test = X_normalized[train_index], X_normalized[test_index]\r\n",
        "    y_train, y_test = y.iloc[train_index], y.iloc[test_index]\r\n",
        "    clf.fit(X=X_train, y=y_train)\r\n",
        "    predicted.extend(clf.predict(X_test))\r\n",
        "    true.extend(y_test)\r\n",
        "  print(f\"{clf.__class__.__name__}:\\n {classification_report(true, predicted)}\")"
      ],
      "execution_count": 170,
      "outputs": [
        {
          "output_type": "stream",
          "text": [
            "RandomForestClassifier:\n",
            "               precision    recall  f1-score   support\n",
            "\n",
            "           0       0.84      0.98      0.90       721\n",
            "           1       0.56      0.14      0.23       154\n",
            "\n",
            "    accuracy                           0.83       875\n",
            "   macro avg       0.70      0.56      0.57       875\n",
            "weighted avg       0.79      0.83      0.79       875\n",
            "\n",
            "AdaBoostClassifier:\n",
            "               precision    recall  f1-score   support\n",
            "\n",
            "           0       0.85      0.87      0.86       721\n",
            "           1       0.33      0.31      0.32       154\n",
            "\n",
            "    accuracy                           0.77       875\n",
            "   macro avg       0.59      0.59      0.59       875\n",
            "weighted avg       0.76      0.77      0.77       875\n",
            "\n",
            "SVC:\n",
            "               precision    recall  f1-score   support\n",
            "\n",
            "           0       0.00      0.00      0.00       721\n",
            "           1       0.18      1.00      0.30       154\n",
            "\n",
            "    accuracy                           0.18       875\n",
            "   macro avg       0.09      0.50      0.15       875\n",
            "weighted avg       0.03      0.18      0.05       875\n",
            "\n"
          ],
          "name": "stdout"
        },
        {
          "output_type": "stream",
          "text": [
            "/usr/local/lib/python3.6/dist-packages/sklearn/metrics/_classification.py:1272: UndefinedMetricWarning: Precision and F-score are ill-defined and being set to 0.0 in labels with no predicted samples. Use `zero_division` parameter to control this behavior.\n",
            "  _warn_prf(average, modifier, msg_start, len(result))\n"
          ],
          "name": "stderr"
        }
      ]
    },
    {
      "cell_type": "code",
      "metadata": {
        "colab": {
          "base_uri": "https://localhost:8080/"
        },
        "id": "9aD422h_SARi",
        "outputId": "afd93228-4ce6-4740-cbaf-b3676575b1f2"
      },
      "source": [
        "# Kroswalidacja na danych standaryzowanych - wyniki dla RandomForest, AdaBoosting, SVC\r\n",
        "for clf in (clf_forest, clf_boosting, clf_svc):\r\n",
        "  predicted, true = [], []\r\n",
        "  for train_index, test_index in StratifiedKFold(n_splits=10, shuffle=True, random_state=42).split(X_standarized, y):\r\n",
        "    X_train, X_test = X_standarized[train_index], X_standarized[test_index]\r\n",
        "    y_train, y_test = y.iloc[train_index], y.iloc[test_index]\r\n",
        "    clf.fit(X=X_train, y=y_train)\r\n",
        "    predicted.extend(clf.predict(X_test))\r\n",
        "    true.extend(y_test)\r\n",
        "  print(f\"{clf.__class__.__name__}:\\n {classification_report(true, predicted)}\")"
      ],
      "execution_count": 171,
      "outputs": [
        {
          "output_type": "stream",
          "text": [
            "RandomForestClassifier:\n",
            "               precision    recall  f1-score   support\n",
            "\n",
            "           0       0.86      0.97      0.91       721\n",
            "           1       0.65      0.23      0.34       154\n",
            "\n",
            "    accuracy                           0.84       875\n",
            "   macro avg       0.76      0.60      0.63       875\n",
            "weighted avg       0.82      0.84      0.81       875\n",
            "\n",
            "AdaBoostClassifier:\n",
            "               precision    recall  f1-score   support\n",
            "\n",
            "           0       0.88      0.87      0.87       721\n",
            "           1       0.42      0.44      0.43       154\n",
            "\n",
            "    accuracy                           0.79       875\n",
            "   macro avg       0.65      0.65      0.65       875\n",
            "weighted avg       0.80      0.79      0.80       875\n",
            "\n",
            "SVC:\n",
            "               precision    recall  f1-score   support\n",
            "\n",
            "           0       0.00      0.00      0.00       721\n",
            "           1       0.18      1.00      0.30       154\n",
            "\n",
            "    accuracy                           0.18       875\n",
            "   macro avg       0.09      0.50      0.15       875\n",
            "weighted avg       0.03      0.18      0.05       875\n",
            "\n"
          ],
          "name": "stdout"
        },
        {
          "output_type": "stream",
          "text": [
            "/usr/local/lib/python3.6/dist-packages/sklearn/metrics/_classification.py:1272: UndefinedMetricWarning: Precision and F-score are ill-defined and being set to 0.0 in labels with no predicted samples. Use `zero_division` parameter to control this behavior.\n",
            "  _warn_prf(average, modifier, msg_start, len(result))\n"
          ],
          "name": "stderr"
        }
      ]
    },
    {
      "cell_type": "code",
      "metadata": {
        "colab": {
          "base_uri": "https://localhost:8080/"
        },
        "id": "pnppUEebU3W9",
        "outputId": "d3d1bf50-1b98-4f28-e3f5-9e3a95b9e45e"
      },
      "source": [
        "# Kroswalidacja na danych standaryzowanych MinMax- wyniki dla RandomForest, AdaBoosting, SVC\r\n",
        "for clf in (clf_forest, clf_boosting, clf_svc):\r\n",
        "  predicted, true = [], []\r\n",
        "  for train_index, test_index in StratifiedKFold(n_splits=10, shuffle=True, random_state=42).split(X_minmax_standarized, y):\r\n",
        "    X_train, X_test = X_minmax_standarized[train_index], X_minmax_standarized[test_index]\r\n",
        "    y_train, y_test = y.iloc[train_index], y.iloc[test_index]\r\n",
        "    clf.fit(X=X_train, y=y_train)\r\n",
        "    predicted.extend(clf.predict(X_test))\r\n",
        "    true.extend(y_test)\r\n",
        "  print(f\"{clf.__class__.__name__}:\\n {classification_report(true, predicted)}\")"
      ],
      "execution_count": 172,
      "outputs": [
        {
          "output_type": "stream",
          "text": [
            "RandomForestClassifier:\n",
            "               precision    recall  f1-score   support\n",
            "\n",
            "           0       0.85      0.98      0.91       721\n",
            "           1       0.69      0.22      0.33       154\n",
            "\n",
            "    accuracy                           0.85       875\n",
            "   macro avg       0.77      0.60      0.62       875\n",
            "weighted avg       0.83      0.85      0.81       875\n",
            "\n",
            "AdaBoostClassifier:\n",
            "               precision    recall  f1-score   support\n",
            "\n",
            "           0       0.88      0.87      0.87       721\n",
            "           1       0.42      0.44      0.43       154\n",
            "\n",
            "    accuracy                           0.79       875\n",
            "   macro avg       0.65      0.65      0.65       875\n",
            "weighted avg       0.80      0.79      0.80       875\n",
            "\n",
            "SVC:\n",
            "               precision    recall  f1-score   support\n",
            "\n",
            "           0       0.00      0.00      0.00       721\n",
            "           1       0.18      1.00      0.30       154\n",
            "\n",
            "    accuracy                           0.18       875\n",
            "   macro avg       0.09      0.50      0.15       875\n",
            "weighted avg       0.03      0.18      0.05       875\n",
            "\n"
          ],
          "name": "stdout"
        },
        {
          "output_type": "stream",
          "text": [
            "/usr/local/lib/python3.6/dist-packages/sklearn/metrics/_classification.py:1272: UndefinedMetricWarning: Precision and F-score are ill-defined and being set to 0.0 in labels with no predicted samples. Use `zero_division` parameter to control this behavior.\n",
            "  _warn_prf(average, modifier, msg_start, len(result))\n"
          ],
          "name": "stderr"
        }
      ]
    },
    {
      "cell_type": "code",
      "metadata": {
        "colab": {
          "base_uri": "https://localhost:8080/"
        },
        "id": "agJVNl2Fc2Fh",
        "outputId": "9d77c87e-866c-46b9-b2c9-805a8763fa03"
      },
      "source": [
        "# Kroswalidacja na danych zdyskretyzowanych - wyniki dla RandomForest i SVC\r\n",
        "for clf in (clf_forest, clf_svc):\r\n",
        "  predicted, true = [], []\r\n",
        "  for train_index, test_index in StratifiedKFold(n_splits=10, shuffle=True, random_state=42).split(X_bins, y):\r\n",
        "    X_train, X_test = X_bins[train_index], X_bins[test_index]\r\n",
        "    y_train, y_test = y.iloc[train_index], y.iloc[test_index]\r\n",
        "    clf.fit(X=X_train, y=y_train)\r\n",
        "    predicted.extend(clf.predict(X_test))\r\n",
        "    true.extend(y_test)\r\n",
        "  print(f\"{clf.__class__.__name__}:\\n {classification_report(true, predicted)}\")"
      ],
      "execution_count": 173,
      "outputs": [
        {
          "output_type": "stream",
          "text": [
            "RandomForestClassifier:\n",
            "               precision    recall  f1-score   support\n",
            "\n",
            "           0       0.86      0.98      0.91       721\n",
            "           1       0.69      0.23      0.34       154\n",
            "\n",
            "    accuracy                           0.85       875\n",
            "   macro avg       0.77      0.60      0.63       875\n",
            "weighted avg       0.83      0.85      0.81       875\n",
            "\n",
            "SVC:\n",
            "               precision    recall  f1-score   support\n",
            "\n",
            "           0       0.00      0.00      0.00       721\n",
            "           1       0.18      1.00      0.30       154\n",
            "\n",
            "    accuracy                           0.18       875\n",
            "   macro avg       0.09      0.50      0.15       875\n",
            "weighted avg       0.03      0.18      0.05       875\n",
            "\n"
          ],
          "name": "stdout"
        },
        {
          "output_type": "stream",
          "text": [
            "/usr/local/lib/python3.6/dist-packages/sklearn/metrics/_classification.py:1272: UndefinedMetricWarning: Precision and F-score are ill-defined and being set to 0.0 in labels with no predicted samples. Use `zero_division` parameter to control this behavior.\n",
            "  _warn_prf(average, modifier, msg_start, len(result))\n"
          ],
          "name": "stderr"
        }
      ]
    },
    {
      "cell_type": "code",
      "metadata": {
        "colab": {
          "base_uri": "https://localhost:8080/"
        },
        "id": "0tMu9cA7fxIU",
        "outputId": "c45efcc5-644d-4836-e3e8-386f9d5e6f35"
      },
      "source": [
        "# Kroswalidacja na danych znormalizowanych OVERSAMPLINGOWANYCH - wyniki dla SVC, RandomForest, \r\n",
        "for clf in (clf_svc_upsampled, clf_forest_upsampled):\r\n",
        "  predicted, true = [], []\r\n",
        "  for train_index, test_index in StratifiedKFold(n_splits=10, shuffle=True, random_state=42).split(X_normalized_upsampled, y_upsampled):\r\n",
        "    X_train, X_test = X_normalized_upsampled[train_index], X_normalized_upsampled[test_index]\r\n",
        "    y_train, y_test = y_upsampled.iloc[train_index], y_upsampled.iloc[test_index]\r\n",
        "    clf.fit(X=X_train, y=y_train)\r\n",
        "    predicted.extend(clf.predict(X_test))\r\n",
        "    true.extend(y_test)\r\n",
        "  print(f\"{clf.__class__.__name__}:\\n {classification_report(true, predicted)}\")"
      ],
      "execution_count": 180,
      "outputs": [
        {
          "output_type": "stream",
          "text": [
            "SVC:\n",
            "               precision    recall  f1-score   support\n",
            "\n",
            "           0       0.61      0.30      0.40       721\n",
            "           1       0.53      0.81      0.64       721\n",
            "\n",
            "    accuracy                           0.55      1442\n",
            "   macro avg       0.57      0.55      0.52      1442\n",
            "weighted avg       0.57      0.55      0.52      1442\n",
            "\n",
            "RandomForestClassifier:\n",
            "               precision    recall  f1-score   support\n",
            "\n",
            "           0       0.98      0.95      0.96       721\n",
            "           1       0.96      0.98      0.97       721\n",
            "\n",
            "    accuracy                           0.97      1442\n",
            "   macro avg       0.97      0.97      0.97      1442\n",
            "weighted avg       0.97      0.97      0.97      1442\n",
            "\n"
          ],
          "name": "stdout"
        }
      ]
    },
    {
      "cell_type": "code",
      "metadata": {
        "colab": {
          "base_uri": "https://localhost:8080/"
        },
        "id": "mLx12vt2gl1K",
        "outputId": "cba6a546-d951-42a9-be22-6e5a59937ff0"
      },
      "source": [
        "# Kroswalidacja na danych standaryzowanych OVERSAMPLINGOWANYCH - wyniki dla SVC, RandomForest, \r\n",
        "for clf in (clf_svc_upsampled, clf_forest_upsampled):\r\n",
        "  predicted, true = [], []\r\n",
        "  for train_index, test_index in StratifiedKFold(n_splits=10, shuffle=True, random_state=42).split(X_standarized_upsampled, y_upsampled):\r\n",
        "    X_train, X_test = X_standarized_upsampled[train_index], X_standarized_upsampled[test_index]\r\n",
        "    y_train, y_test = y_upsampled.iloc[train_index], y_upsampled.iloc[test_index]\r\n",
        "    clf.fit(X=X_train, y=y_train)\r\n",
        "    predicted.extend(clf.predict(X_test))\r\n",
        "    true.extend(y_test)\r\n",
        "  print(f\"{clf.__class__.__name__}:\\n {classification_report(true, predicted)}\")"
      ],
      "execution_count": 182,
      "outputs": [
        {
          "output_type": "stream",
          "text": [
            "SVC:\n",
            "               precision    recall  f1-score   support\n",
            "\n",
            "           0       0.73      0.58      0.65       721\n",
            "           1       0.65      0.79      0.71       721\n",
            "\n",
            "    accuracy                           0.69      1442\n",
            "   macro avg       0.69      0.69      0.68      1442\n",
            "weighted avg       0.69      0.69      0.68      1442\n",
            "\n",
            "RandomForestClassifier:\n",
            "               precision    recall  f1-score   support\n",
            "\n",
            "           0       0.98      0.95      0.97       721\n",
            "           1       0.95      0.98      0.97       721\n",
            "\n",
            "    accuracy                           0.97      1442\n",
            "   macro avg       0.97      0.97      0.97      1442\n",
            "weighted avg       0.97      0.97      0.97      1442\n",
            "\n"
          ],
          "name": "stdout"
        }
      ]
    },
    {
      "cell_type": "code",
      "metadata": {
        "colab": {
          "base_uri": "https://localhost:8080/"
        },
        "id": "nbe4QCRzhZ0y",
        "outputId": "8e7351fc-2c3e-45f7-d478-659be8c0ed0a"
      },
      "source": [
        "# Kroswalidacja na danych standaryzowanych MinMaxScalerem OVERSAMPLINGOWANYCH - wyniki dla SVC, RandomForest, \r\n",
        "for clf in (clf_svc_upsampled, clf_forest_upsampled):\r\n",
        "  predicted, true = [], []\r\n",
        "  for train_index, test_index in StratifiedKFold(n_splits=10, shuffle=True, random_state=42).split(X_minmax_standarized_upsampled, y_upsampled):\r\n",
        "    X_train, X_test = X_minmax_standarized_upsampled[train_index], X_minmax_standarized_upsampled[test_index]\r\n",
        "    y_train, y_test = y_upsampled.iloc[train_index], y_upsampled.iloc[test_index]\r\n",
        "    clf.fit(X=X_train, y=y_train)\r\n",
        "    predicted.extend(clf.predict(X_test))\r\n",
        "    true.extend(y_test)\r\n",
        "  print(f\"{clf.__class__.__name__}:\\n {classification_report(true, predicted)}\")"
      ],
      "execution_count": 183,
      "outputs": [
        {
          "output_type": "stream",
          "text": [
            "SVC:\n",
            "               precision    recall  f1-score   support\n",
            "\n",
            "           0       0.65      0.73      0.69       721\n",
            "           1       0.69      0.60      0.64       721\n",
            "\n",
            "    accuracy                           0.67      1442\n",
            "   macro avg       0.67      0.67      0.66      1442\n",
            "weighted avg       0.67      0.67      0.66      1442\n",
            "\n",
            "RandomForestClassifier:\n",
            "               precision    recall  f1-score   support\n",
            "\n",
            "           0       0.98      0.96      0.97       721\n",
            "           1       0.96      0.98      0.97       721\n",
            "\n",
            "    accuracy                           0.97      1442\n",
            "   macro avg       0.97      0.97      0.97      1442\n",
            "weighted avg       0.97      0.97      0.97      1442\n",
            "\n"
          ],
          "name": "stdout"
        }
      ]
    },
    {
      "cell_type": "code",
      "metadata": {
        "colab": {
          "base_uri": "https://localhost:8080/"
        },
        "id": "oqW0-NECigHK",
        "outputId": "16816d6e-540d-40b7-ca05-bb719c5526db"
      },
      "source": [
        "# Kroswalidacja na danych zdyskretyzowanych OVERSAMPLINGOWANYCH - wyniki dla SVC, RandomForest, \r\n",
        "for clf in (clf_svc_upsampled, clf_forest_upsampled):\r\n",
        "  predicted, true = [], []\r\n",
        "  for train_index, test_index in StratifiedKFold(n_splits=10, shuffle=True, random_state=42).split(X_bins_upsampled, y_upsampled):\r\n",
        "    X_train, X_test = X_bins_upsampled[train_index], X_bins_upsampled[test_index]\r\n",
        "    y_train, y_test = y_upsampled.iloc[train_index], y_upsampled.iloc[test_index]\r\n",
        "    clf.fit(X=X_train, y=y_train)\r\n",
        "    predicted.extend(clf.predict(X_test))\r\n",
        "    true.extend(y_test)\r\n",
        "  print(f\"{clf.__class__.__name__}:\\n {classification_report(true, predicted)}\")"
      ],
      "execution_count": 184,
      "outputs": [
        {
          "output_type": "stream",
          "text": [
            "SVC:\n",
            "               precision    recall  f1-score   support\n",
            "\n",
            "           0       0.67      0.74      0.71       721\n",
            "           1       0.71      0.64      0.68       721\n",
            "\n",
            "    accuracy                           0.69      1442\n",
            "   macro avg       0.69      0.69      0.69      1442\n",
            "weighted avg       0.69      0.69      0.69      1442\n",
            "\n",
            "RandomForestClassifier:\n",
            "               precision    recall  f1-score   support\n",
            "\n",
            "           0       0.97      0.94      0.95       721\n",
            "           1       0.94      0.97      0.95       721\n",
            "\n",
            "    accuracy                           0.95      1442\n",
            "   macro avg       0.95      0.95      0.95      1442\n",
            "weighted avg       0.95      0.95      0.95      1442\n",
            "\n"
          ],
          "name": "stdout"
        }
      ]
    },
    {
      "cell_type": "code",
      "metadata": {
        "colab": {
          "base_uri": "https://localhost:8080/"
        },
        "id": "MizRaE4fixv1",
        "outputId": "be6b6245-5026-4910-bb23-163e3e015004"
      },
      "source": [
        "# Kroswalidacja na danych znormalizowanych UNDERSAMPLINGOWANYCH - wyniki dla Voting, SVC \r\n",
        "for clf in (clf_voting_undersampled, clf_svc_undersampled):\r\n",
        "  predicted, true = [], []\r\n",
        "  for train_index, test_index in StratifiedKFold(n_splits=10, shuffle=True, random_state=42).split(X_normalized_undersampled, y_undersampled):\r\n",
        "    X_train, X_test = X_normalized_undersampled[train_index], X_normalized_undersampled[test_index]\r\n",
        "    y_train, y_test = y_undersampled.iloc[train_index], y_undersampled.iloc[test_index]\r\n",
        "    clf.fit(X=X_train, y=y_train)\r\n",
        "    predicted.extend(clf.predict(X_test))\r\n",
        "    true.extend(y_test)\r\n",
        "  print(f\"{clf.__class__.__name__}:\\n {classification_report(true, predicted)}\")"
      ],
      "execution_count": 185,
      "outputs": [
        {
          "output_type": "stream",
          "text": [
            "VotingClassifier:\n",
            "               precision    recall  f1-score   support\n",
            "\n",
            "           0       0.61      0.87      0.71       154\n",
            "           1       0.77      0.44      0.56       154\n",
            "\n",
            "    accuracy                           0.65       308\n",
            "   macro avg       0.69      0.65      0.64       308\n",
            "weighted avg       0.69      0.65      0.64       308\n",
            "\n",
            "SVC:\n",
            "               precision    recall  f1-score   support\n",
            "\n",
            "           0       0.51      0.44      0.47       154\n",
            "           1       0.51      0.58      0.54       154\n",
            "\n",
            "    accuracy                           0.51       308\n",
            "   macro avg       0.51      0.51      0.51       308\n",
            "weighted avg       0.51      0.51      0.51       308\n",
            "\n"
          ],
          "name": "stdout"
        }
      ]
    },
    {
      "cell_type": "code",
      "metadata": {
        "colab": {
          "base_uri": "https://localhost:8080/"
        },
        "id": "GDbTSNvDjSJE",
        "outputId": "498fff9b-707a-45aa-c9cd-0055127f595d"
      },
      "source": [
        "# Kroswalidacja na danych standaryzowanych UNDERSAMPLINGOWANYCH - wyniki dla Voting, SVC \r\n",
        "for clf in (clf_voting_undersampled, clf_svc_undersampled):\r\n",
        "  predicted, true = [], []\r\n",
        "  for train_index, test_index in StratifiedKFold(n_splits=10, shuffle=True, random_state=42).split(X_standarized_undersampled, y_undersampled):\r\n",
        "    X_train, X_test = X_standarized_undersampled[train_index], X_standarized_undersampled[test_index]\r\n",
        "    y_train, y_test = y_undersampled.iloc[train_index], y_undersampled.iloc[test_index]\r\n",
        "    clf.fit(X=X_train, y=y_train)\r\n",
        "    predicted.extend(clf.predict(X_test))\r\n",
        "    true.extend(y_test)\r\n",
        "  print(f\"{clf.__class__.__name__}:\\n {classification_report(true, predicted)}\")"
      ],
      "execution_count": 186,
      "outputs": [
        {
          "output_type": "stream",
          "text": [
            "VotingClassifier:\n",
            "               precision    recall  f1-score   support\n",
            "\n",
            "           0       0.59      0.80      0.68       154\n",
            "           1       0.69      0.45      0.55       154\n",
            "\n",
            "    accuracy                           0.63       308\n",
            "   macro avg       0.64      0.63      0.62       308\n",
            "weighted avg       0.64      0.63      0.62       308\n",
            "\n",
            "SVC:\n",
            "               precision    recall  f1-score   support\n",
            "\n",
            "           0       0.53      0.49      0.51       154\n",
            "           1       0.52      0.56      0.54       154\n",
            "\n",
            "    accuracy                           0.53       308\n",
            "   macro avg       0.53      0.53      0.53       308\n",
            "weighted avg       0.53      0.53      0.53       308\n",
            "\n"
          ],
          "name": "stdout"
        }
      ]
    },
    {
      "cell_type": "code",
      "metadata": {
        "colab": {
          "base_uri": "https://localhost:8080/"
        },
        "id": "D0lvvBjrjavO",
        "outputId": "437931b7-da86-466c-fafc-27ce6011f079"
      },
      "source": [
        "# Kroswalidacja na danych standaryzowanych MinMaxScalerem UNDERSAMPLINGOWANYCH - wyniki dla Voting, SVC \r\n",
        "for clf in (clf_voting_undersampled, clf_svc_undersampled):\r\n",
        "  predicted, true = [], []\r\n",
        "  for train_index, test_index in StratifiedKFold(n_splits=10, shuffle=True, random_state=42).split(X_minmax_standarized_undersampled, y_undersampled):\r\n",
        "    X_train, X_test = X_minmax_standarized_undersampled[train_index], X_minmax_standarized_undersampled[test_index]\r\n",
        "    y_train, y_test = y_undersampled.iloc[train_index], y_undersampled.iloc[test_index]\r\n",
        "    clf.fit(X=X_train, y=y_train)\r\n",
        "    predicted.extend(clf.predict(X_test))\r\n",
        "    true.extend(y_test)\r\n",
        "  print(f\"{clf.__class__.__name__}:\\n {classification_report(true, predicted)}\")"
      ],
      "execution_count": 187,
      "outputs": [
        {
          "output_type": "stream",
          "text": [
            "VotingClassifier:\n",
            "               precision    recall  f1-score   support\n",
            "\n",
            "           0       0.59      0.77      0.67       154\n",
            "           1       0.67      0.45      0.54       154\n",
            "\n",
            "    accuracy                           0.61       308\n",
            "   macro avg       0.63      0.61      0.60       308\n",
            "weighted avg       0.63      0.61      0.60       308\n",
            "\n",
            "SVC:\n",
            "               precision    recall  f1-score   support\n",
            "\n",
            "           0       0.52      0.55      0.54       154\n",
            "           1       0.52      0.49      0.51       154\n",
            "\n",
            "    accuracy                           0.52       308\n",
            "   macro avg       0.52      0.52      0.52       308\n",
            "weighted avg       0.52      0.52      0.52       308\n",
            "\n"
          ],
          "name": "stdout"
        }
      ]
    },
    {
      "cell_type": "markdown",
      "metadata": {
        "id": "DQ0ieit9W70W"
      },
      "source": [
        "Najlepszy rezultat na oryginalnym zbiorze daje AdaBoostClassifier na danych przetransformowanych MinMaxScaler'em. SVC jest bardzo niestabliny - albo się overfituje albo totalnie gubi.\r\n",
        "\r\n",
        "\r\n"
      ]
    },
    {
      "cell_type": "markdown",
      "metadata": {
        "id": "eKEZXCAqmOwu"
      },
      "source": [
        "Najlepszy rezultat na OVERSAMPLINGOWANYM zbiorze daje RandomForest na danych przetransformowanych MinMaxScaler'em."
      ]
    },
    {
      "cell_type": "markdown",
      "metadata": {
        "id": "YUpn5M0Gm3xK"
      },
      "source": [
        "Najlepszy rezultat na UNDERSAMPLINGOWANYM zbiorze daje Voting na danych znormalizowanych."
      ]
    },
    {
      "cell_type": "code",
      "metadata": {
        "colab": {
          "base_uri": "https://localhost:8080/"
        },
        "id": "7PZDgTm7hspi",
        "outputId": "d4c30f88-72d7-4da3-a253-53f1c8f286a8"
      },
      "source": [
        "# Sprawdzenie najlepszego modelu na różnych wariantach kroswalidacji na danych standaryzowanych MinMax dla AdaBoost\r\n",
        "n_splits = [3, 5, 10, 20, 30, 50, 70, 100, 130]\r\n",
        "f1_scores = []\r\n",
        "for n_split in n_splits:\r\n",
        "  print(f'StratifiedKFold n_splits= {n_split}')\r\n",
        "  predicted, true = [], []\r\n",
        "  for train_index, test_index in StratifiedKFold(n_splits=n_split, shuffle=True, random_state=42).split(X_minmax_standarized, y):\r\n",
        "    X_train, X_test = X_minmax_standarized[train_index], X_minmax_standarized[test_index]\r\n",
        "    y_train, y_test = y.iloc[train_index], y.iloc[test_index]\r\n",
        "    clf_boosting.fit(X=X_train, y=y_train)  #AdaBoostClassifier\r\n",
        "    predicted.extend(clf_boosting.predict(X_test))\r\n",
        "    true.extend(y_test)\r\n",
        "  print(f\"Average F1 score:{f1_score(true, predicted, average='micro')}\")\r\n",
        "  f1_scores.append(f1_score(true, predicted, average='micro'))"
      ],
      "execution_count": 193,
      "outputs": [
        {
          "output_type": "stream",
          "text": [
            "StratifiedKFold n_splits= 3\n",
            "Average F1 score:0.7942857142857144\n",
            "StratifiedKFold n_splits= 5\n",
            "Average F1 score:0.8000000000000002\n",
            "StratifiedKFold n_splits= 10\n",
            "Average F1 score:0.7931428571428571\n",
            "StratifiedKFold n_splits= 20\n",
            "Average F1 score:0.792\n",
            "StratifiedKFold n_splits= 30\n",
            "Average F1 score:0.7897142857142858\n",
            "StratifiedKFold n_splits= 50\n",
            "Average F1 score:0.8125714285714286\n",
            "StratifiedKFold n_splits= 70\n",
            "Average F1 score:0.8034285714285714\n",
            "StratifiedKFold n_splits= 100\n",
            "Average F1 score:0.8000000000000002\n",
            "StratifiedKFold n_splits= 130\n",
            "Average F1 score:0.808\n"
          ],
          "name": "stdout"
        }
      ]
    },
    {
      "cell_type": "code",
      "metadata": {
        "colab": {
          "base_uri": "https://localhost:8080/",
          "height": 606
        },
        "id": "J0wyHqCdohKM",
        "outputId": "6fe2adf1-22b4-416e-991f-9bed3a206091"
      },
      "source": [
        "plt.figure(figsize=(20, 10))\r\n",
        "plt.plot(n_splits, f1_scores, label=\"F1_scores vs n_splits\")\r\n",
        "plt.xlabel(\"n_splitse\")\r\n",
        "# plt.xticks(range(1, 11, 1))\r\n",
        "plt.ylabel(\"F1_scores\")\r\n",
        "plt.legend(loc='best')\r\n",
        "plt.show()"
      ],
      "execution_count": 194,
      "outputs": [
        {
          "output_type": "display_data",
          "data": {
            "image/png": "[encoded data removed]",
            "text/plain": [
              "<Figure size 1440x720 with 1 Axes>"
            ]
          },
          "metadata": {
            "tags": [],
            "needs_background": "light"
          }
        }
      ]
    },
    {
      "cell_type": "code",
      "metadata": {
        "colab": {
          "base_uri": "https://localhost:8080/",
          "height": 467
        },
        "id": "scWR5SfjucJE",
        "outputId": "e410c1dc-c979-4ecf-faec-01a067d1f11f"
      },
      "source": [
        "for train_index, test_index in StratifiedKFold(n_splits=50, shuffle=True, random_state=42).split(X_minmax_standarized, y):\r\n",
        "    X_train, X_test = X_minmax_standarized[train_index], X_minmax_standarized[test_index]\r\n",
        "    y_train, y_test = y.iloc[train_index], y.iloc[test_index]\r\n",
        "    clf_boosting.fit(X=X_train, y=y_train)  #AdaBoostClassifier\r\n",
        "    predicted.extend(clf_boosting.predict(X_test))\r\n",
        "    true.extend(y_test)\r\n",
        "print(f'{clf_boosting.__class__.__name__}\\n{classification_report(true, predicted)}\\nAverage F1 score: {f1_score(true, predicted, average=\"micro\")}')\r\n",
        "cm = confusion_matrix(true, predicted)\r\n",
        "sns.heatmap(cm, annot=True, fmt='d')\r\n",
        "plt.show()"
      ],
      "execution_count": 199,
      "outputs": [
        {
          "output_type": "stream",
          "text": [
            "AdaBoostClassifier\n",
            "              precision    recall  f1-score   support\n",
            "\n",
            "           0       0.81      0.85      0.83      1442\n",
            "           1       0.73      0.67      0.70       875\n",
            "\n",
            "    accuracy                           0.78      2317\n",
            "   macro avg       0.77      0.76      0.76      2317\n",
            "weighted avg       0.78      0.78      0.78      2317\n",
            "\n",
            "Average F1 score: 0.7829089339663357\n"
          ],
          "name": "stdout"
        },
        {
          "output_type": "display_data",
          "data": {
            "image/png": "[encoded data removed]",
            "text/plain": [
              "<Figure size 432x288 with 2 Axes>"
            ]
          },
          "metadata": {
            "tags": [],
            "needs_background": "light"
          }
        }
      ]
    },
    {
      "cell_type": "code",
      "metadata": {
        "colab": {
          "base_uri": "https://localhost:8080/"
        },
        "id": "WcU1DofJ7Xt7",
        "outputId": "e2f724b0-2e06-40a8-9dbf-73c9f31f5f4f"
      },
      "source": [
        "# Sprawdzenie najlepszego modelu na różnych wariantach kroswalidacji na danych standaryzowanych MinMax OVERSAMPLOWANYCH dla RandomForest\r\n",
        "n_splits = [3, 5, 10, 20, 30, 50, 70, 100, 130]\r\n",
        "f1_scores = []\r\n",
        "for n_split in n_splits:\r\n",
        "  print(f'StratifiedKFold n_splits= {n_split}')\r\n",
        "  predicted, true = [], []\r\n",
        "  for train_index, test_index in StratifiedKFold(n_splits=n_split, shuffle=True, random_state=42).split(X_minmax_standarized_upsampled, y_upsampled):\r\n",
        "    X_train, X_test = X_minmax_standarized_upsampled[train_index], X_minmax_standarized_upsampled[test_index]\r\n",
        "    y_train, y_test = y_upsampled.iloc[train_index], y_upsampled.iloc[test_index]\r\n",
        "    clf_forest_upsampled.fit(X=X_train, y=y_train)  # RandomForestClassifier\r\n",
        "    predicted.extend(clf_forest_upsampled.predict(X_test))\r\n",
        "    true.extend(y_test)\r\n",
        "  print(f\"Average F1 score:{f1_score(true, predicted, average='micro')}\")\r\n",
        "  f1_scores.append(f1_score(true, predicted, average='micro'))"
      ],
      "execution_count": 204,
      "outputs": [
        {
          "output_type": "stream",
          "text": [
            "StratifiedKFold n_splits= 3\n",
            "Average F1 score:0.9542302357836339\n",
            "StratifiedKFold n_splits= 5\n",
            "Average F1 score:0.9542302357836339\n",
            "StratifiedKFold n_splits= 10\n",
            "Average F1 score:0.9653259361997226\n",
            "StratifiedKFold n_splits= 20\n",
            "Average F1 score:0.9715672676837726\n",
            "StratifiedKFold n_splits= 30\n",
            "Average F1 score:0.9680998613037448\n",
            "StratifiedKFold n_splits= 50\n",
            "Average F1 score:0.9715672676837726\n",
            "StratifiedKFold n_splits= 70\n",
            "Average F1 score:0.9653259361997226\n",
            "StratifiedKFold n_splits= 100\n",
            "Average F1 score:0.9687933425797504\n",
            "StratifiedKFold n_splits= 130\n",
            "Average F1 score:0.9715672676837726\n"
          ],
          "name": "stdout"
        }
      ]
    },
    {
      "cell_type": "code",
      "metadata": {
        "colab": {
          "base_uri": "https://localhost:8080/",
          "height": 469
        },
        "id": "ttLstgYH7zx-",
        "outputId": "ef125952-c2b3-4c47-9107-76487318961c"
      },
      "source": [
        "for train_index, test_index in StratifiedKFold(n_splits=20, shuffle=True, random_state=42).split(X_minmax_standarized_upsampled, y_upsampled):\r\n",
        "  X_train, X_test = X_minmax_standarized_upsampled[train_index], X_minmax_standarized_upsampled[test_index]\r\n",
        "  y_train, y_test = y_upsampled.iloc[train_index], y_upsampled.iloc[test_index]\r\n",
        "  clf_forest_upsampled.fit(X=X_train, y=y_train)  # RandomForestClassifier\r\n",
        "  predicted.extend(clf_forest_upsampled.predict(X_test))\r\n",
        "  true.extend(y_test)\r\n",
        "print(f'{clf_forest_upsampled.__class__.__name__}\\n{classification_report(true, predicted)}\\nAverage F1 score: {f1_score(true, predicted, average=\"micro\")}')\r\n",
        "cm = confusion_matrix(true, predicted)\r\n",
        "sns.heatmap(cm, annot=True, fmt='d')\r\n",
        "plt.show()"
      ],
      "execution_count": 205,
      "outputs": [
        {
          "output_type": "stream",
          "text": [
            "RandomForestClassifier\n",
            "              precision    recall  f1-score   support\n",
            "\n",
            "           0       0.98      0.96      0.97      1442\n",
            "           1       0.96      0.98      0.97      1442\n",
            "\n",
            "    accuracy                           0.97      2884\n",
            "   macro avg       0.97      0.97      0.97      2884\n",
            "weighted avg       0.97      0.97      0.97      2884\n",
            "\n",
            "Average F1 score: 0.9698335644937587\n"
          ],
          "name": "stdout"
        },
        {
          "output_type": "display_data",
          "data": {
            "image/png": "[encoded data removed]",
            "text/plain": [
              "<Figure size 432x288 with 2 Axes>"
            ]
          },
          "metadata": {
            "tags": [],
            "needs_background": "light"
          }
        }
      ]
    },
    {
      "cell_type": "code",
      "metadata": {
        "colab": {
          "base_uri": "https://localhost:8080/"
        },
        "id": "bnodHcdS-N_V",
        "outputId": "5e25089f-d84a-4453-9440-b0e08608c328"
      },
      "source": [
        "# Sprawdzenie najlepszego modelu na różnych wariantach kroswalidacji na danych normalizowanych UNDERAMPLOWANYCH dla Voting\r\n",
        "n_splits = [3, 5, 10, 20, 30, 50, 70, 100, 130]\r\n",
        "f1_scores = []\r\n",
        "for n_split in n_splits:\r\n",
        "  print(f'StratifiedKFold n_splits= {n_split}')\r\n",
        "  predicted, true = [], []\r\n",
        "  for train_index, test_index in StratifiedKFold(n_splits=n_split, shuffle=True, random_state=42).split(X_normalized_undersampled, y_undersampled):\r\n",
        "    X_train, X_test = X_normalized_undersampled[train_index], X_normalized_undersampled[test_index]\r\n",
        "    y_train, y_test = y_undersampled.iloc[train_index], y_undersampled.iloc[test_index]\r\n",
        "    clf_voting_undersampled.fit(X=X_train, y=y_train)  #VotingClassifier\r\n",
        "    predicted.extend(clf_voting_undersampled.predict(X_test))\r\n",
        "    true.extend(y_test)\r\n",
        "  print(f\"Average F1 score:{f1_score(true, predicted, average='micro')}\")\r\n",
        "  f1_scores.append(f1_score(true, predicted, average='micro'))"
      ],
      "execution_count": 206,
      "outputs": [
        {
          "output_type": "stream",
          "text": [
            "StratifiedKFold n_splits= 3\n",
            "Average F1 score:0.6266233766233766\n",
            "StratifiedKFold n_splits= 5\n",
            "Average F1 score:0.6233766233766234\n",
            "StratifiedKFold n_splits= 10\n",
            "Average F1 score:0.6493506493506493\n",
            "StratifiedKFold n_splits= 20\n",
            "Average F1 score:0.6493506493506493\n",
            "StratifiedKFold n_splits= 30\n",
            "Average F1 score:0.6233766233766234\n",
            "StratifiedKFold n_splits= 50\n",
            "Average F1 score:0.6266233766233766\n",
            "StratifiedKFold n_splits= 70\n",
            "Average F1 score:0.6525974025974026\n",
            "StratifiedKFold n_splits= 100\n",
            "Average F1 score:0.5714285714285714\n",
            "StratifiedKFold n_splits= 130\n",
            "Average F1 score:0.6006493506493507\n"
          ],
          "name": "stdout"
        }
      ]
    },
    {
      "cell_type": "code",
      "metadata": {
        "colab": {
          "base_uri": "https://localhost:8080/",
          "height": 467
        },
        "id": "UqnPNOAg-2Tz",
        "outputId": "c4813ac8-1eab-4318-c8b1-4313ee88ebd8"
      },
      "source": [
        "for train_index, test_index in StratifiedKFold(n_splits=70, shuffle=True, random_state=42).split(X_normalized_undersampled, y_undersampled):\r\n",
        "  X_train, X_test = X_normalized_undersampled[train_index], X_normalized_undersampled[test_index]\r\n",
        "  y_train, y_test = y_undersampled.iloc[train_index], y_undersampled.iloc[test_index]\r\n",
        "  clf_voting_undersampled.fit(X=X_train, y=y_train)  # VotingClassifier\r\n",
        "  predicted.extend(clf_voting_undersampled.predict(X_test))\r\n",
        "  true.extend(y_test)\r\n",
        "print(f'{clf_voting_undersampled.__class__.__name__}\\n{classification_report(true, predicted)}\\nAverage F1 score: {f1_score(true, predicted, average=\"micro\")}')\r\n",
        "cm = confusion_matrix(true, predicted)\r\n",
        "sns.heatmap(cm, annot=True, fmt='d')\r\n",
        "plt.show()"
      ],
      "execution_count": 207,
      "outputs": [
        {
          "output_type": "stream",
          "text": [
            "VotingClassifier\n",
            "              precision    recall  f1-score   support\n",
            "\n",
            "           0       0.59      0.81      0.68       308\n",
            "           1       0.69      0.43      0.53       308\n",
            "\n",
            "    accuracy                           0.62       616\n",
            "   macro avg       0.64      0.62      0.61       616\n",
            "weighted avg       0.64      0.62      0.61       616\n",
            "\n",
            "Average F1 score: 0.6201298701298701\n"
          ],
          "name": "stdout"
        },
        {
          "output_type": "display_data",
          "data": {
            "image/png": "[encoded data removed]",
            "text/plain": [
              "<Figure size 432x288 with 2 Axes>"
            ]
          },
          "metadata": {
            "tags": [],
            "needs_background": "light"
          }
        }
      ]
    },
    {
      "cell_type": "markdown",
      "metadata": {
        "id": "5XWHC4pft_Qi"
      },
      "source": [
        "Najlepszy wynik uzyskujemy dla korswalidacji podzielonej na n_splits=50 przy AdaBoostClassifier na danych standaryzowanych MinMaxScaler'em. "
      ]
    },
    {
      "cell_type": "markdown",
      "metadata": {
        "id": "VuS1H--1wZC6"
      },
      "source": [
        "#Ostateczna predykcja na zbiorze testowym"
      ]
    },
    {
      "cell_type": "code",
      "metadata": {
        "colab": {
          "base_uri": "https://localhost:8080/",
          "height": 313
        },
        "id": "XFvFPr3fwBJq",
        "outputId": "391286bf-f9b5-4c3f-8a3a-401ca195c160"
      },
      "source": [
        "data_final_test.tail()"
      ],
      "execution_count": 146,
      "outputs": [
        {
          "output_type": "execute_result",
          "data": {
            "text/html": [
              "<div>\n",
              "<style scoped>\n",
              "    .dataframe tbody tr th:only-of-type {\n",
              "        vertical-align: middle;\n",
              "    }\n",
              "\n",
              "    .dataframe tbody tr th {\n",
              "        vertical-align: top;\n",
              "    }\n",
              "\n",
              "    .dataframe thead th {\n",
              "        text-align: right;\n",
              "    }\n",
              "</style>\n",
              "<table border=\"1\" class=\"dataframe\">\n",
              "  <thead>\n",
              "    <tr style=\"text-align: right;\">\n",
              "      <th></th>\n",
              "      <th>EmployeeNumber</th>\n",
              "      <th>Age</th>\n",
              "      <th>BusinessTravel</th>\n",
              "      <th>DailyRate</th>\n",
              "      <th>Department</th>\n",
              "      <th>DistanceFromHome</th>\n",
              "      <th>Education</th>\n",
              "      <th>EducationField</th>\n",
              "      <th>EnvironmentSatisfaction</th>\n",
              "      <th>Gender</th>\n",
              "      <th>HourlyRate</th>\n",
              "      <th>JobInvolvement</th>\n",
              "      <th>JobLevel</th>\n",
              "      <th>JobRole</th>\n",
              "      <th>JobSatisfaction</th>\n",
              "      <th>MaritalStatus</th>\n",
              "      <th>MonthlyIncome</th>\n",
              "      <th>MonthlyRate</th>\n",
              "      <th>NumCompaniesWorked</th>\n",
              "      <th>OverTime</th>\n",
              "      <th>PercentSalaryHike</th>\n",
              "      <th>PerformanceRating</th>\n",
              "      <th>RelationshipSatisfaction</th>\n",
              "      <th>StockOptionLevel</th>\n",
              "      <th>TotalWorkingYears</th>\n",
              "      <th>TrainingTimesLastYear</th>\n",
              "      <th>WorkLifeBalance</th>\n",
              "      <th>YearsAtCompany</th>\n",
              "      <th>YearsInCurrentRole</th>\n",
              "      <th>YearsSinceLastPromotion</th>\n",
              "      <th>YearsWithCurrManager</th>\n",
              "      <th>Attrition</th>\n",
              "    </tr>\n",
              "  </thead>\n",
              "  <tbody>\n",
              "    <tr>\n",
              "      <th>1465</th>\n",
              "      <td>100142</td>\n",
              "      <td>35.0</td>\n",
              "      <td>Non-Travel</td>\n",
              "      <td>208.0</td>\n",
              "      <td>Research &amp; Development</td>\n",
              "      <td>8.0</td>\n",
              "      <td>4.0</td>\n",
              "      <td>Life Sciences</td>\n",
              "      <td>3.0</td>\n",
              "      <td>Female</td>\n",
              "      <td>52.0</td>\n",
              "      <td>3.0</td>\n",
              "      <td>2.0</td>\n",
              "      <td>Healthcare Representative</td>\n",
              "      <td>3.0</td>\n",
              "      <td>Married</td>\n",
              "      <td>4148.0</td>\n",
              "      <td>12250.0</td>\n",
              "      <td>1.0</td>\n",
              "      <td>No</td>\n",
              "      <td>12.0</td>\n",
              "      <td>3.0</td>\n",
              "      <td>4.0</td>\n",
              "      <td>1.0</td>\n",
              "      <td>15.0</td>\n",
              "      <td>5.0</td>\n",
              "      <td>3.0</td>\n",
              "      <td>14.0</td>\n",
              "      <td>11.0</td>\n",
              "      <td>2.0</td>\n",
              "      <td>9.0</td>\n",
              "      <td>NaN</td>\n",
              "    </tr>\n",
              "    <tr>\n",
              "      <th>1466</th>\n",
              "      <td>100143</td>\n",
              "      <td>41.0</td>\n",
              "      <td>Travel_Rarely</td>\n",
              "      <td>582.0</td>\n",
              "      <td>Research &amp; Development</td>\n",
              "      <td>28.0</td>\n",
              "      <td>4.0</td>\n",
              "      <td>Life Sciences</td>\n",
              "      <td>1.0</td>\n",
              "      <td>Female</td>\n",
              "      <td>60.0</td>\n",
              "      <td>2.0</td>\n",
              "      <td>4.0</td>\n",
              "      <td>Manufacturing Director</td>\n",
              "      <td>2.0</td>\n",
              "      <td>Married</td>\n",
              "      <td>13570.0</td>\n",
              "      <td>5640.0</td>\n",
              "      <td>0.0</td>\n",
              "      <td>No</td>\n",
              "      <td>23.0</td>\n",
              "      <td>4.0</td>\n",
              "      <td>3.0</td>\n",
              "      <td>1.0</td>\n",
              "      <td>21.0</td>\n",
              "      <td>3.0</td>\n",
              "      <td>3.0</td>\n",
              "      <td>20.0</td>\n",
              "      <td>7.0</td>\n",
              "      <td>0.0</td>\n",
              "      <td>10.0</td>\n",
              "      <td>NaN</td>\n",
              "    </tr>\n",
              "    <tr>\n",
              "      <th>1467</th>\n",
              "      <td>100144</td>\n",
              "      <td>42.0</td>\n",
              "      <td>Travel_Rarely</td>\n",
              "      <td>1396.0</td>\n",
              "      <td>Research &amp; Development</td>\n",
              "      <td>6.0</td>\n",
              "      <td>3.0</td>\n",
              "      <td>Medical</td>\n",
              "      <td>3.0</td>\n",
              "      <td>Male</td>\n",
              "      <td>83.0</td>\n",
              "      <td>3.0</td>\n",
              "      <td>3.0</td>\n",
              "      <td>Research Director</td>\n",
              "      <td>1.0</td>\n",
              "      <td>Married</td>\n",
              "      <td>13348.0</td>\n",
              "      <td>14842.0</td>\n",
              "      <td>9.0</td>\n",
              "      <td>No</td>\n",
              "      <td>13.0</td>\n",
              "      <td>3.0</td>\n",
              "      <td>2.0</td>\n",
              "      <td>1.0</td>\n",
              "      <td>18.0</td>\n",
              "      <td>3.0</td>\n",
              "      <td>4.0</td>\n",
              "      <td>13.0</td>\n",
              "      <td>7.0</td>\n",
              "      <td>5.0</td>\n",
              "      <td>7.0</td>\n",
              "      <td>NaN</td>\n",
              "    </tr>\n",
              "    <tr>\n",
              "      <th>1468</th>\n",
              "      <td>100145</td>\n",
              "      <td>44.0</td>\n",
              "      <td>Travel_Rarely</td>\n",
              "      <td>621.0</td>\n",
              "      <td>Research &amp; Development</td>\n",
              "      <td>15.0</td>\n",
              "      <td>3.0</td>\n",
              "      <td>Medical</td>\n",
              "      <td>1.0</td>\n",
              "      <td>Female</td>\n",
              "      <td>73.0</td>\n",
              "      <td>3.0</td>\n",
              "      <td>3.0</td>\n",
              "      <td>Healthcare Representative</td>\n",
              "      <td>4.0</td>\n",
              "      <td>Married</td>\n",
              "      <td>7978.0</td>\n",
              "      <td>14075.0</td>\n",
              "      <td>1.0</td>\n",
              "      <td>No</td>\n",
              "      <td>11.0</td>\n",
              "      <td>3.0</td>\n",
              "      <td>4.0</td>\n",
              "      <td>1.0</td>\n",
              "      <td>10.0</td>\n",
              "      <td>2.0</td>\n",
              "      <td>3.0</td>\n",
              "      <td>10.0</td>\n",
              "      <td>7.0</td>\n",
              "      <td>0.0</td>\n",
              "      <td>5.0</td>\n",
              "      <td>NaN</td>\n",
              "    </tr>\n",
              "    <tr>\n",
              "      <th>1469</th>\n",
              "      <td>100146</td>\n",
              "      <td>44.0</td>\n",
              "      <td>Non-Travel</td>\n",
              "      <td>381.0</td>\n",
              "      <td>Research &amp; Development</td>\n",
              "      <td>24.0</td>\n",
              "      <td>3.0</td>\n",
              "      <td>Medical</td>\n",
              "      <td>1.0</td>\n",
              "      <td>Male</td>\n",
              "      <td>49.0</td>\n",
              "      <td>1.0</td>\n",
              "      <td>1.0</td>\n",
              "      <td>Laboratory Technician</td>\n",
              "      <td>3.0</td>\n",
              "      <td>Single</td>\n",
              "      <td>3708.0</td>\n",
              "      <td>2104.0</td>\n",
              "      <td>2.0</td>\n",
              "      <td>No</td>\n",
              "      <td>14.0</td>\n",
              "      <td>3.0</td>\n",
              "      <td>3.0</td>\n",
              "      <td>0.0</td>\n",
              "      <td>9.0</td>\n",
              "      <td>5.0</td>\n",
              "      <td>3.0</td>\n",
              "      <td>5.0</td>\n",
              "      <td>2.0</td>\n",
              "      <td>1.0</td>\n",
              "      <td>4.0</td>\n",
              "      <td>NaN</td>\n",
              "    </tr>\n",
              "  </tbody>\n",
              "</table>\n",
              "</div>"
            ],
            "text/plain": [
              "      EmployeeNumber   Age  ... YearsWithCurrManager  Attrition\n",
              "1465          100142  35.0  ...                  9.0        NaN\n",
              "1466          100143  41.0  ...                 10.0        NaN\n",
              "1467          100144  42.0  ...                  7.0        NaN\n",
              "1468          100145  44.0  ...                  5.0        NaN\n",
              "1469          100146  44.0  ...                  4.0        NaN\n",
              "\n",
              "[5 rows x 32 columns]"
            ]
          },
          "metadata": {
            "tags": []
          },
          "execution_count": 146
        }
      ]
    },
    {
      "cell_type": "code",
      "metadata": {
        "id": "Mn57AK1LwrtV"
      },
      "source": [
        "# Przygotowanie danych testowych\r\n",
        "\r\n",
        "# Zamiana w etykietowwanych featurach etykiet klasyfikujących na one hot vector\r\n",
        "data_final_test_dummies = pd.get_dummies(data_final_test, columns=['BusinessTravel', 'Department', 'EducationField', 'Gender', 'JobRole', 'MaritalStatus', 'OverTime'])"
      ],
      "execution_count": 208,
      "outputs": []
    },
    {
      "cell_type": "code",
      "metadata": {
        "id": "mCAP6-TlCAbi"
      },
      "source": [
        "# Pozbycie się kolumny EmployeeNumber\r\n",
        "data_final_test_dummies_without_empnum = data_final_test_dummies.drop(labels='EmployeeNumber', axis=1)"
      ],
      "execution_count": 209,
      "outputs": []
    },
    {
      "cell_type": "code",
      "metadata": {
        "id": "DBSaCrL8yJmH"
      },
      "source": [
        "# Przypisanie wartości do danych testowych\r\n",
        "X_final_test = data_final_test_dummies_without_empnum.loc[:,data_final_test_dummies_without_empnum.columns != 'Attrition']"
      ],
      "execution_count": 210,
      "outputs": []
    },
    {
      "cell_type": "code",
      "metadata": {
        "id": "pHtNZPAUWa2y"
      },
      "source": [
        "# MinMax Standaryzacja\r\n",
        "X_final_test_minmax_standarized = preprocesser[3].fit_transform(X_final_test)"
      ],
      "execution_count": 211,
      "outputs": []
    },
    {
      "cell_type": "code",
      "metadata": {
        "id": "m-MH7EkyBu-H"
      },
      "source": [
        "# Normalizacja\r\n",
        "X_final_test_normalized = preprocesser[1].fit_transform(X_final_test)"
      ],
      "execution_count": 214,
      "outputs": []
    },
    {
      "cell_type": "code",
      "metadata": {
        "id": "Ic7FUB64W-Mb"
      },
      "source": [
        "# Finalna predykcja\r\n",
        "y_final_predict_boosting_minmax_standarized = clf_boosting.predict(X_final_test_minmax_standarized)\r\n",
        "y_final_predict_forest_upsampled_minmax_standarized = clf_forest_upsampled.predict(X_final_test_minmax_standarized)\r\n",
        "y_final_predict_voting_undersampled_normalized = clf_voting_undersampled.predict(X_final_test_normalized)"
      ],
      "execution_count": 215,
      "outputs": []
    },
    {
      "cell_type": "code",
      "metadata": {
        "id": "o-bZNyoIzTMW"
      },
      "source": [
        "# # Finalna predykcja\r\n",
        "# y_final_predict_forest = clf_forest.predict(X_final_test)\r\n",
        "# y_final_predict_boosting = clf_boosting.predict(X_final_test)\r\n",
        "# y_final_predict_svc = clf_svc.predict(X_final_test)\r\n",
        "\r\n",
        "# y_final_predict_svc_upsampled = clf_svc_upsampled.predict(X_final_test)\r\n",
        "# y_final_predict_forest_upsampled = clf_forest_upsampled.predict(X_final_test)\r\n",
        "\r\n",
        "# y_final_predict_voting_undersampled = clf_voting_undersampled.predict(X_final_test)\r\n",
        "# y_final_predict_svc_undersampled = clf_svc_undersampled.predict(X_final_test)"
      ],
      "execution_count": null,
      "outputs": []
    },
    {
      "cell_type": "code",
      "metadata": {
        "id": "amyKJXBTz14g"
      },
      "source": [
        "# # Weryfikacja predykcyjnych wartości\r\n",
        "# print(f'ORYGINALNE MODELE')\r\n",
        "# print(f'RandomForest:\\n {pd.DataFrame(y_final_predict_forest).value_counts()}\\n')\r\n",
        "# print(f'AdaBoosting:\\n {pd.DataFrame(y_final_predict_boosting).value_counts()}\\n')\r\n",
        "# print(f'SVC:\\n {pd.DataFrame(y_final_predict_svc).value_counts()}\\n')\r\n",
        "# print(f'\\n OVERSAMPLOWANE MODELE')\r\n",
        "# print(f'SVC:\\n {pd.DataFrame(y_final_predict_svc_upsampled).value_counts()}\\n')\r\n",
        "# print(f'RandomForest:\\n {pd.DataFrame(y_final_predict_forest_upsampled).value_counts()}\\n')\r\n",
        "# print(f'\\n UNDERSAMPLOWANE MODELE')\r\n",
        "# print(f'Voting:\\n {pd.DataFrame(y_final_predict_voting_undersampled).value_counts()}\\n')\r\n",
        "# print(f'SVC:\\n {pd.DataFrame(y_final_predict_svc_undersampled).value_counts()}\\n')"
      ],
      "execution_count": null,
      "outputs": []
    },
    {
      "cell_type": "code",
      "metadata": {
        "colab": {
          "base_uri": "https://localhost:8080/"
        },
        "id": "XFh-nybxLwZJ",
        "outputId": "63240e3a-dba3-4923-dde3-2edd5bb0638e"
      },
      "source": [
        "# Weryfikacja predykcyjnych wartości\r\n",
        "print(f'ORYGINALNE MODELE')\r\n",
        "print(f'AdaBoost:\\n {pd.DataFrame(y_final_predict_boosting_minmax_standarized).value_counts()}\\n')\r\n",
        "print(f'\\nOVERSAMPLOWANE MODELE')\r\n",
        "print(f'RandomForest:\\n {pd.DataFrame(y_final_predict_forest_upsampled_minmax_standarized).value_counts()}\\n')\r\n",
        "print(f'\\nUNDERSAMPLOWANE MODELE')\r\n",
        "print(f'Voting:\\n {pd.DataFrame(y_final_predict_voting_undersampled_normalized).value_counts()}\\n')"
      ],
      "execution_count": 217,
      "outputs": [
        {
          "output_type": "stream",
          "text": [
            "ORYGINALNE MODELE\n",
            "AdaBoost:\n",
            " 0    121\n",
            "1     26\n",
            "dtype: int64\n",
            "\n",
            "\n",
            " OVERSAMPLOWANE MODELE\n",
            "RandomForest:\n",
            " 0    115\n",
            "1     32\n",
            "dtype: int64\n",
            "\n",
            "\n",
            " UNDERSAMPLOWANE MODELE\n",
            "Voting:\n",
            " 0    126\n",
            "1     21\n",
            "dtype: int64\n",
            "\n"
          ],
          "name": "stdout"
        }
      ]
    },
    {
      "cell_type": "code",
      "metadata": {
        "colab": {
          "base_uri": "https://localhost:8080/"
        },
        "id": "gjcwHtMdIDY_",
        "outputId": "e0b2b669-9fb9-40e2-8778-a58c6b48d1c1"
      },
      "source": [
        "print(f'{classification_report(y_final_predict_boosting_minmax_standarized, y_final_predict_voting_undersampled_normalized)}')"
      ],
      "execution_count": 228,
      "outputs": [
        {
          "output_type": "stream",
          "text": [
            "              precision    recall  f1-score   support\n",
            "\n",
            "           0       0.90      0.93      0.91       121\n",
            "           1       0.62      0.50      0.55        26\n",
            "\n",
            "    accuracy                           0.86       147\n",
            "   macro avg       0.76      0.72      0.73       147\n",
            "weighted avg       0.85      0.86      0.85       147\n",
            "\n"
          ],
          "name": "stdout"
        }
      ]
    },
    {
      "cell_type": "code",
      "metadata": {
        "colab": {
          "base_uri": "https://localhost:8080/"
        },
        "id": "H5oS4eSB4wLr",
        "outputId": "add76439-20b1-4874-c6fc-87c7ff0b8d4f"
      },
      "source": [
        "y_final_predict_forest_upsampled_minmax_standarized"
      ],
      "execution_count": 229,
      "outputs": [
        {
          "output_type": "execute_result",
          "data": {
            "text/plain": [
              "array([0, 1, 0, 0, 0, 0, 0, 0, 0, 0, 1, 1, 0, 1, 0, 0, 0, 0, 0, 1, 0, 0,\n",
              "       0, 0, 1, 1, 0, 0, 0, 0, 1, 0, 0, 0, 1, 1, 0, 0, 0, 0, 0, 1, 0, 1,\n",
              "       0, 1, 0, 0, 0, 1, 0, 0, 0, 0, 1, 0, 0, 0, 0, 0, 1, 1, 0, 0, 1, 0,\n",
              "       0, 0, 1, 0, 0, 0, 1, 0, 0, 0, 1, 1, 0, 0, 0, 0, 0, 0, 0, 1, 0, 1,\n",
              "       1, 0, 0, 0, 1, 0, 0, 0, 0, 0, 0, 0, 1, 0, 1, 1, 0, 0, 1, 0, 0, 0,\n",
              "       0, 0, 0, 0, 0, 0, 0, 0, 0, 1, 0, 0, 0, 0, 0, 0, 0, 0, 0, 0, 0, 0,\n",
              "       0, 0, 0, 1, 0, 0, 0, 0, 0, 0, 0, 0, 0, 0, 0])"
            ]
          },
          "metadata": {
            "tags": []
          },
          "execution_count": 229
        }
      ]
    },
    {
      "cell_type": "code",
      "metadata": {
        "id": "AlmAVtPC1kD-"
      },
      "source": [
        "# Nadpisanie predykcyjnych wartości za NaNy w zbiorze testowym\r\n",
        "data_final_test_dummies.Attrition = y_final_predict_forest_upsampled_minmax_standarized"
      ],
      "execution_count": 230,
      "outputs": []
    },
    {
      "cell_type": "code",
      "metadata": {
        "colab": {
          "base_uri": "https://localhost:8080/",
          "height": 244
        },
        "id": "FU93WlnO2acY",
        "outputId": "025d914d-7f9c-4ad0-b8ac-689657f8eeb0"
      },
      "source": [
        "data_final_test_dummies.head()"
      ],
      "execution_count": 232,
      "outputs": [
        {
          "output_type": "execute_result",
          "data": {
            "text/html": [
              "<div>\n",
              "<style scoped>\n",
              "    .dataframe tbody tr th:only-of-type {\n",
              "        vertical-align: middle;\n",
              "    }\n",
              "\n",
              "    .dataframe tbody tr th {\n",
              "        vertical-align: top;\n",
              "    }\n",
              "\n",
              "    .dataframe thead th {\n",
              "        text-align: right;\n",
              "    }\n",
              "</style>\n",
              "<table border=\"1\" class=\"dataframe\">\n",
              "  <thead>\n",
              "    <tr style=\"text-align: right;\">\n",
              "      <th></th>\n",
              "      <th>EmployeeNumber</th>\n",
              "      <th>Age</th>\n",
              "      <th>DailyRate</th>\n",
              "      <th>DistanceFromHome</th>\n",
              "      <th>Education</th>\n",
              "      <th>EnvironmentSatisfaction</th>\n",
              "      <th>HourlyRate</th>\n",
              "      <th>JobInvolvement</th>\n",
              "      <th>JobLevel</th>\n",
              "      <th>JobSatisfaction</th>\n",
              "      <th>MonthlyIncome</th>\n",
              "      <th>MonthlyRate</th>\n",
              "      <th>NumCompaniesWorked</th>\n",
              "      <th>PercentSalaryHike</th>\n",
              "      <th>PerformanceRating</th>\n",
              "      <th>RelationshipSatisfaction</th>\n",
              "      <th>StockOptionLevel</th>\n",
              "      <th>TotalWorkingYears</th>\n",
              "      <th>TrainingTimesLastYear</th>\n",
              "      <th>WorkLifeBalance</th>\n",
              "      <th>YearsAtCompany</th>\n",
              "      <th>YearsInCurrentRole</th>\n",
              "      <th>YearsSinceLastPromotion</th>\n",
              "      <th>YearsWithCurrManager</th>\n",
              "      <th>Attrition</th>\n",
              "      <th>BusinessTravel_Non-Travel</th>\n",
              "      <th>BusinessTravel_Travel_Frequently</th>\n",
              "      <th>BusinessTravel_Travel_Rarely</th>\n",
              "      <th>Department_Human Resources</th>\n",
              "      <th>Department_Research &amp; Development</th>\n",
              "      <th>Department_Sales</th>\n",
              "      <th>EducationField_Human Resources</th>\n",
              "      <th>EducationField_Life Sciences</th>\n",
              "      <th>EducationField_Marketing</th>\n",
              "      <th>EducationField_Medical</th>\n",
              "      <th>EducationField_Other</th>\n",
              "      <th>EducationField_Technical Degree</th>\n",
              "      <th>Gender_Female</th>\n",
              "      <th>Gender_Male</th>\n",
              "      <th>JobRole_Healthcare Representative</th>\n",
              "      <th>JobRole_Human Resources</th>\n",
              "      <th>JobRole_Laboratory Technician</th>\n",
              "      <th>JobRole_Manager</th>\n",
              "      <th>JobRole_Manufacturing Director</th>\n",
              "      <th>JobRole_Research Director</th>\n",
              "      <th>JobRole_Research Scientist</th>\n",
              "      <th>JobRole_Sales Executive</th>\n",
              "      <th>JobRole_Sales Representative</th>\n",
              "      <th>MaritalStatus_Divorced</th>\n",
              "      <th>MaritalStatus_Married</th>\n",
              "      <th>MaritalStatus_Single</th>\n",
              "      <th>OverTime_No</th>\n",
              "      <th>OverTime_Yes</th>\n",
              "    </tr>\n",
              "  </thead>\n",
              "  <tbody>\n",
              "    <tr>\n",
              "      <th>1323</th>\n",
              "      <td>100000</td>\n",
              "      <td>35.0</td>\n",
              "      <td>1343.0</td>\n",
              "      <td>27.0</td>\n",
              "      <td>1.0</td>\n",
              "      <td>3.0</td>\n",
              "      <td>53.0</td>\n",
              "      <td>2.0</td>\n",
              "      <td>1.0</td>\n",
              "      <td>1.0</td>\n",
              "      <td>2559.0</td>\n",
              "      <td>17852.0</td>\n",
              "      <td>1.0</td>\n",
              "      <td>11.0</td>\n",
              "      <td>3.0</td>\n",
              "      <td>4.0</td>\n",
              "      <td>0.0</td>\n",
              "      <td>6.0</td>\n",
              "      <td>3.0</td>\n",
              "      <td>2.0</td>\n",
              "      <td>6.0</td>\n",
              "      <td>5.0</td>\n",
              "      <td>1.0</td>\n",
              "      <td>1.0</td>\n",
              "      <td>0</td>\n",
              "      <td>0</td>\n",
              "      <td>0</td>\n",
              "      <td>1</td>\n",
              "      <td>0</td>\n",
              "      <td>1</td>\n",
              "      <td>0</td>\n",
              "      <td>0</td>\n",
              "      <td>0</td>\n",
              "      <td>0</td>\n",
              "      <td>1</td>\n",
              "      <td>0</td>\n",
              "      <td>0</td>\n",
              "      <td>1</td>\n",
              "      <td>0</td>\n",
              "      <td>0</td>\n",
              "      <td>0</td>\n",
              "      <td>0</td>\n",
              "      <td>0</td>\n",
              "      <td>0</td>\n",
              "      <td>0</td>\n",
              "      <td>1</td>\n",
              "      <td>0</td>\n",
              "      <td>0</td>\n",
              "      <td>0</td>\n",
              "      <td>0</td>\n",
              "      <td>1</td>\n",
              "      <td>1</td>\n",
              "      <td>0</td>\n",
              "    </tr>\n",
              "    <tr>\n",
              "      <th>1324</th>\n",
              "      <td>100001</td>\n",
              "      <td>27.0</td>\n",
              "      <td>1220.0</td>\n",
              "      <td>5.0</td>\n",
              "      <td>3.0</td>\n",
              "      <td>3.0</td>\n",
              "      <td>85.0</td>\n",
              "      <td>3.0</td>\n",
              "      <td>1.0</td>\n",
              "      <td>2.0</td>\n",
              "      <td>2478.0</td>\n",
              "      <td>20938.0</td>\n",
              "      <td>1.0</td>\n",
              "      <td>12.0</td>\n",
              "      <td>3.0</td>\n",
              "      <td>2.0</td>\n",
              "      <td>0.0</td>\n",
              "      <td>4.0</td>\n",
              "      <td>2.0</td>\n",
              "      <td>2.0</td>\n",
              "      <td>4.0</td>\n",
              "      <td>3.0</td>\n",
              "      <td>1.0</td>\n",
              "      <td>2.0</td>\n",
              "      <td>1</td>\n",
              "      <td>0</td>\n",
              "      <td>0</td>\n",
              "      <td>1</td>\n",
              "      <td>0</td>\n",
              "      <td>1</td>\n",
              "      <td>0</td>\n",
              "      <td>0</td>\n",
              "      <td>1</td>\n",
              "      <td>0</td>\n",
              "      <td>0</td>\n",
              "      <td>0</td>\n",
              "      <td>0</td>\n",
              "      <td>1</td>\n",
              "      <td>0</td>\n",
              "      <td>0</td>\n",
              "      <td>0</td>\n",
              "      <td>0</td>\n",
              "      <td>0</td>\n",
              "      <td>0</td>\n",
              "      <td>0</td>\n",
              "      <td>1</td>\n",
              "      <td>0</td>\n",
              "      <td>0</td>\n",
              "      <td>0</td>\n",
              "      <td>0</td>\n",
              "      <td>1</td>\n",
              "      <td>0</td>\n",
              "      <td>1</td>\n",
              "    </tr>\n",
              "    <tr>\n",
              "      <th>1325</th>\n",
              "      <td>100002</td>\n",
              "      <td>24.0</td>\n",
              "      <td>1476.0</td>\n",
              "      <td>4.0</td>\n",
              "      <td>1.0</td>\n",
              "      <td>4.0</td>\n",
              "      <td>42.0</td>\n",
              "      <td>3.0</td>\n",
              "      <td>2.0</td>\n",
              "      <td>3.0</td>\n",
              "      <td>4162.0</td>\n",
              "      <td>15211.0</td>\n",
              "      <td>1.0</td>\n",
              "      <td>12.0</td>\n",
              "      <td>3.0</td>\n",
              "      <td>3.0</td>\n",
              "      <td>2.0</td>\n",
              "      <td>5.0</td>\n",
              "      <td>3.0</td>\n",
              "      <td>3.0</td>\n",
              "      <td>5.0</td>\n",
              "      <td>4.0</td>\n",
              "      <td>0.0</td>\n",
              "      <td>3.0</td>\n",
              "      <td>0</td>\n",
              "      <td>0</td>\n",
              "      <td>0</td>\n",
              "      <td>1</td>\n",
              "      <td>0</td>\n",
              "      <td>0</td>\n",
              "      <td>1</td>\n",
              "      <td>0</td>\n",
              "      <td>0</td>\n",
              "      <td>0</td>\n",
              "      <td>1</td>\n",
              "      <td>0</td>\n",
              "      <td>0</td>\n",
              "      <td>1</td>\n",
              "      <td>0</td>\n",
              "      <td>0</td>\n",
              "      <td>0</td>\n",
              "      <td>0</td>\n",
              "      <td>0</td>\n",
              "      <td>0</td>\n",
              "      <td>0</td>\n",
              "      <td>0</td>\n",
              "      <td>1</td>\n",
              "      <td>0</td>\n",
              "      <td>0</td>\n",
              "      <td>1</td>\n",
              "      <td>0</td>\n",
              "      <td>0</td>\n",
              "      <td>1</td>\n",
              "    </tr>\n",
              "    <tr>\n",
              "      <th>1326</th>\n",
              "      <td>100003</td>\n",
              "      <td>37.0</td>\n",
              "      <td>142.0</td>\n",
              "      <td>9.0</td>\n",
              "      <td>4.0</td>\n",
              "      <td>1.0</td>\n",
              "      <td>69.0</td>\n",
              "      <td>3.0</td>\n",
              "      <td>3.0</td>\n",
              "      <td>2.0</td>\n",
              "      <td>8834.0</td>\n",
              "      <td>24666.0</td>\n",
              "      <td>1.0</td>\n",
              "      <td>13.0</td>\n",
              "      <td>3.0</td>\n",
              "      <td>4.0</td>\n",
              "      <td>1.0</td>\n",
              "      <td>9.0</td>\n",
              "      <td>6.0</td>\n",
              "      <td>3.0</td>\n",
              "      <td>9.0</td>\n",
              "      <td>5.0</td>\n",
              "      <td>7.0</td>\n",
              "      <td>7.0</td>\n",
              "      <td>0</td>\n",
              "      <td>1</td>\n",
              "      <td>0</td>\n",
              "      <td>0</td>\n",
              "      <td>0</td>\n",
              "      <td>0</td>\n",
              "      <td>1</td>\n",
              "      <td>0</td>\n",
              "      <td>0</td>\n",
              "      <td>0</td>\n",
              "      <td>1</td>\n",
              "      <td>0</td>\n",
              "      <td>0</td>\n",
              "      <td>0</td>\n",
              "      <td>1</td>\n",
              "      <td>0</td>\n",
              "      <td>0</td>\n",
              "      <td>0</td>\n",
              "      <td>0</td>\n",
              "      <td>0</td>\n",
              "      <td>0</td>\n",
              "      <td>0</td>\n",
              "      <td>1</td>\n",
              "      <td>0</td>\n",
              "      <td>1</td>\n",
              "      <td>0</td>\n",
              "      <td>0</td>\n",
              "      <td>1</td>\n",
              "      <td>0</td>\n",
              "    </tr>\n",
              "    <tr>\n",
              "      <th>1327</th>\n",
              "      <td>100004</td>\n",
              "      <td>33.0</td>\n",
              "      <td>527.0</td>\n",
              "      <td>1.0</td>\n",
              "      <td>4.0</td>\n",
              "      <td>4.0</td>\n",
              "      <td>63.0</td>\n",
              "      <td>3.0</td>\n",
              "      <td>1.0</td>\n",
              "      <td>4.0</td>\n",
              "      <td>2686.0</td>\n",
              "      <td>5207.0</td>\n",
              "      <td>1.0</td>\n",
              "      <td>13.0</td>\n",
              "      <td>3.0</td>\n",
              "      <td>3.0</td>\n",
              "      <td>0.0</td>\n",
              "      <td>10.0</td>\n",
              "      <td>2.0</td>\n",
              "      <td>2.0</td>\n",
              "      <td>10.0</td>\n",
              "      <td>9.0</td>\n",
              "      <td>7.0</td>\n",
              "      <td>8.0</td>\n",
              "      <td>0</td>\n",
              "      <td>0</td>\n",
              "      <td>0</td>\n",
              "      <td>1</td>\n",
              "      <td>0</td>\n",
              "      <td>1</td>\n",
              "      <td>0</td>\n",
              "      <td>0</td>\n",
              "      <td>0</td>\n",
              "      <td>0</td>\n",
              "      <td>0</td>\n",
              "      <td>1</td>\n",
              "      <td>0</td>\n",
              "      <td>0</td>\n",
              "      <td>1</td>\n",
              "      <td>0</td>\n",
              "      <td>0</td>\n",
              "      <td>0</td>\n",
              "      <td>0</td>\n",
              "      <td>0</td>\n",
              "      <td>0</td>\n",
              "      <td>1</td>\n",
              "      <td>0</td>\n",
              "      <td>0</td>\n",
              "      <td>0</td>\n",
              "      <td>0</td>\n",
              "      <td>1</td>\n",
              "      <td>0</td>\n",
              "      <td>1</td>\n",
              "    </tr>\n",
              "  </tbody>\n",
              "</table>\n",
              "</div>"
            ],
            "text/plain": [
              "      EmployeeNumber   Age  ...  OverTime_No  OverTime_Yes\n",
              "1323          100000  35.0  ...            1             0\n",
              "1324          100001  27.0  ...            0             1\n",
              "1325          100002  24.0  ...            0             1\n",
              "1326          100003  37.0  ...            1             0\n",
              "1327          100004  33.0  ...            0             1\n",
              "\n",
              "[5 rows x 53 columns]"
            ]
          },
          "metadata": {
            "tags": []
          },
          "execution_count": 232
        }
      ]
    },
    {
      "cell_type": "code",
      "metadata": {
        "id": "l91YIQdl6STB"
      },
      "source": [
        "output = pd.DataFrame(data_final_test_dummies, columns=['EmployeeNumber', 'Attrition'])"
      ],
      "execution_count": 233,
      "outputs": []
    },
    {
      "cell_type": "code",
      "metadata": {
        "id": "YNV8qmsrYjUU",
        "colab": {
          "base_uri": "https://localhost:8080/",
          "height": 1000
        },
        "outputId": "4618befb-1ca9-449a-ae90-fc0736c0e8d1"
      },
      "source": [
        "output.head(50)"
      ],
      "execution_count": 235,
      "outputs": [
        {
          "output_type": "execute_result",
          "data": {
            "text/html": [
              "<div>\n",
              "<style scoped>\n",
              "    .dataframe tbody tr th:only-of-type {\n",
              "        vertical-align: middle;\n",
              "    }\n",
              "\n",
              "    .dataframe tbody tr th {\n",
              "        vertical-align: top;\n",
              "    }\n",
              "\n",
              "    .dataframe thead th {\n",
              "        text-align: right;\n",
              "    }\n",
              "</style>\n",
              "<table border=\"1\" class=\"dataframe\">\n",
              "  <thead>\n",
              "    <tr style=\"text-align: right;\">\n",
              "      <th></th>\n",
              "      <th>EmployeeNumber</th>\n",
              "      <th>Attrition</th>\n",
              "    </tr>\n",
              "  </thead>\n",
              "  <tbody>\n",
              "    <tr>\n",
              "      <th>1323</th>\n",
              "      <td>100000</td>\n",
              "      <td>0</td>\n",
              "    </tr>\n",
              "    <tr>\n",
              "      <th>1324</th>\n",
              "      <td>100001</td>\n",
              "      <td>1</td>\n",
              "    </tr>\n",
              "    <tr>\n",
              "      <th>1325</th>\n",
              "      <td>100002</td>\n",
              "      <td>0</td>\n",
              "    </tr>\n",
              "    <tr>\n",
              "      <th>1326</th>\n",
              "      <td>100003</td>\n",
              "      <td>0</td>\n",
              "    </tr>\n",
              "    <tr>\n",
              "      <th>1327</th>\n",
              "      <td>100004</td>\n",
              "      <td>0</td>\n",
              "    </tr>\n",
              "    <tr>\n",
              "      <th>1328</th>\n",
              "      <td>100005</td>\n",
              "      <td>0</td>\n",
              "    </tr>\n",
              "    <tr>\n",
              "      <th>1329</th>\n",
              "      <td>100006</td>\n",
              "      <td>0</td>\n",
              "    </tr>\n",
              "    <tr>\n",
              "      <th>1330</th>\n",
              "      <td>100007</td>\n",
              "      <td>0</td>\n",
              "    </tr>\n",
              "    <tr>\n",
              "      <th>1331</th>\n",
              "      <td>100008</td>\n",
              "      <td>0</td>\n",
              "    </tr>\n",
              "    <tr>\n",
              "      <th>1332</th>\n",
              "      <td>100009</td>\n",
              "      <td>0</td>\n",
              "    </tr>\n",
              "    <tr>\n",
              "      <th>1333</th>\n",
              "      <td>100010</td>\n",
              "      <td>1</td>\n",
              "    </tr>\n",
              "    <tr>\n",
              "      <th>1334</th>\n",
              "      <td>100011</td>\n",
              "      <td>1</td>\n",
              "    </tr>\n",
              "    <tr>\n",
              "      <th>1335</th>\n",
              "      <td>100012</td>\n",
              "      <td>0</td>\n",
              "    </tr>\n",
              "    <tr>\n",
              "      <th>1336</th>\n",
              "      <td>100013</td>\n",
              "      <td>1</td>\n",
              "    </tr>\n",
              "    <tr>\n",
              "      <th>1337</th>\n",
              "      <td>100014</td>\n",
              "      <td>0</td>\n",
              "    </tr>\n",
              "    <tr>\n",
              "      <th>1338</th>\n",
              "      <td>100015</td>\n",
              "      <td>0</td>\n",
              "    </tr>\n",
              "    <tr>\n",
              "      <th>1339</th>\n",
              "      <td>100016</td>\n",
              "      <td>0</td>\n",
              "    </tr>\n",
              "    <tr>\n",
              "      <th>1340</th>\n",
              "      <td>100017</td>\n",
              "      <td>0</td>\n",
              "    </tr>\n",
              "    <tr>\n",
              "      <th>1341</th>\n",
              "      <td>100018</td>\n",
              "      <td>0</td>\n",
              "    </tr>\n",
              "    <tr>\n",
              "      <th>1342</th>\n",
              "      <td>100019</td>\n",
              "      <td>1</td>\n",
              "    </tr>\n",
              "    <tr>\n",
              "      <th>1343</th>\n",
              "      <td>100020</td>\n",
              "      <td>0</td>\n",
              "    </tr>\n",
              "    <tr>\n",
              "      <th>1344</th>\n",
              "      <td>100021</td>\n",
              "      <td>0</td>\n",
              "    </tr>\n",
              "    <tr>\n",
              "      <th>1345</th>\n",
              "      <td>100022</td>\n",
              "      <td>0</td>\n",
              "    </tr>\n",
              "    <tr>\n",
              "      <th>1346</th>\n",
              "      <td>100023</td>\n",
              "      <td>0</td>\n",
              "    </tr>\n",
              "    <tr>\n",
              "      <th>1347</th>\n",
              "      <td>100024</td>\n",
              "      <td>1</td>\n",
              "    </tr>\n",
              "    <tr>\n",
              "      <th>1348</th>\n",
              "      <td>100025</td>\n",
              "      <td>1</td>\n",
              "    </tr>\n",
              "    <tr>\n",
              "      <th>1349</th>\n",
              "      <td>100026</td>\n",
              "      <td>0</td>\n",
              "    </tr>\n",
              "    <tr>\n",
              "      <th>1350</th>\n",
              "      <td>100027</td>\n",
              "      <td>0</td>\n",
              "    </tr>\n",
              "    <tr>\n",
              "      <th>1351</th>\n",
              "      <td>100028</td>\n",
              "      <td>0</td>\n",
              "    </tr>\n",
              "    <tr>\n",
              "      <th>1352</th>\n",
              "      <td>100029</td>\n",
              "      <td>0</td>\n",
              "    </tr>\n",
              "    <tr>\n",
              "      <th>1353</th>\n",
              "      <td>100030</td>\n",
              "      <td>1</td>\n",
              "    </tr>\n",
              "    <tr>\n",
              "      <th>1354</th>\n",
              "      <td>100031</td>\n",
              "      <td>0</td>\n",
              "    </tr>\n",
              "    <tr>\n",
              "      <th>1355</th>\n",
              "      <td>100032</td>\n",
              "      <td>0</td>\n",
              "    </tr>\n",
              "    <tr>\n",
              "      <th>1356</th>\n",
              "      <td>100033</td>\n",
              "      <td>0</td>\n",
              "    </tr>\n",
              "    <tr>\n",
              "      <th>1357</th>\n",
              "      <td>100034</td>\n",
              "      <td>1</td>\n",
              "    </tr>\n",
              "    <tr>\n",
              "      <th>1358</th>\n",
              "      <td>100035</td>\n",
              "      <td>1</td>\n",
              "    </tr>\n",
              "    <tr>\n",
              "      <th>1359</th>\n",
              "      <td>100036</td>\n",
              "      <td>0</td>\n",
              "    </tr>\n",
              "    <tr>\n",
              "      <th>1360</th>\n",
              "      <td>100037</td>\n",
              "      <td>0</td>\n",
              "    </tr>\n",
              "    <tr>\n",
              "      <th>1361</th>\n",
              "      <td>100038</td>\n",
              "      <td>0</td>\n",
              "    </tr>\n",
              "    <tr>\n",
              "      <th>1362</th>\n",
              "      <td>100039</td>\n",
              "      <td>0</td>\n",
              "    </tr>\n",
              "    <tr>\n",
              "      <th>1363</th>\n",
              "      <td>100040</td>\n",
              "      <td>0</td>\n",
              "    </tr>\n",
              "    <tr>\n",
              "      <th>1364</th>\n",
              "      <td>100041</td>\n",
              "      <td>1</td>\n",
              "    </tr>\n",
              "    <tr>\n",
              "      <th>1365</th>\n",
              "      <td>100042</td>\n",
              "      <td>0</td>\n",
              "    </tr>\n",
              "    <tr>\n",
              "      <th>1366</th>\n",
              "      <td>100043</td>\n",
              "      <td>1</td>\n",
              "    </tr>\n",
              "    <tr>\n",
              "      <th>1367</th>\n",
              "      <td>100044</td>\n",
              "      <td>0</td>\n",
              "    </tr>\n",
              "    <tr>\n",
              "      <th>1368</th>\n",
              "      <td>100045</td>\n",
              "      <td>1</td>\n",
              "    </tr>\n",
              "    <tr>\n",
              "      <th>1369</th>\n",
              "      <td>100046</td>\n",
              "      <td>0</td>\n",
              "    </tr>\n",
              "    <tr>\n",
              "      <th>1370</th>\n",
              "      <td>100047</td>\n",
              "      <td>0</td>\n",
              "    </tr>\n",
              "    <tr>\n",
              "      <th>1371</th>\n",
              "      <td>100048</td>\n",
              "      <td>0</td>\n",
              "    </tr>\n",
              "    <tr>\n",
              "      <th>1372</th>\n",
              "      <td>100049</td>\n",
              "      <td>1</td>\n",
              "    </tr>\n",
              "  </tbody>\n",
              "</table>\n",
              "</div>"
            ],
            "text/plain": [
              "      EmployeeNumber  Attrition\n",
              "1323          100000          0\n",
              "1324          100001          1\n",
              "1325          100002          0\n",
              "1326          100003          0\n",
              "1327          100004          0\n",
              "1328          100005          0\n",
              "1329          100006          0\n",
              "1330          100007          0\n",
              "1331          100008          0\n",
              "1332          100009          0\n",
              "1333          100010          1\n",
              "1334          100011          1\n",
              "1335          100012          0\n",
              "1336          100013          1\n",
              "1337          100014          0\n",
              "1338          100015          0\n",
              "1339          100016          0\n",
              "1340          100017          0\n",
              "1341          100018          0\n",
              "1342          100019          1\n",
              "1343          100020          0\n",
              "1344          100021          0\n",
              "1345          100022          0\n",
              "1346          100023          0\n",
              "1347          100024          1\n",
              "1348          100025          1\n",
              "1349          100026          0\n",
              "1350          100027          0\n",
              "1351          100028          0\n",
              "1352          100029          0\n",
              "1353          100030          1\n",
              "1354          100031          0\n",
              "1355          100032          0\n",
              "1356          100033          0\n",
              "1357          100034          1\n",
              "1358          100035          1\n",
              "1359          100036          0\n",
              "1360          100037          0\n",
              "1361          100038          0\n",
              "1362          100039          0\n",
              "1363          100040          0\n",
              "1364          100041          1\n",
              "1365          100042          0\n",
              "1366          100043          1\n",
              "1367          100044          0\n",
              "1368          100045          1\n",
              "1369          100046          0\n",
              "1370          100047          0\n",
              "1371          100048          0\n",
              "1372          100049          1"
            ]
          },
          "metadata": {
            "tags": []
          },
          "execution_count": 235
        }
      ]
    },
    {
      "cell_type": "code",
      "metadata": {
        "id": "mlU3eWsPOGx5"
      },
      "source": [
        "output.to_csv('/content/drive/MyDrive/02_Projekt_praktyczny_klasyfikacja/output.csv')"
      ],
      "execution_count": 236,
      "outputs": []
    },
    {
      "cell_type": "code",
      "metadata": {
        "colab": {
          "base_uri": "https://localhost:8080/",
          "height": 206
        },
        "id": "XY5EEa-_OrSo",
        "outputId": "4e0079f8-7a90-4f31-86e1-a18cf7f1ea3f"
      },
      "source": [
        "sample.head()"
      ],
      "execution_count": 237,
      "outputs": [
        {
          "output_type": "execute_result",
          "data": {
            "text/html": [
              "<div>\n",
              "<style scoped>\n",
              "    .dataframe tbody tr th:only-of-type {\n",
              "        vertical-align: middle;\n",
              "    }\n",
              "\n",
              "    .dataframe tbody tr th {\n",
              "        vertical-align: top;\n",
              "    }\n",
              "\n",
              "    .dataframe thead th {\n",
              "        text-align: right;\n",
              "    }\n",
              "</style>\n",
              "<table border=\"1\" class=\"dataframe\">\n",
              "  <thead>\n",
              "    <tr style=\"text-align: right;\">\n",
              "      <th></th>\n",
              "      <th>EmployeeNumber</th>\n",
              "      <th>Attrition</th>\n",
              "    </tr>\n",
              "  </thead>\n",
              "  <tbody>\n",
              "    <tr>\n",
              "      <th>0</th>\n",
              "      <td>100000</td>\n",
              "      <td>1</td>\n",
              "    </tr>\n",
              "    <tr>\n",
              "      <th>1</th>\n",
              "      <td>100001</td>\n",
              "      <td>1</td>\n",
              "    </tr>\n",
              "    <tr>\n",
              "      <th>2</th>\n",
              "      <td>100002</td>\n",
              "      <td>1</td>\n",
              "    </tr>\n",
              "    <tr>\n",
              "      <th>3</th>\n",
              "      <td>100003</td>\n",
              "      <td>1</td>\n",
              "    </tr>\n",
              "    <tr>\n",
              "      <th>4</th>\n",
              "      <td>100004</td>\n",
              "      <td>1</td>\n",
              "    </tr>\n",
              "  </tbody>\n",
              "</table>\n",
              "</div>"
            ],
            "text/plain": [
              "   EmployeeNumber  Attrition\n",
              "0          100000          1\n",
              "1          100001          1\n",
              "2          100002          1\n",
              "3          100003          1\n",
              "4          100004          1"
            ]
          },
          "metadata": {
            "tags": []
          },
          "execution_count": 237
        }
      ]
    }
  ]
}