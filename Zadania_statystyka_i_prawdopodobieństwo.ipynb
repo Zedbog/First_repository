{
  "nbformat": 4,
  "nbformat_minor": 0,
  "metadata": {
    "colab": {
      "name": "Zadania_statystyka_i_prawdopodobieństwo.ipynb",
      "provenance": [],
      "collapsed_sections": [],
      "mount_file_id": "1aXaX5_fCQrTitZDEpmZ7pEYl2Fnntl_X",
      "authorship_tag": "ABX9TyO6+jMRzMDMH+2gSgvHaXEp",
      "include_colab_link": true
    },
    "kernelspec": {
      "name": "python3",
      "display_name": "Python 3"
    },
    "accelerator": "GPU"
  },
  "cells": [
    {
      "cell_type": "markdown",
      "metadata": {
        "id": "view-in-github",
        "colab_type": "text"
      },
      "source": [
        "<a href=\"https://colab.research.google.com/github/Zedbog/First_repository/blob/master/Zadania_statystyka_i_prawdopodobie%C5%84stwo.ipynb\" target=\"_parent\"><img src=\"https://colab.research.google.com/assets/colab-badge.svg\" alt=\"Open In Colab\"/></a>"
      ]
    },
    {
      "cell_type": "markdown",
      "metadata": {
        "id": "wgbyqAmDi5gL"
      },
      "source": [
        "Zadania ze statystyki i prawdopodobieństwa"
      ]
    },
    {
      "cell_type": "code",
      "metadata": {
        "id": "NAAcWWvPkK-v"
      },
      "source": [
        "import scipy.stats as scs\n",
        "import numpy as np\n",
        "import matplotlib.pyplot as plt"
      ],
      "execution_count": 5,
      "outputs": []
    },
    {
      "cell_type": "markdown",
      "metadata": {
        "id": "DZfYajWBjGAC"
      },
      "source": [
        "*Statystyki opisowe*"
      ]
    },
    {
      "cell_type": "code",
      "metadata": {
        "id": "g2gWyi3Wbc6L",
        "outputId": "1afac062-efe4-4514-e452-bd6af8e7a9a8",
        "colab": {
          "base_uri": "https://localhost:8080/",
          "height": 293
        }
      },
      "source": [
        "import pandas as pd\n",
        "\n",
        "data = pd.read_csv(\"/content/drive/My Drive/Statystyka_i_prawdopodobieństwo/zalaczniki_do_zadan_ pliki_csv/Synchron.csv\", decimal=',', dtype=float, delimiter=';' and ':', skiprows=1)\n",
        "\n",
        "print(data)\n",
        "\n",
        "print(f\"Describe bez synchr: {scs.describe(data['BEZ_SYNC'])}\")\n",
        "print(f\"Describe z synchr: {scs.describe(data['Z_SYNCH'])}\")\n"
      ],
      "execution_count": 6,
      "outputs": [
        {
          "output_type": "stream",
          "text": [
            "    Z_SYNCH  BEZ_SYNC\n",
            "0      20.3      50.4\n",
            "1      17.0      87.0\n",
            "2       6.5      25.1\n",
            "3      25.0      28.5\n",
            "4       5.4      26.9\n",
            "5      29.2      36.6\n",
            "6       2.9       1.0\n",
            "7       6.6      43.8\n",
            "8      15.8      44.2\n",
            "9       8.3      10.4\n",
            "10     34.0      29.9\n",
            "11      8.0      27.7\n",
            "Describe bez synchr: DescribeResult(nobs=12, minmax=(1.0, 87.0), mean=34.291666666666664, variance=467.828106060606, skewness=0.9400106469845064, kurtosis=1.2463444520333722)\n",
            "Describe z synchr: DescribeResult(nobs=12, minmax=(2.9, 34.0), mean=14.91666666666667, variance=106.41424242424242, skewness=0.576541267595374, kurtosis=-0.9988152836347033)\n"
          ],
          "name": "stdout"
        }
      ]
    },
    {
      "cell_type": "markdown",
      "metadata": {
        "id": "8b62JBw2jnRu"
      },
      "source": [
        "*Rozkłady zmiennych losowych*"
      ]
    },
    {
      "cell_type": "code",
      "metadata": {
        "id": "nd2jEvR63_Ff",
        "outputId": "9625cd5d-cb0f-4a4c-8d82-8b1afc2627b4",
        "colab": {
          "base_uri": "https://localhost:8080/",
          "height": 329
        }
      },
      "source": [
        "\"\"\"task 1 / task 2 \"\"\"\n",
        "n, p = 10, 0.5\n",
        "mu = 6\n",
        "data_bernoulli = scs.bernoulli.rvs(p, size=100)\n",
        "data_poisson = scs.poisson.rvs(mu, loc=0, size=100, random_state=None)\n",
        "data_binom = scs.binom.rvs(n, p, 100)\n",
        "\n",
        "print(f\"Dane Bernoulli:\\n{data_bernoulli}\\nPoisson:\\n{data_poisson}\\nDwumian:\\n{data_binom}\")\n",
        "mean_bernoulli, var_bernoulli, skew_bernoulli, kurt_bernoulli = scs.bernoulli.stats(p, moments=\"mvsk\")\n",
        "mean_poisson, var_poisson, skew_poisson, kurt_poisson = scs.poisson.stats(mu, moments='mvsk',)\n",
        "mean_binom, var_binom, skew_binom, kurt_binom = scs.poisson.stats(n, p, moments='mvsk',)\n",
        "print(\"----------------------------------------------------------\")\n",
        "print(f\"Mean = Bernoulli: {mean_bernoulli}, Poisson: {mean_poisson}, Dwumian: {mean_binom}\")\n",
        "print(f\"Var = Bernoulli: {var_bernoulli}, Poisson: {var_poisson}, Dwumian: {var_binom}\")\n",
        "print(f\"Skew = Bernoulli: {skew_bernoulli}, Poisson: {skew_poisson}, Dwumian: {skew_binom}\")\n",
        "print(f\"kurt = Bernoulli: {kurt_bernoulli}, Poisson: {kurt_poisson}, Dwumian: {kurt_binom}\")"
      ],
      "execution_count": 7,
      "outputs": [
        {
          "output_type": "stream",
          "text": [
            "Dane Bernoulli:\n",
            "[1 0 1 1 1 1 0 1 1 1 1 1 1 0 0 1 1 1 0 1 1 1 0 1 0 0 0 0 1 0 0 0 0 0 0 0 1\n",
            " 0 0 0 1 0 0 1 1 1 0 0 1 0 1 0 1 0 0 0 1 1 1 1 0 1 0 1 0 1 1 1 1 1 1 1 0 0\n",
            " 0 1 1 0 0 1 1 1 0 1 0 1 1 1 1 0 0 1 0 1 1 0 1 1 1 1]\n",
            "Poisson:\n",
            "[ 8  8  4  3  7  8  7 10  6  2  7  6  9  8  8  9  4  6  8  3  3  3  5  7\n",
            "  4  9  4  5  7  6  4  8  6  2  9  4  5  2  8  5  6  4  5  6  8  3  7  5\n",
            "  8  3  2  6  7  7  5  2 13  6  9  6  3  5  8  8  5  0  4  5  8  9  9  8\n",
            "  8  6  9  7  4  4  6 10 12  9  1  7  5  3 10  6  9  5  3  8  5  2  8  6\n",
            "  6 11  4  9]\n",
            "Dwumian:\n",
            "104\n",
            "----------------------------------------------------------\n",
            "Mean = Bernoulli: 0.5, Poisson: 6.0, Dwumian: 10.5\n",
            "Var = Bernoulli: 0.25, Poisson: 6.0, Dwumian: 10.0\n",
            "Skew = Bernoulli: 0.0, Poisson: 0.408248290463863, Dwumian: 0.31622776601683794\n",
            "kurt = Bernoulli: -2.0, Poisson: 0.16666666666666666, Dwumian: 0.1\n"
          ],
          "name": "stdout"
        }
      ]
    },
    {
      "cell_type": "code",
      "metadata": {
        "id": "F7J6y87n4s7r",
        "outputId": "4152e23f-5894-4174-ef23-59a5b17aa1fe",
        "colab": {
          "base_uri": "https://localhost:8080/",
          "height": 294
        }
      },
      "source": [
        "\"\"\"task 3\"\"\"\n",
        "n, p = 20, 0.4\n",
        "\n",
        "data_poisson = scs.poisson.rvs(n, size=20)\n",
        "data_binom = scs.binom.rvs(n, p, size=20)\n",
        "mean_poisson, var_poisson, skew_poisson, kurt_poisson = scs.poisson.stats(n, moments='mvsk',)\n",
        "mean_binom, var_binom, skew_binom, kurt_binom = scs.poisson.stats(n, p, moments='mvsk',)\n",
        "print(f\"Dane Poisson:\\n{data_poisson}\\nDwumian:\\n{data_binom}\")\n",
        "print(\"----------------------------------------------------------\")\n",
        "print(f\"Mean = Poisson: {mean_poisson}, Dwumian: {mean_binom}\")\n",
        "print(f\"Var = Poisson: {var_poisson}, Dwumian: {var_binom}\")\n",
        "print(f\"Skew = Poisson: {skew_poisson}, Dwumian: {skew_binom}\")\n",
        "print(f\"kurt = Poisson: {kurt_poisson}, Dwumian: {kurt_binom}\")\n",
        "print(f\"Suma prawdopodobieństw dla dwumianu: {data_binom.sum()}\")\n",
        "print(\"----------------------------------------------------------\")\n",
        "a = []\n",
        "for k in range(20):\n",
        "  a.append(scs.binom.pmf(k, n, p))\n",
        "print(f\"Rozkład dwumianu:\\n{a}\")\n",
        "print(f\"Suma elementów rozkładu: {sum(a)}\")"
      ],
      "execution_count": 8,
      "outputs": [
        {
          "output_type": "stream",
          "text": [
            "Dane Poisson:\n",
            "[21 23 15 20 22 20 29 21 24 19 17 16 12 18 17 17 21 25 17 24]\n",
            "Dwumian:\n",
            "[ 3  9  9 13 13  5  7 13  9 10 10 10 11  3  7  8 11 10  8  9]\n",
            "----------------------------------------------------------\n",
            "Mean = Poisson: 20.0, Dwumian: 20.4\n",
            "Var = Poisson: 20.0, Dwumian: 20.0\n",
            "Skew = Poisson: 0.22360679774997896, Dwumian: 0.22360679774997896\n",
            "kurt = Poisson: 0.05, Dwumian: 0.05\n",
            "Suma prawdopodobieństw dla dwumianu: 178\n",
            "----------------------------------------------------------\n",
            "Rozkład dwumianu:\n",
            "[3.656158440062977e-05, 0.00048748779200839646, 0.0030874226827198427, 0.012349690730879373, 0.03499079040415815, 0.07464701952887058, 0.1244116992147844, 0.16588226561971353, 0.17970578775468918, 0.15973847800416796, 0.11714155053639011, 0.07099487911296357, 0.035497439556481845, 0.014563052125736161, 0.004854350708578698, 0.0012944935222876511, 0.0002696861504765946, 4.2303709878681646e-05, 4.7004122087424025e-06, 3.298534883327999e-07]\n",
            "Suma elementów rozkładu: 0.9999999890048823\n"
          ],
          "name": "stdout"
        }
      ]
    },
    {
      "cell_type": "code",
      "metadata": {
        "id": "PL4bpBWHGC-8",
        "outputId": "16eb45b8-2eae-4b64-cab4-682eb40e8b29",
        "colab": {
          "base_uri": "https://localhost:8080/",
          "height": 395
        }
      },
      "source": [
        "\"\"\"task 4\"\"\"\n",
        "size = 10000\n",
        "data_norm = scs.norm.rvs(scale=2, size=size)\n",
        "mean_norm, var_norm, skew_norm, kurt_norm = scs.norm.stats(scale=2, moments='mvsk')\n",
        "#print(f\"Dane rozkładu normalnego:\\n{data_norm}\")\n",
        "print(\"----------------------------------------------------------\")\n",
        "print(f\"Mean = {mean_norm}\")\n",
        "print(f\"Var = {var_norm}\")\n",
        "print(f\"Skew = {skew_norm}\")\n",
        "print(f\"kurt = {kurt_norm}\")\n",
        "print(f\"Describe(): {scs.describe(data_norm)}\")\n",
        "\n",
        "fig, ax = plt.subplots(1, 1)\n",
        "\n",
        "x = np.linspace(scs.norm.ppf(0.01), scs.norm.ppf(0.99), 100000)\n",
        "x1 = np.linspace(scs.norm.ppf(0.01), scs.norm.ppf(0.99), size)\n",
        "#print(f\"Rozkład x: {x}\")\n",
        "ax.plot(x, scs.norm.ppf(x), 'r', lw=2, alpha=0.3, label='Normalny - teoretyczny')\n",
        "rv = scs.norm(loc=0, scale=2)\n",
        "ax.plot(x, rv.ppf(x), 'k-', lw=3, label='Normalny - z próby')\n",
        "ax.legend(loc='best')\n",
        "plt.show()"
      ],
      "execution_count": 9,
      "outputs": [
        {
          "output_type": "stream",
          "text": [
            "----------------------------------------------------------\n",
            "Mean = 0.0\n",
            "Var = 4.0\n",
            "Skew = 0.0\n",
            "kurt = 0.0\n",
            "Describe(): DescribeResult(nobs=10000, minmax=(-7.372072345988963, 6.736499179485416), mean=-0.02145409947801039, variance=3.942501818545035, skewness=-0.0040357436797941555, kurtosis=-0.03220266664980764)\n"
          ],
          "name": "stdout"
        },
        {
          "output_type": "display_data",
          "data": {
            "image/png": "[encoded data removed]",
            "text/plain": [
              "<Figure size 432x288 with 1 Axes>"
            ]
          },
          "metadata": {
            "tags": [],
            "needs_background": "light"
          }
        }
      ]
    },
    {
      "cell_type": "markdown",
      "metadata": {
        "id": "_4VAbGfBkDNG"
      },
      "source": [
        "*Testy statystyczne*"
      ]
    },
    {
      "cell_type": "code",
      "metadata": {
        "id": "IG5opXjAkGq7",
        "outputId": "c95222ea-873b-47f3-d3c4-442962566128",
        "colab": {
          "base_uri": "https://localhost:8080/",
          "height": 72
        }
      },
      "source": [
        "\"\"\"task 1\"\"\"\n",
        "\n",
        "data_norm = scs.norm.rvs(loc=0, scale=30, size=200, random_state=None)\n",
        "# print(f\"Dane:\\n{data_norm}\")\n",
        "\n",
        "resultsNorm = scs.ttest_1samp(data_norm, 2.5)\n",
        "print(resultsNorm)\n",
        "print('\\n')"
      ],
      "execution_count": 10,
      "outputs": [
        {
          "output_type": "stream",
          "text": [
            "Ttest_1sampResult(statistic=-2.341394632226068, pvalue=0.020201056419391048)\n",
            "\n",
            "\n"
          ],
          "name": "stdout"
        }
      ]
    },
    {
      "cell_type": "code",
      "metadata": {
        "id": "XdF0RgrjEKh0",
        "outputId": "7ea79f9c-e527-4e71-a7b6-5d49aa31f1bc",
        "colab": {
          "base_uri": "https://localhost:8080/",
          "height": 127
        }
      },
      "source": [
        "\"\"\"task2\"\"\"\n",
        "import pandas as pd\n",
        "\n",
        "napoje_data = pd.read_csv('/content/drive/My Drive/Statystyka_i_prawdopodobieństwo/zalaczniki_do_zadan_ pliki_csv/napoje.csv', delimiter=';')\n",
        "\n",
        "rodzaje_napojow = ['lech', 'cola', 'regionalne']\n",
        "wartosci_srednie = [60500, 222000, 43500]\n",
        "for k in range(len(rodzaje_napojow)):\n",
        "  result = scs.ttest_1samp(napoje_data[rodzaje_napojow[k]], wartosci_srednie[k])\n",
        "  print(f\"Średnia dla {rodzaje_napojow[k]} : {napoje_data[rodzaje_napojow[k]].mean()}. Wartość badana: {wartosci_srednie[k]}\")\n",
        "  print(result)"
      ],
      "execution_count": 11,
      "outputs": [
        {
          "output_type": "stream",
          "text": [
            "Średnia dla lech : 61091.348958333336. Wartość badana: 60500\n",
            "Ttest_1sampResult(statistic=1.646503944538866, pvalue=0.10130442686854732)\n",
            "Średnia dla cola : 226389.46875. Wartość badana: 222000\n",
            "Ttest_1sampResult(statistic=6.391908975571081, pvalue=1.2249714535216758e-09)\n",
            "Średnia dla regionalne : 48668.036458333336. Wartość badana: 43500\n",
            "Ttest_1sampResult(statistic=17.440927488514944, pvalue=2.2572528828603765e-41)\n"
          ],
          "name": "stdout"
        }
      ]
    },
    {
      "cell_type": "code",
      "metadata": {
        "id": "KiNPrXQeHztH",
        "outputId": "40f03916-543b-4153-d9f1-da3b32f39d84",
        "colab": {
          "base_uri": "https://localhost:8080/",
          "height": 366
        }
      },
      "source": [
        "\"\"\"task 3\"\"\"\n",
        "kolumny = napoje_data.head()\n",
        "print(f\"Normalność dla poszczególnych napoi:\")\n",
        "for col in kolumny:\n",
        "  noramResult = scs.normaltest(napoje_data[col])\n",
        "  print(f\"Napój: {col}\")\n",
        "  print(noramResult)"
      ],
      "execution_count": 12,
      "outputs": [
        {
          "output_type": "stream",
          "text": [
            "Normalność dla poszczególnych napoi:\n",
            "Napój: mies\n",
            "NormaltestResult(statistic=96.86348300498533, pvalue=9.254690863645396e-22)\n",
            "Napój: rok\n",
            "NormaltestResult(statistic=92.90040405755501, pvalue=6.71326167207233e-21)\n",
            "Napój: pepsi\n",
            "NormaltestResult(statistic=0.656990879516711, pvalue=0.7200062116206445)\n",
            "Napój: fanta \n",
            "NormaltestResult(statistic=3.4000466215098877, pvalue=0.1826792656115071)\n",
            "Napój: żywiec\n",
            "NormaltestResult(statistic=2.156175541501711, pvalue=0.34024553142391856)\n",
            "Napój: okocim\n",
            "NormaltestResult(statistic=4.135690287488807, pvalue=0.12645798710253495)\n",
            "Napój: regionalne\n",
            "NormaltestResult(statistic=30.234035074691608, pvalue=2.721214025437686e-07)\n",
            "Napój: cola\n",
            "NormaltestResult(statistic=1.2477254872820727, pvalue=0.5358705042542622)\n",
            "Napój: lech\n",
            "NormaltestResult(statistic=1.4964681294339097, pvalue=0.4732014584808095)\n"
          ],
          "name": "stdout"
        }
      ]
    },
    {
      "cell_type": "code",
      "metadata": {
        "id": "NMWIKWRXnhKK",
        "outputId": "bcbff5e0-3c3f-4756-c5f5-cd32c42ddf62",
        "colab": {
          "base_uri": "https://localhost:8080/",
          "height": 237
        }
      },
      "source": [
        "\"\"\"task 4\"\"\"\n",
        "\n",
        "print(f\"Średnie okocim : {np.mean(napoje_data['okocim'])} - lech : {np.mean(napoje_data['lech'])}\\nBadanie równości średnich pary okocim - lech:\\n{scs.ttest_ind(napoje_data['okocim'],napoje_data['lech'])}\\n\")\n",
        "print(f\"Średnie fanta : {np.mean(napoje_data['fanta '])} - regionalne : {np.mean(napoje_data['regionalne'])}\\nBadanie równości średnich pary fanta - regionalne:\\n{scs.ttest_ind(napoje_data['fanta '],napoje_data['regionalne'])}\\n\")\n",
        "print(f\"Średnie cola : {np.mean(napoje_data['cola'])} - pepsi : {np.mean(napoje_data['pepsi'])}\\nBadanie równości średnich pary cola - pepsi:\\n{scs.ttest_ind(napoje_data['cola'],napoje_data['pepsi'])}\\n\")"
      ],
      "execution_count": 15,
      "outputs": [
        {
          "output_type": "stream",
          "text": [
            "Średnie okocim : 60679.833333333336 - lech : 61091.348958333336\n",
            "Badanie równości średnich pary okocim - lech:\n",
            "Ttest_indResult(statistic=-0.8323919685480173, pvalue=0.4057078093583595)\n",
            "\n",
            "Średnie fanta : 43395.59375 - regionalne : 48668.036458333336\n",
            "Badanie równości średnich pary fanta - regionalne:\n",
            "Ttest_indResult(statistic=-11.013919429372727, pvalue=1.097001288015355e-24)\n",
            "\n",
            "Średnie cola : 226389.46875 - pepsi : 111414.69270833333\n",
            "Badanie równości średnich pary cola - pepsi:\n",
            "Ttest_indResult(statistic=145.61815604546564, pvalue=0.0)\n",
            "\n"
          ],
          "name": "stdout"
        }
      ]
    },
    {
      "cell_type": "code",
      "metadata": {
        "id": "d4VQC17bq8wS",
        "outputId": "03056df9-fb61-4752-8a15-d733200d7995",
        "colab": {
          "base_uri": "https://localhost:8080/",
          "height": 348
        }
      },
      "source": [
        "\"\"\"task 5\"\"\"\n",
        "\n",
        "print(f\"Średnie okocim : {np.mean(napoje_data['okocim'])} - lech : {np.mean(napoje_data['lech'])}\\nBadanie wariancji testem Levene pomiędzy okocim - lech:\\n{scs.levene(napoje_data['okocim'],napoje_data['lech'])}\\nBadanie wariancji testem Barlett pomiędzy okocim - lech:\\n{scs.bartlett(napoje_data['okocim'],napoje_data['lech'])}\\n\")\n",
        "print(f\"Średnie żywiec : {np.mean(napoje_data['żywiec'])} - fanta : {np.mean(napoje_data['fanta '])}\\nBadanie wariancji testem Levene pomiędzy żywiec - fanta:\\n{scs.levene(napoje_data['żywiec'],napoje_data['fanta '])}\\nBadanie wariancji testem Barlett pomiędzy żywiec - fanta:\\n{scs.bartlett(napoje_data['żywiec'],napoje_data['fanta '])}\\n\")\n",
        "print(f\"Średnie regionalne : {np.mean(napoje_data['regionalne'])} - cola : {np.mean(napoje_data['cola'])}\\nBadanie wariancji testem Levene pomiędzy regionalne - cola:\\n{scs.levene(napoje_data['regionalne'],napoje_data['cola'])}\\nBadanie wariancji testem Barlett pomiędzy regionalne - cola:\\n{scs.bartlett(napoje_data['regionalne'],napoje_data['cola'])}\\n\")\n"
      ],
      "execution_count": 20,
      "outputs": [
        {
          "output_type": "stream",
          "text": [
            "Średnie okocim : 60679.833333333336 - lech : 61091.348958333336\n",
            "Badanie wariancji testem Levene pomiędzy okocim - lech:\n",
            "LeveneResult(statistic=1.191182232831977, pvalue=0.2757791126546958)\n",
            "Badanie wariancji testem Barlett pomiędzy okocim - lech:\n",
            "BartlettResult(statistic=0.5885730279833224, pvalue=0.442971451029742)\n",
            "\n",
            "Średnie żywiec : 176803.38020833334 - fanta : 43395.59375\n",
            "Badanie wariancji testem Levene pomiędzy żywiec - fanta:\n",
            "LeveneResult(statistic=1.4760992846958803, pvalue=0.2251362462983421)\n",
            "Badanie wariancji testem Barlett pomiędzy żywiec - fanta:\n",
            "BartlettResult(statistic=2.531635763972335, pvalue=0.11158448782952231)\n",
            "\n",
            "Średnie regionalne : 48668.036458333336 - cola : 226389.46875\n",
            "Badanie wariancji testem Levene pomiędzy regionalne - cola:\n",
            "LeveneResult(statistic=83.85984593010029, pvalue=3.275749775904902e-18)\n",
            "Badanie wariancji testem Barlett pomiędzy regionalne - cola:\n",
            "BartlettResult(statistic=121.19645410278127, pvalue=3.4610443460281524e-28)\n",
            "\n"
          ],
          "name": "stdout"
        }
      ]
    },
    {
      "cell_type": "code",
      "metadata": {
        "id": "UJia2O8vuxMy",
        "outputId": "be91fc02-4cf3-47ef-e22f-8232d68f60c4",
        "colab": {
          "base_uri": "https://localhost:8080/",
          "height": 237
        }
      },
      "source": [
        "\"\"\"task 6\"\"\"\n",
        "\n",
        "regionalne_2001 = []\n",
        "regionalne_2015 = []\n",
        "for mies, year in enumerate(napoje_data['rok']):\n",
        "  if year == 2001:\n",
        "    regionalne_2001.append(napoje_data['regionalne'][mies])\n",
        "  elif year == 2015:\n",
        "    regionalne_2015.append(napoje_data['regionalne'][mies])\n",
        "print(f\"Średnia piw regionalnych w 2001: {np.mean(regionalne_2001)}\")\n",
        "print(f\"Średnia piw regionalnych w 2015: {np.mean(regionalne_2015)}\")\n",
        "print(f\"Średnia piw regionalnych pomiędzy 2001 a 2015: {np.mean(napoje_data[napoje_data['rok']>=2001][napoje_data['rok']<=2015]['regionalne'])}\")\n",
        "print(f\"Badanie równości średnich zależnych piw regionalnych pomiędzy rokiem 2001 a 2015:\\n{scs.ttest_rel(regionalne_2001, regionalne_2015)}\\n\")\n",
        "print(f\"Badanie równości średnich niezależnych piw regionalnych pomiędzy rokiem 2001 a 2015:\\n{scs.ttest_ind(regionalne_2001, regionalne_2015)}\\n\")\n",
        "print(f\"Badanie równości średnich niezależnych piw regionalnych pomiędzy rokiem 2015 a latami 2001 - 2015:\\n{scs.ttest_ind(regionalne_2015, napoje_data[napoje_data['rok']>=2001][napoje_data['rok']<=2015]['regionalne'])}\\n\")"
      ],
      "execution_count": 62,
      "outputs": [
        {
          "output_type": "stream",
          "text": [
            "Średnia piw regionalnych w 2001: 45771.916666666664\n",
            "Średnia piw regionalnych w 2015: 52871.666666666664\n",
            "Średnia piw regionalnych pomiędzy 2001 a 2015: 48379.677777777775\n",
            "Badanie równości średnich zależnych piw regionalnych pomiędzy rokiem 2001 a 2015:\n",
            "Ttest_relResult(statistic=-4.981131079425873, pvalue=0.00041469788280755834)\n",
            "\n",
            "Badanie równości średnich niezależnych piw regionalnych pomiędzy rokiem 2001 a 2015:\n",
            "Ttest_indResult(statistic=-3.597778058271827, pvalue=0.0016000242362201897)\n",
            "\n",
            "Badanie równości średnich niezależnych piw regionalnych pomiędzy rokiem 2015 a latami 2001 - 2015:\n",
            "Ttest_indResult(statistic=3.7302954941854574, pvalue=0.0002524231893890597)\n",
            "\n"
          ],
          "name": "stdout"
        }
      ]
    },
    {
      "cell_type": "code",
      "metadata": {
        "id": "xoFzWRaBsinC",
        "outputId": "b82df38b-38aa-476b-a6e2-7d4404496b59",
        "colab": {
          "base_uri": "https://localhost:8080/",
          "height": 182
        }
      },
      "source": [
        "\"\"\"task 7\"\"\"\n",
        "\n",
        "napoje = ['cola', 'fanta ', 'pepsi']\n",
        "napoje_po_reklamie_data = pd.read_csv('/content/drive/My Drive/Statystyka_i_prawdopodobieństwo/zalaczniki_do_zadan_ pliki_csv/napoje_po_reklamie.csv', delimiter=';')\n",
        "for napoj in napoje:\n",
        "  print(f\"Średnia dla {napoj}: w 2016: {np.mean(napoje_data[napoje_data['rok'] == 2016][napoj])}, a po reklamie: {np.mean(napoje_po_reklamie_data[napoj])}\")\n",
        "  print(f\"Badanie równości średnich zależnych sprzed i po reklamie dla {napoj}:\\n{scs.ttest_rel(napoje_data[napoje_data['rok'] == 2016][napoj], napoje_po_reklamie_data[napoj])}\")"
      ],
      "execution_count": 75,
      "outputs": [
        {
          "output_type": "stream",
          "text": [
            "Średnia dla cola: w 2016: 226885.58333333334, a po reklamie: 226457.66666666666\n",
            "Badanie równości średnich zależnych sprzed i po reklamie dla cola:\n",
            "Ttest_relResult(statistic=0.11032676911481809, pvalue=0.9141373808316627)\n",
            "Średnia dla fanta : w 2016: 43282.916666666664, a po reklamie: 42626.5\n",
            "Badanie równości średnich zależnych sprzed i po reklamie dla fanta :\n",
            "Ttest_relResult(statistic=0.3199018672121306, pvalue=0.7550366759257836)\n",
            "Średnia dla pepsi: w 2016: 108726.41666666667, a po reklamie: 109203.83333333333\n",
            "Badanie równości średnich zależnych sprzed i po reklamie dla pepsi:\n",
            "Ttest_relResult(statistic=-0.20520478240138976, pvalue=0.8411601080767367)\n"
          ],
          "name": "stdout"
        }
      ]
    },
    {
      "cell_type": "code",
      "metadata": {
        "id": "7s9k_REHnUUV"
      },
      "source": [
        "\"\"\"additional\"\"\"\n",
        "fig, ax = plt.subplots(1, 1)\n",
        "\n",
        "date =[]\n",
        "for el in range(len(napoje_data['rok'])):\n",
        "  date.append((napoje_data['rok'][el], napoje_data['mies'][el]))\n",
        "x = np.linspace(0, 191, len(napoje_data['mies']))\n",
        "# rv = scs.norm(loc=0, scale=2)\n",
        "pepsi = napoje_data['pepsi'].mean()\n",
        "ax.plot(x, napoje_data['pepsi'], alpha=0.7, label='pepsi')\n",
        "ax.plot(x, napoje_data['fanta '], alpha=0.7, label='fanta')\n",
        "ax.plot(x, napoje_data['żywiec'], alpha=0.7, label='żywiec')\n",
        "ax.plot(x, napoje_data['okocim'], alpha=0.7, label='okocim')\n",
        "ax.plot(x, napoje_data['regionalne'], alpha=0.7, label='regionalne')\n",
        "ax.plot(x, napoje_data['cola'], alpha=0.7, label='cola')\n",
        "ax.plot(x, napoje_data['lech'], alpha=0.7, label='lech')\n",
        "ax.legend(loc='best')\n",
        "plt.show()"
      ],
      "execution_count": null,
      "outputs": []
    },
    {
      "cell_type": "markdown",
      "metadata": {
        "id": "cErV_Dwo5wAI"
      },
      "source": [
        "Testy nieparametryczne"
      ]
    },
    {
      "cell_type": "code",
      "metadata": {
        "id": "ouhPQj4J5ziB",
        "outputId": "89c3d328-04ab-49f2-ab72-4e7c14c4c687",
        "colab": {
          "base_uri": "https://localhost:8080/",
          "height": 54
        }
      },
      "source": [
        "\"\"\"task 1\"\"\"\n",
        "\n",
        "napoje_data = pd.read_csv('/content/drive/My Drive/Statystyka_i_prawdopodobieństwo/zalaczniki_do_zadan_ pliki_csv/napoje.csv', delimiter=';')\n",
        "regionalne_2001_2006 = napoje_data[napoje_data['rok'] >= 2001][napoje_data['rok'] <= 2006]['regionalne']\n",
        "lech_2001_2006 = napoje_data[napoje_data['rok'] >= 2001][napoje_data['rok'] <= 2006]['lech']\n",
        "print(f\"Średnie dla regionalne: {np.mean(regionalne_2001_2006)} i lech: {np.mean(lech_2001_2006)}\")\n",
        "print(f\"Badanie równości średnich dla regionalnych i lecha w latach 2001 i 2006: {scs.mannwhitneyu(regionalne_2001_2006, lech_2001_2006)}\")"
      ],
      "execution_count": 84,
      "outputs": [
        {
          "output_type": "stream",
          "text": [
            "Średnie dla regionalne: 46346.59722222222 i lech: 61317.166666666664\n",
            "Badanie równości średnich dla regionalnych i lecha w latach 2001 i 2006: MannwhitneyuResult(statistic=2.0, pvalue=2.1721722606318477e-25)\n"
          ],
          "name": "stdout"
        }
      ]
    },
    {
      "cell_type": "code",
      "metadata": {
        "id": "WhF0fcnl_5jB",
        "outputId": "7288ee58-bea7-4d14-aeb5-f4ec7a1eb5af",
        "colab": {
          "base_uri": "https://localhost:8080/",
          "height": 237
        }
      },
      "source": [
        "\"\"\"task 2\"\"\"\n",
        "\n",
        "agresja_data = pd.read_csv('/content/drive/My Drive/Statystyka_i_prawdopodobieństwo/zalaczniki_do_zadan_ pliki_csv/Aggressn.csv', delimiter=';', sep='\\t', skiprows=1, engine='python')\n",
        "print(f\"Średni poziom agresji u CHŁOPCÓW: {np.mean(agresja_data[agresja_data['P�E�'] == 'CH�OPIEC']['AGRESJA'])} i DZIEWCZYNEK: {np.mean(agresja_data[agresja_data['P�E�'] == 'DZIEWCZYNKA']['AGRESJA'])}\")\n",
        "print(\"Badanie normalności rozkładu agresji chłopców i dziewczynek\")\n",
        "print(f\"Agresja CHŁOPCÓW: {scs.normaltest(agresja_data[agresja_data['P�E�'] == 'CH�OPIEC']['AGRESJA'])} a testem SHAPIRO: {scs.shapiro(agresja_data[agresja_data['P�E�'] == 'CH�OPIEC']['AGRESJA'])}\")\n",
        "print(f\"Agresja DZIEWCZYNEK: {scs.normaltest(agresja_data[agresja_data['P�E�'] == 'DZIEWCZYNKA']['AGRESJA'])} a testem SHAPIRO: {scs.shapiro(agresja_data[agresja_data['P�E�'] == 'DZIEWCZYNKA']['AGRESJA'])}\")\n",
        "print(f\"Badanie równości wariancji agresji metodą Barletta:\\n{scs.bartlett(agresja_data[agresja_data['P�E�'] == 'CH�OPIEC']['AGRESJA'], agresja_data[agresja_data['P�E�'] == 'DZIEWCZYNKA']['AGRESJA'])}\")\n",
        "print(f\"Badanie równości wariancji agresji metodą Levena:\\n{scs.levene(agresja_data[agresja_data['P�E�'] == 'CH�OPIEC']['AGRESJA'], agresja_data[agresja_data['P�E�'] == 'DZIEWCZYNKA']['AGRESJA'])}\")\n",
        "print(f\"Badanie równości średniej agresji chłopców i dziewczynek:\\n{scs.ttest_ind(agresja_data[agresja_data['P�E�'] == 'CH�OPIEC']['AGRESJA'], agresja_data[agresja_data['P�E�'] == 'DZIEWCZYNKA']['AGRESJA'])}\")"
      ],
      "execution_count": 107,
      "outputs": [
        {
          "output_type": "stream",
          "text": [
            "Średni poziom agresji u CHŁOPCÓW: 80.75 i DZIEWCZYNEK: 26.666666666666668\n",
            "Badanie normalności rozkładu agresji chłopców i dziewczynek\n",
            "Agresja CHŁOPCÓW: NormaltestResult(statistic=1.1088360027297743, pvalue=0.5744064677133432) a testem SHAPIRO: (0.9343680143356323, 0.42871570587158203)\n",
            "Agresja DZIEWCZYNEK: NormaltestResult(statistic=1.9459160689303192, pvalue=0.3779633542596646) a testem SHAPIRO: (0.89183509349823, 0.12443990260362625)\n",
            "Badanie równości wariancji agresji metodą Barletta:\n",
            "BartlettResult(statistic=3.8913826757107883, pvalue=0.04853445082465738)\n",
            "Badanie równości wariancji agresji metodą Leneva:\n",
            "LeveneResult(statistic=2.9475676433478206, pvalue=0.10005502128909231)\n",
            "Badanie równości średniej agresji chłopców i dziewczynek:\n",
            "Ttest_indResult(statistic=5.192725143888218, pvalue=3.3078399999803046e-05)\n"
          ],
          "name": "stdout"
        },
        {
          "output_type": "stream",
          "text": [
            "/usr/local/lib/python3.6/dist-packages/scipy/stats/stats.py:1535: UserWarning: kurtosistest only valid for n>=20 ... continuing anyway, n=12\n",
            "  \"anyway, n=%i\" % int(n))\n"
          ],
          "name": "stderr"
        }
      ]
    }
  ]
}